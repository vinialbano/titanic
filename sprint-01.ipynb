{
 "cells": [
  {
   "cell_type": "markdown",
   "id": "c4f89852-eddf-4ffb-ae86-9a253d1ed8ea",
   "metadata": {},
   "source": [
    "# **D2APR: Aprendizado de Máquina e Reconhecimento de Padrões** (IFSP, Campinas)\n",
    "\n",
    "**Created by:**<br>\n",
    "Vinícius Albano ([@vinialbano](https://github.com/vinialbano)) - CP3013677 <br>\n",
    "Rodrigo Barros ([@rpbarros](https://github.com/rpbarros)) - CP3013502 <br>\n",
    "Catia Tondolo  ([@ ](https://github.com/tondoloc)) - CP3013\n",
    "\n",
    "<a rel=\"license\" href=\"http://creativecommons.org/licenses/by-nc-sa/4.0/\"><img alt=\"Creative Commons License\" style=\"border-width:0\" src=\"https://i.creativecommons.org/l/by-nc-sa/4.0/88x31.png\" /></a><br />This work is licensed under a <a rel=\"license\" href=\"http://creativecommons.org/licenses/by-nc-sa/4.0/\">Creative Commons Attribution-NonCommercial-ShareAlike 4.0 International License</a>."
   ]
  },
  {
   "cell_type": "markdown",
   "id": "68bad0f0-f1ce-41d8-b2d4-727e196092d6",
   "metadata": {},
   "source": [
    "<span style='font-size: 2.5em'><b>Titanic - Machine Learning from Disaster 🚢</b></span><br/>\n",
    "<span style='font-size: 1.5em'>Predict survival on the Titanic.</span>\n",
    "\n",
    "<img src=\"https://upload.wikimedia.org/wikipedia/commons/thumb/f/fd/RMS_Titanic_3.jpg/640px-RMS_Titanic_3.jpg\">\n",
    "\n",
    "---\n",
    "\n"
   ]
  },
  {
   "cell_type": "markdown",
   "id": "2f6a018b-4461-4f33-9b1e-e631f35fce03",
   "metadata": {},
   "source": [
    "## 0. Imports and default settings for plotting"
   ]
  },
  {
   "cell_type": "code",
   "execution_count": 1,
   "id": "5151324c-868e-4433-b6d7-105e2ef88b52",
   "metadata": {},
   "outputs": [],
   "source": [
    "import numpy as np\n",
    "import pandas as pd\n",
    "import matplotlib.pyplot as plt\n",
    "import seaborn as sns\n",
    "\n",
    "pd.set_option(\"display.max_rows\", 150)\n",
    "\n",
    "sns.set_theme(style=\"whitegrid\")\n",
    "\n",
    "params = {'legend.fontsize': 'x-large',\n",
    "          'figure.figsize': (15, 5),\n",
    "          'axes.labelsize': 'x-large',\n",
    "          'axes.titlesize':'x-large',\n",
    "          'xtick.labelsize':'x-large',\n",
    "          'ytick.labelsize':'x-large'}\n",
    "plt.rcParams.update(params)"
   ]
  },
  {
   "cell_type": "markdown",
   "id": "ce8825c7-355b-481d-ab66-9de8c0fc2cb4",
   "metadata": {},
   "source": [
    "## 🔲 1. Frame the Problem\n",
    "\n",
    "### 📄 1.1. Context\n",
    "\n",
    "The sinking of the Titanic is one of the most infamous shipwrecks in history.\n",
    "\n",
    "RMS Titanic was a British passenger liner operated by the White Star Line. Its construction took about two years and cost 7.5 million dollars. Considering nowdays currency, this value would be approximately [250 billion dolars](https://www.in2013dollars.com/us/inflation/1900?amount=7500000). It was designed to be the safest and most luxurious ship of its age, gaining a reputation for being \"unsinkable.\"\n",
    "\n",
    "The Titanic launched in 1911 at 269 meters long, 28 meters wide, and 53 meters high, being the largest ship afloat at the time. It operated with a crew of 892 people and could carry up to 2435 passengers (spread across the three available classes).\n",
    "\n",
    "On April 15, 1912, during its maiden voyage, from Southampton, UK, to New York City, the Titanic sank after colliding with an iceberg. There were not enough lifeboats for everyone on board, resulting in the death of 1502 out of 2224 passengers and crew.\n",
    "\n",
    "The sinking of the Titanic had as contributing factors natural causes (such as the climate) and human causes (neglect and overconfidence). Regardless of the reasons, the fact is that its wreckage killed fifteen hundreds of people.\n",
    "\n",
    "Although those who escaped with their lives had their fair share of luck, some groups of people were more likely to escape death than others. For example, women, children and 1st class passengers. Thus, it may be some pattern that can be identified and extract from the raw data.\n",
    "\n",
    "**References:** <br/>\n",
    "\n",
    "[Titanic - Wikipedia](https://en.wikipedia.org/wiki/Titanic)"
   ]
  },
  {
   "cell_type": "markdown",
   "id": "6876f6bf-3b2d-40cf-b2c0-d1de99bf6349",
   "metadata": {},
   "source": [
    "### 🧠 1.2. Challenge\n",
    "\n",
    "#### 🎯 **Objective:**\n",
    "**Use machine learning to create a model that predicts which passengers survived the Titanic shipwreck.** <br/>\n",
    "The usage of this toy problem available on Kaggle allows to study and compare different classification algorithms and ML techniques.\n",
    "\n",
    "#### **Baseline:**\n",
    "Many competitors on Kaggle were able to perfectly predict all the passengers that survived. That is the benchmark for this study.\n",
    "\n",
    "#### **Solution Planning:**\n",
    "- **Classification problem**\n",
    "- Metrics:\n",
    "    - Accuracy\n",
    "    - Precision\n",
    "    - Recall\n",
    "    - F1 Score\n",
    "    - ROC Curve\n",
    "    - AUC\n",
    "- Data sources:\n",
    "    - [Titanic - Machine Learning from Disaster](https://www.kaggle.com/c/titanic)\n",
    "- No assumptions\n",
    "- Project deliverable:\n",
    "    - A simple exploratory data analysis\n",
    "    - **A ML system/model** launched in _production_ <br/><br/>"
   ]
  },
  {
   "cell_type": "markdown",
   "id": "3ac8f40f-954a-4d04-b76b-0277a00de298",
   "metadata": {},
   "source": [
    "## 💽 2. Get the Data\n",
    "\n",
    "The considered dataset contains information of 1,309 passengers of the Titanic, including personal (e.g., `Name`, `Sex`, `Age`), and trip-related data (e.g., `Ticket`, `Fare`, `Cabin`). The dataset was previously split into train and test datasets, containing 891 and 418 observations each, respectivelly, where the first indicates if the passenger survived and the second doesn't.\n",
    "\n",
    "This dataset does not have legal obligations and sensitive information.\n",
    "\n",
    "### 2.1. Download the Data\n",
    "\n",
    "Titanic dataset is available at this [Kaggle repository](https://www.kaggle.com/c/titanic).\n",
    "\n",
    "### 2.2. Load the Data"
   ]
  },
  {
   "cell_type": "code",
   "execution_count": 2,
   "id": "7f97ba52-4ce4-425c-b623-3f674cd02e9a",
   "metadata": {},
   "outputs": [],
   "source": [
    "import pandas as pd\n",
    "df_train = pd.read_csv('./datasets/train.csv')\n",
    "df_test = pd.read_csv('./datasets/test.csv')"
   ]
  },
  {
   "cell_type": "code",
   "execution_count": 3,
   "id": "9cd7bf66-dc89-4a12-b2d0-0ff9c590f3ae",
   "metadata": {},
   "outputs": [
    {
     "data": {
      "text/html": [
       "<div>\n",
       "<style scoped>\n",
       "    .dataframe tbody tr th:only-of-type {\n",
       "        vertical-align: middle;\n",
       "    }\n",
       "\n",
       "    .dataframe tbody tr th {\n",
       "        vertical-align: top;\n",
       "    }\n",
       "\n",
       "    .dataframe thead th {\n",
       "        text-align: right;\n",
       "    }\n",
       "</style>\n",
       "<table border=\"1\" class=\"dataframe\">\n",
       "  <thead>\n",
       "    <tr style=\"text-align: right;\">\n",
       "      <th></th>\n",
       "      <th>PassengerId</th>\n",
       "      <th>Survived</th>\n",
       "      <th>Pclass</th>\n",
       "      <th>Name</th>\n",
       "      <th>Sex</th>\n",
       "      <th>Age</th>\n",
       "      <th>SibSp</th>\n",
       "      <th>Parch</th>\n",
       "      <th>Ticket</th>\n",
       "      <th>Fare</th>\n",
       "      <th>Cabin</th>\n",
       "      <th>Embarked</th>\n",
       "    </tr>\n",
       "  </thead>\n",
       "  <tbody>\n",
       "    <tr>\n",
       "      <th>0</th>\n",
       "      <td>1</td>\n",
       "      <td>0</td>\n",
       "      <td>3</td>\n",
       "      <td>Braund, Mr. Owen Harris</td>\n",
       "      <td>male</td>\n",
       "      <td>22.0</td>\n",
       "      <td>1</td>\n",
       "      <td>0</td>\n",
       "      <td>A/5 21171</td>\n",
       "      <td>7.2500</td>\n",
       "      <td>NaN</td>\n",
       "      <td>S</td>\n",
       "    </tr>\n",
       "    <tr>\n",
       "      <th>1</th>\n",
       "      <td>2</td>\n",
       "      <td>1</td>\n",
       "      <td>1</td>\n",
       "      <td>Cumings, Mrs. John Bradley (Florence Briggs Th...</td>\n",
       "      <td>female</td>\n",
       "      <td>38.0</td>\n",
       "      <td>1</td>\n",
       "      <td>0</td>\n",
       "      <td>PC 17599</td>\n",
       "      <td>71.2833</td>\n",
       "      <td>C85</td>\n",
       "      <td>C</td>\n",
       "    </tr>\n",
       "    <tr>\n",
       "      <th>2</th>\n",
       "      <td>3</td>\n",
       "      <td>1</td>\n",
       "      <td>3</td>\n",
       "      <td>Heikkinen, Miss. Laina</td>\n",
       "      <td>female</td>\n",
       "      <td>26.0</td>\n",
       "      <td>0</td>\n",
       "      <td>0</td>\n",
       "      <td>STON/O2. 3101282</td>\n",
       "      <td>7.9250</td>\n",
       "      <td>NaN</td>\n",
       "      <td>S</td>\n",
       "    </tr>\n",
       "    <tr>\n",
       "      <th>3</th>\n",
       "      <td>4</td>\n",
       "      <td>1</td>\n",
       "      <td>1</td>\n",
       "      <td>Futrelle, Mrs. Jacques Heath (Lily May Peel)</td>\n",
       "      <td>female</td>\n",
       "      <td>35.0</td>\n",
       "      <td>1</td>\n",
       "      <td>0</td>\n",
       "      <td>113803</td>\n",
       "      <td>53.1000</td>\n",
       "      <td>C123</td>\n",
       "      <td>S</td>\n",
       "    </tr>\n",
       "    <tr>\n",
       "      <th>4</th>\n",
       "      <td>5</td>\n",
       "      <td>0</td>\n",
       "      <td>3</td>\n",
       "      <td>Allen, Mr. William Henry</td>\n",
       "      <td>male</td>\n",
       "      <td>35.0</td>\n",
       "      <td>0</td>\n",
       "      <td>0</td>\n",
       "      <td>373450</td>\n",
       "      <td>8.0500</td>\n",
       "      <td>NaN</td>\n",
       "      <td>S</td>\n",
       "    </tr>\n",
       "  </tbody>\n",
       "</table>\n",
       "</div>"
      ],
      "text/plain": [
       "   PassengerId  Survived  Pclass  \\\n",
       "0            1         0       3   \n",
       "1            2         1       1   \n",
       "2            3         1       3   \n",
       "3            4         1       1   \n",
       "4            5         0       3   \n",
       "\n",
       "                                                Name     Sex   Age  SibSp  \\\n",
       "0                            Braund, Mr. Owen Harris    male  22.0      1   \n",
       "1  Cumings, Mrs. John Bradley (Florence Briggs Th...  female  38.0      1   \n",
       "2                             Heikkinen, Miss. Laina  female  26.0      0   \n",
       "3       Futrelle, Mrs. Jacques Heath (Lily May Peel)  female  35.0      1   \n",
       "4                           Allen, Mr. William Henry    male  35.0      0   \n",
       "\n",
       "   Parch            Ticket     Fare Cabin Embarked  \n",
       "0      0         A/5 21171   7.2500   NaN        S  \n",
       "1      0          PC 17599  71.2833   C85        C  \n",
       "2      0  STON/O2. 3101282   7.9250   NaN        S  \n",
       "3      0            113803  53.1000  C123        S  \n",
       "4      0            373450   8.0500   NaN        S  "
      ]
     },
     "execution_count": 3,
     "metadata": {},
     "output_type": "execute_result"
    }
   ],
   "source": [
    "df_train.head()"
   ]
  },
  {
   "cell_type": "markdown",
   "id": "575d92b5-960c-40d2-93c0-daefd60a1f70",
   "metadata": {},
   "source": [
    "### 2.3. Take a quick look at the data structure"
   ]
  },
  {
   "cell_type": "code",
   "execution_count": 4,
   "id": "e6696336-cf5d-4520-9f6b-eda29e7471d0",
   "metadata": {},
   "outputs": [
    {
     "name": "stdout",
     "output_type": "stream",
     "text": [
      "<class 'pandas.core.frame.DataFrame'>\n",
      "RangeIndex: 891 entries, 0 to 890\n",
      "Data columns (total 12 columns):\n",
      " #   Column       Non-Null Count  Dtype  \n",
      "---  ------       --------------  -----  \n",
      " 0   PassengerId  891 non-null    int64  \n",
      " 1   Survived     891 non-null    int64  \n",
      " 2   Pclass       891 non-null    int64  \n",
      " 3   Name         891 non-null    object \n",
      " 4   Sex          891 non-null    object \n",
      " 5   Age          714 non-null    float64\n",
      " 6   SibSp        891 non-null    int64  \n",
      " 7   Parch        891 non-null    int64  \n",
      " 8   Ticket       891 non-null    object \n",
      " 9   Fare         891 non-null    float64\n",
      " 10  Cabin        204 non-null    object \n",
      " 11  Embarked     889 non-null    object \n",
      "dtypes: float64(2), int64(5), object(5)\n",
      "memory usage: 83.7+ KB\n"
     ]
    }
   ],
   "source": [
    "df_train.info()"
   ]
  },
  {
   "cell_type": "code",
   "execution_count": 5,
   "id": "aa740081-d438-4adf-8a2e-5cea7d1678b0",
   "metadata": {},
   "outputs": [
    {
     "name": "stdout",
     "output_type": "stream",
     "text": [
      "<class 'pandas.core.frame.DataFrame'>\n",
      "RangeIndex: 418 entries, 0 to 417\n",
      "Data columns (total 11 columns):\n",
      " #   Column       Non-Null Count  Dtype  \n",
      "---  ------       --------------  -----  \n",
      " 0   PassengerId  418 non-null    int64  \n",
      " 1   Pclass       418 non-null    int64  \n",
      " 2   Name         418 non-null    object \n",
      " 3   Sex          418 non-null    object \n",
      " 4   Age          332 non-null    float64\n",
      " 5   SibSp        418 non-null    int64  \n",
      " 6   Parch        418 non-null    int64  \n",
      " 7   Ticket       418 non-null    object \n",
      " 8   Fare         417 non-null    float64\n",
      " 9   Cabin        91 non-null     object \n",
      " 10  Embarked     418 non-null    object \n",
      "dtypes: float64(2), int64(4), object(5)\n",
      "memory usage: 36.0+ KB\n"
     ]
    }
   ],
   "source": [
    "df_test.info()"
   ]
  },
  {
   "cell_type": "markdown",
   "id": "85693bce-c040-46cb-8179-e42c408db8c2",
   "metadata": {},
   "source": [
    "Each row corresponds to a passenger on Titanic that may have survived or not.\n",
    "\n",
    "Each passenger is represented by **12 attributes** (5 numeric and 7 categorical).\n",
    "\n",
    "* `PassengerId`: a unique identifier.\n",
    "* `Survived`: Survival (0 = No, 1 = Yes) - ***only in the train dataset***.\n",
    "* `Pclass`: Ticket class (1 = 1st, 2 = 2nd, 3 = 3rd).\n",
    "* `Name`: The name of the passenger.\n",
    "* `Sex`: The sex of the passenger.\n",
    "* `Age`: Age of the passenger in years.\n",
    "* `SibSp`: Number of siblings / spouses aboard the Titanic.\n",
    "* `Parch`: Number of parents / children aboard the Titanic.dd\n",
    "* `Ticket`: Ticket number.\n",
    "* `Fare`: Passenger fare.\n",
    "* `Cabin`: Cabin number.\n",
    "* `Embarked`: Port of Embarkation (C = Cherbourg, Q = Queenstown, S = Southampton).\n",
    "\n",
    "There are **891 instances** in the **train** dataset, with the following **missing features**:\n",
    "* `Age` - missing in around 20% of the instances.\n",
    "* `Cabin` - missing in around 77% of the instances.\n",
    "* `Embarked` - missing 2 observations.\n",
    "\n",
    "There are **418 instances** in the **test** dataset, with the following **missing features**:\n",
    "* `Age` - missing in around 20% of the instances.\n",
    "* `Cabin` - missing in around 78% of the instances.\n",
    "* `Fare` - missing 1 observation. \n",
    "\n",
    "Since the **test** dataset should remain untouched, no information will be get from it."
   ]
  },
  {
   "cell_type": "markdown",
   "id": "a2c98c3d",
   "metadata": {},
   "source": [
    "Each row corresponds to a passenger on Titanic that may have survived or not.\n",
    "\n",
    "Each passenger is represented by **12 attributes** (5 numeric and 7 categorical).\n",
    "\n",
    "<table style=\"border-collapse: collapse;font-size: 14px; width:700px;\">\n",
    "  <tr>\n",
    "    <th style=\"background-color:#D3DBDD;\">Feature</th>\n",
    "    <th style=\"width:500px; background-color:#D3DBDD;\">Description</th>\n",
    "    <th style=\"background-color:#D3DBDD;\">Type</th>\n",
    "  </tr>\n",
    "  <tr>\n",
    "    <td>Passengerid</td>\n",
    "    <td>Passenger identification number</td>\n",
    "    <td>Numeric</td>\n",
    "  </tr>    \n",
    "  <tr>\n",
    "    <td>Survival</td>\n",
    "    <td>Did Survive the incident?</td>\n",
    "    <td>Categorical</td>\n",
    "  </tr>\n",
    "  <tr>\n",
    "    <td>Pclass </td>\n",
    "    <td>Class of passenger</td>\n",
    "    <td>Categorical</td>\n",
    "  </tr>\n",
    "  <tr>\n",
    "    <td>Name</td>\n",
    "    <td>Passenger´s name, includes passenger´s title</td>\n",
    "    <td>Categorical</td>\n",
    "  </tr>\n",
    "  <tr>\n",
    "    <td>Sex </td>\n",
    "    <td>Gender</td>\n",
    "    <td>Categorical</td>\n",
    "  </tr>\n",
    "  <tr>\n",
    "    <td>Age </td>\n",
    "    <td>Age of the passenger</td>\n",
    "    <td>Numeric</td>\n",
    "  </tr>\n",
    "  <tr>\n",
    "    <td>Sibsp </td>\n",
    "    <td>No of siblings / spouses aboard the Titanic</td>\n",
    "    <td>Numeric</td>\n",
    "  </tr>\n",
    "  <tr>\n",
    "    <td>Parch</td>\n",
    "    <td>No of parents / children aboard the Titanic</td>\n",
    "    <td>Numeric</td>\n",
    "  </tr>\n",
    "  <tr>\n",
    "    <td>Ticket</td>\n",
    "    <td>Unique ticket number</td>\n",
    "    <td>Categorical</td>\n",
    "  </tr>\n",
    "  <tr>\n",
    "    <td>Fare</td>\n",
    "    <td>Passenger fare</td>\n",
    "    <td>Numeric</td>\n",
    "  </tr>\n",
    "  <tr>\n",
    "    <td>Cabin</td>\n",
    "    <td>Cabin number</td>\n",
    "    <td>Categorical</td>\n",
    "  </tr>\n",
    "  <tr>\n",
    "    <td>Embarked</td>\n",
    "    <td>Boarding Port</td>\n",
    "    <td>Categorical</td>\n",
    "  </tr>\n",
    "</table>\n",
    "\n",
    "There are **891 instances** in the **train** dataset, with the following **missing features**:\n",
    "* `Age` - missing in around 20% of the instances.\n",
    "* `Cabin` - missing in around 77% of the instances.\n",
    "* `Embarked` - missing 2 observations.\n",
    "\n",
    "There are **418 instances** in the **test** dataset, with the following **missing features**:\n",
    "* `Age` - missing in around 20% of the instances.\n",
    "* `Cabin` - missing in around 78% of the instances.\n",
    "* `Fare` - missing 1 observation. \n",
    "\n",
    "Since the **test** dataset should remain untouched, no information will be get from it."
   ]
  },
  {
   "cell_type": "code",
   "execution_count": 6,
   "id": "8a0ef8fe-75c6-4d28-b4bf-3dc7a316144a",
   "metadata": {},
   "outputs": [],
   "source": [
    "# Fixing wrong data types\n",
    "df_train['Survived'] = df_train['Survived'].astype('bool')"
   ]
  },
  {
   "cell_type": "code",
   "execution_count": 7,
   "id": "f251fec5-8ff9-4323-85d1-5fb4304b7461",
   "metadata": {},
   "outputs": [
    {
     "data": {
      "text/html": [
       "<div>\n",
       "<style scoped>\n",
       "    .dataframe tbody tr th:only-of-type {\n",
       "        vertical-align: middle;\n",
       "    }\n",
       "\n",
       "    .dataframe tbody tr th {\n",
       "        vertical-align: top;\n",
       "    }\n",
       "\n",
       "    .dataframe thead th {\n",
       "        text-align: right;\n",
       "    }\n",
       "</style>\n",
       "<table border=\"1\" class=\"dataframe\">\n",
       "  <thead>\n",
       "    <tr style=\"text-align: right;\">\n",
       "      <th></th>\n",
       "      <th>PassengerId</th>\n",
       "      <th>Pclass</th>\n",
       "      <th>Age</th>\n",
       "      <th>SibSp</th>\n",
       "      <th>Parch</th>\n",
       "      <th>Fare</th>\n",
       "    </tr>\n",
       "  </thead>\n",
       "  <tbody>\n",
       "    <tr>\n",
       "      <th>count</th>\n",
       "      <td>891.000000</td>\n",
       "      <td>891.000000</td>\n",
       "      <td>714.000000</td>\n",
       "      <td>891.000000</td>\n",
       "      <td>891.000000</td>\n",
       "      <td>891.000000</td>\n",
       "    </tr>\n",
       "    <tr>\n",
       "      <th>mean</th>\n",
       "      <td>446.000000</td>\n",
       "      <td>2.308642</td>\n",
       "      <td>29.699118</td>\n",
       "      <td>0.523008</td>\n",
       "      <td>0.381594</td>\n",
       "      <td>32.204208</td>\n",
       "    </tr>\n",
       "    <tr>\n",
       "      <th>std</th>\n",
       "      <td>257.353842</td>\n",
       "      <td>0.836071</td>\n",
       "      <td>14.526497</td>\n",
       "      <td>1.102743</td>\n",
       "      <td>0.806057</td>\n",
       "      <td>49.693429</td>\n",
       "    </tr>\n",
       "    <tr>\n",
       "      <th>min</th>\n",
       "      <td>1.000000</td>\n",
       "      <td>1.000000</td>\n",
       "      <td>0.420000</td>\n",
       "      <td>0.000000</td>\n",
       "      <td>0.000000</td>\n",
       "      <td>0.000000</td>\n",
       "    </tr>\n",
       "    <tr>\n",
       "      <th>25%</th>\n",
       "      <td>223.500000</td>\n",
       "      <td>2.000000</td>\n",
       "      <td>20.125000</td>\n",
       "      <td>0.000000</td>\n",
       "      <td>0.000000</td>\n",
       "      <td>7.910400</td>\n",
       "    </tr>\n",
       "    <tr>\n",
       "      <th>50%</th>\n",
       "      <td>446.000000</td>\n",
       "      <td>3.000000</td>\n",
       "      <td>28.000000</td>\n",
       "      <td>0.000000</td>\n",
       "      <td>0.000000</td>\n",
       "      <td>14.454200</td>\n",
       "    </tr>\n",
       "    <tr>\n",
       "      <th>75%</th>\n",
       "      <td>668.500000</td>\n",
       "      <td>3.000000</td>\n",
       "      <td>38.000000</td>\n",
       "      <td>1.000000</td>\n",
       "      <td>0.000000</td>\n",
       "      <td>31.000000</td>\n",
       "    </tr>\n",
       "    <tr>\n",
       "      <th>max</th>\n",
       "      <td>891.000000</td>\n",
       "      <td>3.000000</td>\n",
       "      <td>80.000000</td>\n",
       "      <td>8.000000</td>\n",
       "      <td>6.000000</td>\n",
       "      <td>512.329200</td>\n",
       "    </tr>\n",
       "  </tbody>\n",
       "</table>\n",
       "</div>"
      ],
      "text/plain": [
       "       PassengerId      Pclass         Age       SibSp       Parch        Fare\n",
       "count   891.000000  891.000000  714.000000  891.000000  891.000000  891.000000\n",
       "mean    446.000000    2.308642   29.699118    0.523008    0.381594   32.204208\n",
       "std     257.353842    0.836071   14.526497    1.102743    0.806057   49.693429\n",
       "min       1.000000    1.000000    0.420000    0.000000    0.000000    0.000000\n",
       "25%     223.500000    2.000000   20.125000    0.000000    0.000000    7.910400\n",
       "50%     446.000000    3.000000   28.000000    0.000000    0.000000   14.454200\n",
       "75%     668.500000    3.000000   38.000000    1.000000    0.000000   31.000000\n",
       "max     891.000000    3.000000   80.000000    8.000000    6.000000  512.329200"
      ]
     },
     "execution_count": 7,
     "metadata": {},
     "output_type": "execute_result"
    }
   ],
   "source": [
    "df_train.describe()"
   ]
  },
  {
   "cell_type": "code",
   "execution_count": 8,
   "id": "dc7d2050-76c8-4966-b47b-503872999c4b",
   "metadata": {},
   "outputs": [
    {
     "data": {
      "text/html": [
       "<div>\n",
       "<style scoped>\n",
       "    .dataframe tbody tr th:only-of-type {\n",
       "        vertical-align: middle;\n",
       "    }\n",
       "\n",
       "    .dataframe tbody tr th {\n",
       "        vertical-align: top;\n",
       "    }\n",
       "\n",
       "    .dataframe thead th {\n",
       "        text-align: right;\n",
       "    }\n",
       "</style>\n",
       "<table border=\"1\" class=\"dataframe\">\n",
       "  <thead>\n",
       "    <tr style=\"text-align: right;\">\n",
       "      <th></th>\n",
       "      <th>Name</th>\n",
       "      <th>Sex</th>\n",
       "      <th>Ticket</th>\n",
       "      <th>Cabin</th>\n",
       "      <th>Embarked</th>\n",
       "    </tr>\n",
       "  </thead>\n",
       "  <tbody>\n",
       "    <tr>\n",
       "      <th>count</th>\n",
       "      <td>891</td>\n",
       "      <td>891</td>\n",
       "      <td>891</td>\n",
       "      <td>204</td>\n",
       "      <td>889</td>\n",
       "    </tr>\n",
       "    <tr>\n",
       "      <th>unique</th>\n",
       "      <td>891</td>\n",
       "      <td>2</td>\n",
       "      <td>681</td>\n",
       "      <td>147</td>\n",
       "      <td>3</td>\n",
       "    </tr>\n",
       "    <tr>\n",
       "      <th>top</th>\n",
       "      <td>McGowan, Miss. Anna \"Annie\"</td>\n",
       "      <td>male</td>\n",
       "      <td>347082</td>\n",
       "      <td>G6</td>\n",
       "      <td>S</td>\n",
       "    </tr>\n",
       "    <tr>\n",
       "      <th>freq</th>\n",
       "      <td>1</td>\n",
       "      <td>577</td>\n",
       "      <td>7</td>\n",
       "      <td>4</td>\n",
       "      <td>644</td>\n",
       "    </tr>\n",
       "  </tbody>\n",
       "</table>\n",
       "</div>"
      ],
      "text/plain": [
       "                               Name   Sex  Ticket Cabin Embarked\n",
       "count                           891   891     891   204      889\n",
       "unique                          891     2     681   147        3\n",
       "top     McGowan, Miss. Anna \"Annie\"  male  347082    G6        S\n",
       "freq                              1   577       7     4      644"
      ]
     },
     "execution_count": 8,
     "metadata": {},
     "output_type": "execute_result"
    }
   ],
   "source": [
    "df_train.describe(include='object')"
   ]
  },
  {
   "cell_type": "code",
   "execution_count": 9,
   "id": "3857f8f8-a443-4728-93db-019556814524",
   "metadata": {},
   "outputs": [
    {
     "data": {
      "image/png": "[encoded data removed]",
      "text/plain": [
       "<Figure size 1080x864 with 6 Axes>"
      ]
     },
     "metadata": {},
     "output_type": "display_data"
    }
   ],
   "source": [
    "# plot a histogram for each numeric attribute from the database\n",
    "df_train.hist(figsize=(15,12))\n",
    "display()"
   ]
  },
  {
   "cell_type": "markdown",
   "id": "4c833347-4ea3-4902-8794-d27114fe22c7",
   "metadata": {},
   "source": [
    "**What was learned so far:**\n",
    "\n",
    "* There were almost twice as many passengers in the 3rd class as 1st class or 2nd class.\n",
    "\n",
    "* Most of the passengers were in their 20s or 30s. There were some children and number of people substancially decreases above 50s.\n",
    "\n",
    "* The majority of the passengers had no siblings/spouses/children/parents on board. However, there were also families with more than 8 relatives on the Titanic.\n",
    "\n",
    "* 75% of the travelers had paid up to 31 USD for the trip. However, there were some very expensive cabins, up to a maximum of 512 USD which corresponds to aproximatelly [17,000 USD nowdays](https://www.in2013dollars.com/us/inflation/1900?amount=512).\n",
    "\n",
    "* There are no outstanding ouliers on this dataset."
   ]
  },
  {
   "cell_type": "code",
   "execution_count": 10,
   "id": "b438fe8c-7554-4f3b-a24b-36a86b9096ac",
   "metadata": {},
   "outputs": [
    {
     "data": {
      "image/png": "[encoded data removed]",
      "text/plain": [
       "<Figure size 1080x288 with 2 Axes>"
      ]
     },
     "metadata": {},
     "output_type": "display_data"
    }
   ],
   "source": [
    "# Checking the distribution of Sex and Embarked\n",
    "fig, (ax1, ax2) = plt.subplots(1,2, figsize=(15,4))\n",
    "\n",
    "sns.countplot(x='Sex', data=df_train, ax=ax1)\n",
    "sns.countplot(x='Embarked', data=df_train, ax=ax2)\n",
    "display()"
   ]
  },
  {
   "cell_type": "markdown",
   "id": "43ae780c-a998-4199-87ee-a2e037c1e331",
   "metadata": {},
   "source": [
    "As there are around 20% of missing data in the `Age` attribute, It is worth to check how this information influences the chance of survival before cleaning the data."
   ]
  },
  {
   "cell_type": "code",
   "execution_count": 11,
   "id": "41fff3ef-8fc1-49e9-9c63-796ef2c15f8f",
   "metadata": {},
   "outputs": [
    {
     "data": {
      "image/png": "[encoded data removed]",
      "text/plain": [
       "<Figure size 1280x360 with 2 Axes>"
      ]
     },
     "metadata": {},
     "output_type": "display_data"
    }
   ],
   "source": [
    "# Checking influence of age on the probability of survival\n",
    "age_survived = sns.FacetGrid(df_train, col='Survived', height=5, aspect=16/9)\n",
    "age_survived.map(sns.histplot, 'Age', stat='density', kde=True, bins=80)\n",
    "display()"
   ]
  },
  {
   "cell_type": "markdown",
   "id": "e704e923",
   "metadata": {},
   "source": [
    "From the histograms above, the survivability is similar and seems to be independent of age. However, there is a peak of survivors of age close to zero. <br>\n",
    "An insight seems to be that young kids had a priority to enter the safeboats."
   ]
  },
  {
   "cell_type": "markdown",
   "id": "7b4ff5d8-3324-4e92-9e74-ebbd85e5d617",
   "metadata": {},
   "source": [
    "### 2.4. Checking for duplicated samples"
   ]
  },
  {
   "cell_type": "code",
   "execution_count": 12,
   "id": "84a90638-1f16-454d-a189-b0914781bb68",
   "metadata": {},
   "outputs": [
    {
     "data": {
      "text/plain": [
       "False"
      ]
     },
     "execution_count": 12,
     "metadata": {},
     "output_type": "execute_result"
    }
   ],
   "source": [
    "df_train.duplicated().any()"
   ]
  },
  {
   "cell_type": "markdown",
   "id": "525e3e57-5bcc-42c4-85ef-d3b1c9ff5d99",
   "metadata": {},
   "source": [
    "There are no duplicated samples (rows) on this dataset."
   ]
  },
  {
   "cell_type": "markdown",
   "id": "b54505f6-43c4-4b76-be96-b59dd11b74f1",
   "metadata": {
    "tags": []
   },
   "source": [
    "## 🧹 3. Data Cleaning"
   ]
  },
  {
   "cell_type": "code",
   "execution_count": 13,
   "id": "55957725-46f1-405d-bba5-b88735e60b7a",
   "metadata": {},
   "outputs": [],
   "source": [
    "df_train_clean = df_train.copy()"
   ]
  },
  {
   "cell_type": "code",
   "execution_count": 14,
   "id": "63e2eb76-6ddb-4ee2-8a8a-dbc6ec3a09b6",
   "metadata": {},
   "outputs": [
    {
     "data": {
      "text/html": [
       "<div>\n",
       "<style scoped>\n",
       "    .dataframe tbody tr th:only-of-type {\n",
       "        vertical-align: middle;\n",
       "    }\n",
       "\n",
       "    .dataframe tbody tr th {\n",
       "        vertical-align: top;\n",
       "    }\n",
       "\n",
       "    .dataframe thead th {\n",
       "        text-align: right;\n",
       "    }\n",
       "</style>\n",
       "<table border=\"1\" class=\"dataframe\">\n",
       "  <thead>\n",
       "    <tr style=\"text-align: right;\">\n",
       "      <th></th>\n",
       "      <th>PassengerId</th>\n",
       "      <th>Survived</th>\n",
       "      <th>Pclass</th>\n",
       "      <th>Name</th>\n",
       "      <th>Sex</th>\n",
       "      <th>Age</th>\n",
       "      <th>SibSp</th>\n",
       "      <th>Parch</th>\n",
       "      <th>Ticket</th>\n",
       "      <th>Fare</th>\n",
       "      <th>Cabin</th>\n",
       "      <th>Embarked</th>\n",
       "    </tr>\n",
       "  </thead>\n",
       "  <tbody>\n",
       "    <tr>\n",
       "      <th>0</th>\n",
       "      <td>1</td>\n",
       "      <td>False</td>\n",
       "      <td>3</td>\n",
       "      <td>Braund, Mr. Owen Harris</td>\n",
       "      <td>male</td>\n",
       "      <td>22.0</td>\n",
       "      <td>1</td>\n",
       "      <td>0</td>\n",
       "      <td>A/5 21171</td>\n",
       "      <td>7.2500</td>\n",
       "      <td>NaN</td>\n",
       "      <td>S</td>\n",
       "    </tr>\n",
       "    <tr>\n",
       "      <th>1</th>\n",
       "      <td>2</td>\n",
       "      <td>True</td>\n",
       "      <td>1</td>\n",
       "      <td>Cumings, Mrs. John Bradley (Florence Briggs Th...</td>\n",
       "      <td>female</td>\n",
       "      <td>38.0</td>\n",
       "      <td>1</td>\n",
       "      <td>0</td>\n",
       "      <td>PC 17599</td>\n",
       "      <td>71.2833</td>\n",
       "      <td>C85</td>\n",
       "      <td>C</td>\n",
       "    </tr>\n",
       "    <tr>\n",
       "      <th>2</th>\n",
       "      <td>3</td>\n",
       "      <td>True</td>\n",
       "      <td>3</td>\n",
       "      <td>Heikkinen, Miss. Laina</td>\n",
       "      <td>female</td>\n",
       "      <td>26.0</td>\n",
       "      <td>0</td>\n",
       "      <td>0</td>\n",
       "      <td>STON/O2. 3101282</td>\n",
       "      <td>7.9250</td>\n",
       "      <td>NaN</td>\n",
       "      <td>S</td>\n",
       "    </tr>\n",
       "    <tr>\n",
       "      <th>3</th>\n",
       "      <td>4</td>\n",
       "      <td>True</td>\n",
       "      <td>1</td>\n",
       "      <td>Futrelle, Mrs. Jacques Heath (Lily May Peel)</td>\n",
       "      <td>female</td>\n",
       "      <td>35.0</td>\n",
       "      <td>1</td>\n",
       "      <td>0</td>\n",
       "      <td>113803</td>\n",
       "      <td>53.1000</td>\n",
       "      <td>C123</td>\n",
       "      <td>S</td>\n",
       "    </tr>\n",
       "    <tr>\n",
       "      <th>4</th>\n",
       "      <td>5</td>\n",
       "      <td>False</td>\n",
       "      <td>3</td>\n",
       "      <td>Allen, Mr. William Henry</td>\n",
       "      <td>male</td>\n",
       "      <td>35.0</td>\n",
       "      <td>0</td>\n",
       "      <td>0</td>\n",
       "      <td>373450</td>\n",
       "      <td>8.0500</td>\n",
       "      <td>NaN</td>\n",
       "      <td>S</td>\n",
       "    </tr>\n",
       "  </tbody>\n",
       "</table>\n",
       "</div>"
      ],
      "text/plain": [
       "   PassengerId  Survived  Pclass  \\\n",
       "0            1     False       3   \n",
       "1            2      True       1   \n",
       "2            3      True       3   \n",
       "3            4      True       1   \n",
       "4            5     False       3   \n",
       "\n",
       "                                                Name     Sex   Age  SibSp  \\\n",
       "0                            Braund, Mr. Owen Harris    male  22.0      1   \n",
       "1  Cumings, Mrs. John Bradley (Florence Briggs Th...  female  38.0      1   \n",
       "2                             Heikkinen, Miss. Laina  female  26.0      0   \n",
       "3       Futrelle, Mrs. Jacques Heath (Lily May Peel)  female  35.0      1   \n",
       "4                           Allen, Mr. William Henry    male  35.0      0   \n",
       "\n",
       "   Parch            Ticket     Fare Cabin Embarked  \n",
       "0      0         A/5 21171   7.2500   NaN        S  \n",
       "1      0          PC 17599  71.2833   C85        C  \n",
       "2      0  STON/O2. 3101282   7.9250   NaN        S  \n",
       "3      0            113803  53.1000  C123        S  \n",
       "4      0            373450   8.0500   NaN        S  "
      ]
     },
     "execution_count": 14,
     "metadata": {},
     "output_type": "execute_result"
    }
   ],
   "source": [
    "df_train_clean.head()"
   ]
  },
  {
   "cell_type": "markdown",
   "id": "2accef35-ec82-4fa1-a107-d3fcc02a27c1",
   "metadata": {
    "tags": []
   },
   "source": [
    "### 3.1. Fixing missing values"
   ]
  },
  {
   "cell_type": "markdown",
   "id": "80e2f197-f976-4d2a-923f-fb8e35685162",
   "metadata": {},
   "source": [
    "As checked in the dataset description, the `Age`, `Cabin` and `Embarked` attributes have missing data.\n",
    "\n",
    "It is worth to check some samples."
   ]
  },
  {
   "cell_type": "markdown",
   "id": "424e2b17-bbd6-4028-b60d-2d22475118a4",
   "metadata": {},
   "source": [
    "#### 3.1.1. `Age`"
   ]
  },
  {
   "cell_type": "code",
   "execution_count": 15,
   "id": "10b577c3-34d2-4023-be94-ba86eefb690b",
   "metadata": {},
   "outputs": [
    {
     "data": {
      "text/html": [
       "<div>\n",
       "<style scoped>\n",
       "    .dataframe tbody tr th:only-of-type {\n",
       "        vertical-align: middle;\n",
       "    }\n",
       "\n",
       "    .dataframe tbody tr th {\n",
       "        vertical-align: top;\n",
       "    }\n",
       "\n",
       "    .dataframe thead th {\n",
       "        text-align: right;\n",
       "    }\n",
       "</style>\n",
       "<table border=\"1\" class=\"dataframe\">\n",
       "  <thead>\n",
       "    <tr style=\"text-align: right;\">\n",
       "      <th></th>\n",
       "      <th>PassengerId</th>\n",
       "      <th>Survived</th>\n",
       "      <th>Pclass</th>\n",
       "      <th>Name</th>\n",
       "      <th>Sex</th>\n",
       "      <th>Age</th>\n",
       "      <th>SibSp</th>\n",
       "      <th>Parch</th>\n",
       "      <th>Ticket</th>\n",
       "      <th>Fare</th>\n",
       "      <th>Cabin</th>\n",
       "      <th>Embarked</th>\n",
       "    </tr>\n",
       "  </thead>\n",
       "  <tbody>\n",
       "    <tr>\n",
       "      <th>5</th>\n",
       "      <td>6</td>\n",
       "      <td>False</td>\n",
       "      <td>3</td>\n",
       "      <td>Moran, Mr. James</td>\n",
       "      <td>male</td>\n",
       "      <td>NaN</td>\n",
       "      <td>0</td>\n",
       "      <td>0</td>\n",
       "      <td>330877</td>\n",
       "      <td>8.4583</td>\n",
       "      <td>NaN</td>\n",
       "      <td>Q</td>\n",
       "    </tr>\n",
       "    <tr>\n",
       "      <th>17</th>\n",
       "      <td>18</td>\n",
       "      <td>True</td>\n",
       "      <td>2</td>\n",
       "      <td>Williams, Mr. Charles Eugene</td>\n",
       "      <td>male</td>\n",
       "      <td>NaN</td>\n",
       "      <td>0</td>\n",
       "      <td>0</td>\n",
       "      <td>244373</td>\n",
       "      <td>13.0000</td>\n",
       "      <td>NaN</td>\n",
       "      <td>S</td>\n",
       "    </tr>\n",
       "    <tr>\n",
       "      <th>19</th>\n",
       "      <td>20</td>\n",
       "      <td>True</td>\n",
       "      <td>3</td>\n",
       "      <td>Masselmani, Mrs. Fatima</td>\n",
       "      <td>female</td>\n",
       "      <td>NaN</td>\n",
       "      <td>0</td>\n",
       "      <td>0</td>\n",
       "      <td>2649</td>\n",
       "      <td>7.2250</td>\n",
       "      <td>NaN</td>\n",
       "      <td>C</td>\n",
       "    </tr>\n",
       "    <tr>\n",
       "      <th>26</th>\n",
       "      <td>27</td>\n",
       "      <td>False</td>\n",
       "      <td>3</td>\n",
       "      <td>Emir, Mr. Farred Chehab</td>\n",
       "      <td>male</td>\n",
       "      <td>NaN</td>\n",
       "      <td>0</td>\n",
       "      <td>0</td>\n",
       "      <td>2631</td>\n",
       "      <td>7.2250</td>\n",
       "      <td>NaN</td>\n",
       "      <td>C</td>\n",
       "    </tr>\n",
       "    <tr>\n",
       "      <th>28</th>\n",
       "      <td>29</td>\n",
       "      <td>True</td>\n",
       "      <td>3</td>\n",
       "      <td>O'Dwyer, Miss. Ellen \"Nellie\"</td>\n",
       "      <td>female</td>\n",
       "      <td>NaN</td>\n",
       "      <td>0</td>\n",
       "      <td>0</td>\n",
       "      <td>330959</td>\n",
       "      <td>7.8792</td>\n",
       "      <td>NaN</td>\n",
       "      <td>Q</td>\n",
       "    </tr>\n",
       "  </tbody>\n",
       "</table>\n",
       "</div>"
      ],
      "text/plain": [
       "    PassengerId  Survived  Pclass                           Name     Sex  Age  \\\n",
       "5             6     False       3               Moran, Mr. James    male  NaN   \n",
       "17           18      True       2   Williams, Mr. Charles Eugene    male  NaN   \n",
       "19           20      True       3        Masselmani, Mrs. Fatima  female  NaN   \n",
       "26           27     False       3        Emir, Mr. Farred Chehab    male  NaN   \n",
       "28           29      True       3  O'Dwyer, Miss. Ellen \"Nellie\"  female  NaN   \n",
       "\n",
       "    SibSp  Parch  Ticket     Fare Cabin Embarked  \n",
       "5       0      0  330877   8.4583   NaN        Q  \n",
       "17      0      0  244373  13.0000   NaN        S  \n",
       "19      0      0    2649   7.2250   NaN        C  \n",
       "26      0      0    2631   7.2250   NaN        C  \n",
       "28      0      0  330959   7.8792   NaN        Q  "
      ]
     },
     "execution_count": 15,
     "metadata": {},
     "output_type": "execute_result"
    }
   ],
   "source": [
    "missing_age = df_train_clean.query('Age.isna()')\n",
    "missing_age_idx = missing_age.index\n",
    "missing_age.head()"
   ]
  },
  {
   "cell_type": "markdown",
   "id": "91edb488-b5c8-44aa-8141-c8b316c0f248",
   "metadata": {},
   "source": [
    "Since `Pclass` and `Sex` influence `Age`, a good strategy is to find the median/mean age in a group of passengers and add to the missing observations.\n",
    "\n",
    "To achieve this goal, a transformer can be used."
   ]
  },
  {
   "cell_type": "code",
   "execution_count": 16,
   "id": "1f963e9e-b155-4625-bb93-59613fc3a104",
   "metadata": {},
   "outputs": [],
   "source": [
    "from sklearn.base import BaseEstimator, TransformerMixin\n",
    "from sklearn.utils.validation import check_is_fitted\n",
    "\n",
    "class GroupMissingImputer(BaseEstimator, TransformerMixin):\n",
    "    def __init__(self, group_cols, target, metric='mean'):\n",
    "        assert metric in ['mean', 'median'], 'Unrecognized value for metric, should be mean/median'\n",
    "        assert type(group_cols) == list, 'group_cols should be a list of columns'\n",
    "        assert type(target) == str, 'target should be a string'\n",
    "        super().__init__()\n",
    "        \n",
    "        self.group_cols = group_cols\n",
    "        self.target = target\n",
    "        self.metric = metric\n",
    "    \n",
    "    def fit(self, X, y=None):\n",
    "        assert pd.isnull(X.loc[:, self.group_cols]).any(axis=None) == False, 'There are missing values in group_cols'\n",
    "        impute_map = X.groupby(self.group_cols)[self.target].agg(self.metric).reset_index(drop=False)\n",
    "        self.impute_map_ = impute_map\n",
    "        \n",
    "        return self \n",
    "    \n",
    "    def transform(self, X, y=None):\n",
    "        # make sure that the imputer was fitted\n",
    "        check_is_fitted(self, 'impute_map_')\n",
    "        X = X.copy()\n",
    "        for index, row in self.impute_map_.iterrows():\n",
    "            ind = (X[self.group_cols] == row[self.group_cols]).all(axis=1)\n",
    "            attribute = X.loc[ind, self.target]\n",
    "            mask = np.isnan(attribute)\n",
    "            X.loc[ind, self.target] = X.loc[ind, self.target].mask(mask, row[self.target])\n",
    "        \n",
    "        return X"
   ]
  },
  {
   "cell_type": "code",
   "execution_count": 17,
   "id": "89813064-fdaa-4f47-ab61-04fcbd38255b",
   "metadata": {},
   "outputs": [
    {
     "data": {
      "text/html": [
       "<div>\n",
       "<style scoped>\n",
       "    .dataframe tbody tr th:only-of-type {\n",
       "        vertical-align: middle;\n",
       "    }\n",
       "\n",
       "    .dataframe tbody tr th {\n",
       "        vertical-align: top;\n",
       "    }\n",
       "\n",
       "    .dataframe thead th {\n",
       "        text-align: right;\n",
       "    }\n",
       "</style>\n",
       "<table border=\"1\" class=\"dataframe\">\n",
       "  <thead>\n",
       "    <tr style=\"text-align: right;\">\n",
       "      <th></th>\n",
       "      <th>PassengerId</th>\n",
       "      <th>Survived</th>\n",
       "      <th>Pclass</th>\n",
       "      <th>Name</th>\n",
       "      <th>Sex</th>\n",
       "      <th>Age</th>\n",
       "      <th>SibSp</th>\n",
       "      <th>Parch</th>\n",
       "      <th>Ticket</th>\n",
       "      <th>Fare</th>\n",
       "      <th>Cabin</th>\n",
       "      <th>Embarked</th>\n",
       "    </tr>\n",
       "  </thead>\n",
       "  <tbody>\n",
       "    <tr>\n",
       "      <th>5</th>\n",
       "      <td>6</td>\n",
       "      <td>False</td>\n",
       "      <td>3</td>\n",
       "      <td>Moran, Mr. James</td>\n",
       "      <td>male</td>\n",
       "      <td>25.0</td>\n",
       "      <td>0</td>\n",
       "      <td>0</td>\n",
       "      <td>330877</td>\n",
       "      <td>8.4583</td>\n",
       "      <td>NaN</td>\n",
       "      <td>Q</td>\n",
       "    </tr>\n",
       "    <tr>\n",
       "      <th>17</th>\n",
       "      <td>18</td>\n",
       "      <td>True</td>\n",
       "      <td>2</td>\n",
       "      <td>Williams, Mr. Charles Eugene</td>\n",
       "      <td>male</td>\n",
       "      <td>30.0</td>\n",
       "      <td>0</td>\n",
       "      <td>0</td>\n",
       "      <td>244373</td>\n",
       "      <td>13.0000</td>\n",
       "      <td>NaN</td>\n",
       "      <td>S</td>\n",
       "    </tr>\n",
       "    <tr>\n",
       "      <th>19</th>\n",
       "      <td>20</td>\n",
       "      <td>True</td>\n",
       "      <td>3</td>\n",
       "      <td>Masselmani, Mrs. Fatima</td>\n",
       "      <td>female</td>\n",
       "      <td>21.5</td>\n",
       "      <td>0</td>\n",
       "      <td>0</td>\n",
       "      <td>2649</td>\n",
       "      <td>7.2250</td>\n",
       "      <td>NaN</td>\n",
       "      <td>C</td>\n",
       "    </tr>\n",
       "    <tr>\n",
       "      <th>26</th>\n",
       "      <td>27</td>\n",
       "      <td>False</td>\n",
       "      <td>3</td>\n",
       "      <td>Emir, Mr. Farred Chehab</td>\n",
       "      <td>male</td>\n",
       "      <td>25.0</td>\n",
       "      <td>0</td>\n",
       "      <td>0</td>\n",
       "      <td>2631</td>\n",
       "      <td>7.2250</td>\n",
       "      <td>NaN</td>\n",
       "      <td>C</td>\n",
       "    </tr>\n",
       "    <tr>\n",
       "      <th>28</th>\n",
       "      <td>29</td>\n",
       "      <td>True</td>\n",
       "      <td>3</td>\n",
       "      <td>O'Dwyer, Miss. Ellen \"Nellie\"</td>\n",
       "      <td>female</td>\n",
       "      <td>21.5</td>\n",
       "      <td>0</td>\n",
       "      <td>0</td>\n",
       "      <td>330959</td>\n",
       "      <td>7.8792</td>\n",
       "      <td>NaN</td>\n",
       "      <td>Q</td>\n",
       "    </tr>\n",
       "  </tbody>\n",
       "</table>\n",
       "</div>"
      ],
      "text/plain": [
       "    PassengerId  Survived  Pclass                           Name     Sex  \\\n",
       "5             6     False       3               Moran, Mr. James    male   \n",
       "17           18      True       2   Williams, Mr. Charles Eugene    male   \n",
       "19           20      True       3        Masselmani, Mrs. Fatima  female   \n",
       "26           27     False       3        Emir, Mr. Farred Chehab    male   \n",
       "28           29      True       3  O'Dwyer, Miss. Ellen \"Nellie\"  female   \n",
       "\n",
       "     Age  SibSp  Parch  Ticket     Fare Cabin Embarked  \n",
       "5   25.0      0      0  330877   8.4583   NaN        Q  \n",
       "17  30.0      0      0  244373  13.0000   NaN        S  \n",
       "19  21.5      0      0    2649   7.2250   NaN        C  \n",
       "26  25.0      0      0    2631   7.2250   NaN        C  \n",
       "28  21.5      0      0  330959   7.8792   NaN        Q  "
      ]
     },
     "execution_count": 17,
     "metadata": {},
     "output_type": "execute_result"
    }
   ],
   "source": [
    "df_train_clean = GroupMissingImputer(group_cols=['Pclass','Sex'], target='Age', metric='median').fit_transform(df_train_clean)\n",
    "df_train_clean.loc[missing_age_idx].head()"
   ]
  },
  {
   "cell_type": "markdown",
   "id": "36425e6f-62b7-49f6-8d09-9166d2d0d618",
   "metadata": {},
   "source": [
    "#### 3.1.2 `Cabin`\n",
    "\n",
    "The Cabin attribute, seems to be missing most of the observations. It's hard to impute a value based on the other available samples. An approach is to add a missing field category."
   ]
  },
  {
   "cell_type": "code",
   "execution_count": 18,
   "id": "2e219e5d-a4a8-4d23-aed2-af2e02c0c2c0",
   "metadata": {},
   "outputs": [
    {
     "data": {
      "text/html": [
       "<div>\n",
       "<style scoped>\n",
       "    .dataframe tbody tr th:only-of-type {\n",
       "        vertical-align: middle;\n",
       "    }\n",
       "\n",
       "    .dataframe tbody tr th {\n",
       "        vertical-align: top;\n",
       "    }\n",
       "\n",
       "    .dataframe thead th {\n",
       "        text-align: right;\n",
       "    }\n",
       "</style>\n",
       "<table border=\"1\" class=\"dataframe\">\n",
       "  <thead>\n",
       "    <tr style=\"text-align: right;\">\n",
       "      <th></th>\n",
       "      <th>PassengerId</th>\n",
       "      <th>Survived</th>\n",
       "      <th>Pclass</th>\n",
       "      <th>Name</th>\n",
       "      <th>Sex</th>\n",
       "      <th>Age</th>\n",
       "      <th>SibSp</th>\n",
       "      <th>Parch</th>\n",
       "      <th>Ticket</th>\n",
       "      <th>Fare</th>\n",
       "      <th>Cabin</th>\n",
       "      <th>Embarked</th>\n",
       "    </tr>\n",
       "  </thead>\n",
       "  <tbody>\n",
       "    <tr>\n",
       "      <th>0</th>\n",
       "      <td>1</td>\n",
       "      <td>False</td>\n",
       "      <td>3</td>\n",
       "      <td>Braund, Mr. Owen Harris</td>\n",
       "      <td>male</td>\n",
       "      <td>22.0</td>\n",
       "      <td>1</td>\n",
       "      <td>0</td>\n",
       "      <td>A/5 21171</td>\n",
       "      <td>7.2500</td>\n",
       "      <td>NaN</td>\n",
       "      <td>S</td>\n",
       "    </tr>\n",
       "    <tr>\n",
       "      <th>2</th>\n",
       "      <td>3</td>\n",
       "      <td>True</td>\n",
       "      <td>3</td>\n",
       "      <td>Heikkinen, Miss. Laina</td>\n",
       "      <td>female</td>\n",
       "      <td>26.0</td>\n",
       "      <td>0</td>\n",
       "      <td>0</td>\n",
       "      <td>STON/O2. 3101282</td>\n",
       "      <td>7.9250</td>\n",
       "      <td>NaN</td>\n",
       "      <td>S</td>\n",
       "    </tr>\n",
       "    <tr>\n",
       "      <th>4</th>\n",
       "      <td>5</td>\n",
       "      <td>False</td>\n",
       "      <td>3</td>\n",
       "      <td>Allen, Mr. William Henry</td>\n",
       "      <td>male</td>\n",
       "      <td>35.0</td>\n",
       "      <td>0</td>\n",
       "      <td>0</td>\n",
       "      <td>373450</td>\n",
       "      <td>8.0500</td>\n",
       "      <td>NaN</td>\n",
       "      <td>S</td>\n",
       "    </tr>\n",
       "    <tr>\n",
       "      <th>5</th>\n",
       "      <td>6</td>\n",
       "      <td>False</td>\n",
       "      <td>3</td>\n",
       "      <td>Moran, Mr. James</td>\n",
       "      <td>male</td>\n",
       "      <td>25.0</td>\n",
       "      <td>0</td>\n",
       "      <td>0</td>\n",
       "      <td>330877</td>\n",
       "      <td>8.4583</td>\n",
       "      <td>NaN</td>\n",
       "      <td>Q</td>\n",
       "    </tr>\n",
       "    <tr>\n",
       "      <th>7</th>\n",
       "      <td>8</td>\n",
       "      <td>False</td>\n",
       "      <td>3</td>\n",
       "      <td>Palsson, Master. Gosta Leonard</td>\n",
       "      <td>male</td>\n",
       "      <td>2.0</td>\n",
       "      <td>3</td>\n",
       "      <td>1</td>\n",
       "      <td>349909</td>\n",
       "      <td>21.0750</td>\n",
       "      <td>NaN</td>\n",
       "      <td>S</td>\n",
       "    </tr>\n",
       "  </tbody>\n",
       "</table>\n",
       "</div>"
      ],
      "text/plain": [
       "   PassengerId  Survived  Pclass                            Name     Sex  \\\n",
       "0            1     False       3         Braund, Mr. Owen Harris    male   \n",
       "2            3      True       3          Heikkinen, Miss. Laina  female   \n",
       "4            5     False       3        Allen, Mr. William Henry    male   \n",
       "5            6     False       3                Moran, Mr. James    male   \n",
       "7            8     False       3  Palsson, Master. Gosta Leonard    male   \n",
       "\n",
       "    Age  SibSp  Parch            Ticket     Fare Cabin Embarked  \n",
       "0  22.0      1      0         A/5 21171   7.2500   NaN        S  \n",
       "2  26.0      0      0  STON/O2. 3101282   7.9250   NaN        S  \n",
       "4  35.0      0      0            373450   8.0500   NaN        S  \n",
       "5  25.0      0      0            330877   8.4583   NaN        Q  \n",
       "7   2.0      3      1            349909  21.0750   NaN        S  "
      ]
     },
     "execution_count": 18,
     "metadata": {},
     "output_type": "execute_result"
    }
   ],
   "source": [
    "missing_cabin = df_train_clean[df_train_clean['Cabin'].isna()]\n",
    "missing_cabin_idx = missing_cabin.index\n",
    "missing_cabin.head()"
   ]
  },
  {
   "cell_type": "markdown",
   "id": "30835694-a1ef-4296-88eb-6d57bdf90f8f",
   "metadata": {},
   "source": [
    "With the insights above, a transformer is created to impute a constant value."
   ]
  },
  {
   "cell_type": "code",
   "execution_count": 19,
   "id": "6fe59593-f28e-4625-91a6-cd4f55c2505e",
   "metadata": {},
   "outputs": [],
   "source": [
    "class ConstantImputer(BaseEstimator, TransformerMixin):\n",
    "    def __init__(self, target, value):\n",
    "        assert type(target) == str, 'target should be a string'\n",
    "        super().__init__()\n",
    "        self.target = target\n",
    "        self.value = value\n",
    "    \n",
    "    def fit(self, X, y=None):\n",
    "        return self \n",
    "    \n",
    "    def transform(self, X, y=None):\n",
    "        X = X.copy()\n",
    "        X[self.target] = X[self.target].fillna(self.value)\n",
    "        \n",
    "        return X"
   ]
  },
  {
   "cell_type": "code",
   "execution_count": 20,
   "id": "ff1105f0-ef0a-443a-b697-f2c5f28ab4f0",
   "metadata": {},
   "outputs": [
    {
     "data": {
      "text/html": [
       "<div>\n",
       "<style scoped>\n",
       "    .dataframe tbody tr th:only-of-type {\n",
       "        vertical-align: middle;\n",
       "    }\n",
       "\n",
       "    .dataframe tbody tr th {\n",
       "        vertical-align: top;\n",
       "    }\n",
       "\n",
       "    .dataframe thead th {\n",
       "        text-align: right;\n",
       "    }\n",
       "</style>\n",
       "<table border=\"1\" class=\"dataframe\">\n",
       "  <thead>\n",
       "    <tr style=\"text-align: right;\">\n",
       "      <th></th>\n",
       "      <th>PassengerId</th>\n",
       "      <th>Survived</th>\n",
       "      <th>Pclass</th>\n",
       "      <th>Name</th>\n",
       "      <th>Sex</th>\n",
       "      <th>Age</th>\n",
       "      <th>SibSp</th>\n",
       "      <th>Parch</th>\n",
       "      <th>Ticket</th>\n",
       "      <th>Fare</th>\n",
       "      <th>Cabin</th>\n",
       "      <th>Embarked</th>\n",
       "    </tr>\n",
       "  </thead>\n",
       "  <tbody>\n",
       "    <tr>\n",
       "      <th>0</th>\n",
       "      <td>1</td>\n",
       "      <td>False</td>\n",
       "      <td>3</td>\n",
       "      <td>Braund, Mr. Owen Harris</td>\n",
       "      <td>male</td>\n",
       "      <td>22.0</td>\n",
       "      <td>1</td>\n",
       "      <td>0</td>\n",
       "      <td>A/5 21171</td>\n",
       "      <td>7.2500</td>\n",
       "      <td>U</td>\n",
       "      <td>S</td>\n",
       "    </tr>\n",
       "    <tr>\n",
       "      <th>2</th>\n",
       "      <td>3</td>\n",
       "      <td>True</td>\n",
       "      <td>3</td>\n",
       "      <td>Heikkinen, Miss. Laina</td>\n",
       "      <td>female</td>\n",
       "      <td>26.0</td>\n",
       "      <td>0</td>\n",
       "      <td>0</td>\n",
       "      <td>STON/O2. 3101282</td>\n",
       "      <td>7.9250</td>\n",
       "      <td>U</td>\n",
       "      <td>S</td>\n",
       "    </tr>\n",
       "    <tr>\n",
       "      <th>4</th>\n",
       "      <td>5</td>\n",
       "      <td>False</td>\n",
       "      <td>3</td>\n",
       "      <td>Allen, Mr. William Henry</td>\n",
       "      <td>male</td>\n",
       "      <td>35.0</td>\n",
       "      <td>0</td>\n",
       "      <td>0</td>\n",
       "      <td>373450</td>\n",
       "      <td>8.0500</td>\n",
       "      <td>U</td>\n",
       "      <td>S</td>\n",
       "    </tr>\n",
       "    <tr>\n",
       "      <th>5</th>\n",
       "      <td>6</td>\n",
       "      <td>False</td>\n",
       "      <td>3</td>\n",
       "      <td>Moran, Mr. James</td>\n",
       "      <td>male</td>\n",
       "      <td>25.0</td>\n",
       "      <td>0</td>\n",
       "      <td>0</td>\n",
       "      <td>330877</td>\n",
       "      <td>8.4583</td>\n",
       "      <td>U</td>\n",
       "      <td>Q</td>\n",
       "    </tr>\n",
       "    <tr>\n",
       "      <th>7</th>\n",
       "      <td>8</td>\n",
       "      <td>False</td>\n",
       "      <td>3</td>\n",
       "      <td>Palsson, Master. Gosta Leonard</td>\n",
       "      <td>male</td>\n",
       "      <td>2.0</td>\n",
       "      <td>3</td>\n",
       "      <td>1</td>\n",
       "      <td>349909</td>\n",
       "      <td>21.0750</td>\n",
       "      <td>U</td>\n",
       "      <td>S</td>\n",
       "    </tr>\n",
       "  </tbody>\n",
       "</table>\n",
       "</div>"
      ],
      "text/plain": [
       "   PassengerId  Survived  Pclass                            Name     Sex  \\\n",
       "0            1     False       3         Braund, Mr. Owen Harris    male   \n",
       "2            3      True       3          Heikkinen, Miss. Laina  female   \n",
       "4            5     False       3        Allen, Mr. William Henry    male   \n",
       "5            6     False       3                Moran, Mr. James    male   \n",
       "7            8     False       3  Palsson, Master. Gosta Leonard    male   \n",
       "\n",
       "    Age  SibSp  Parch            Ticket     Fare Cabin Embarked  \n",
       "0  22.0      1      0         A/5 21171   7.2500     U        S  \n",
       "2  26.0      0      0  STON/O2. 3101282   7.9250     U        S  \n",
       "4  35.0      0      0            373450   8.0500     U        S  \n",
       "5  25.0      0      0            330877   8.4583     U        Q  \n",
       "7   2.0      3      1            349909  21.0750     U        S  "
      ]
     },
     "execution_count": 20,
     "metadata": {},
     "output_type": "execute_result"
    }
   ],
   "source": [
    "df_train_clean = ConstantImputer(target='Cabin', value='U').fit_transform(df_train_clean)\n",
    "df_train_clean.loc[missing_cabin_idx].head()"
   ]
  },
  {
   "cell_type": "markdown",
   "id": "aca8acaa",
   "metadata": {},
   "source": [
    "One important information that may be hidden on Cabin feature is the Deck in which the passenger was located. This may also have influence on the survival rate given the distance / escape routes.\n",
    "An interesting approach was found on a [Kaggle notebook](https://www.kaggle.com/gunesevitan/titanic-advanced-feature-engineering-tutorial#).\n",
    "The first letter on Cabin feature indicates the Deck that the Cabin is located.\n",
    "![alt text](https://vignette.wikia.nocookie.net/titanic/images/f/f9/Titanic_side_plan.png/revision/latest?cb=20180322183733)\n",
    "* Is it known that Boat Deck includes letters from **T-Z** cabins but only **T** cabins are present in the dataset.\n",
    "* **A**, **B** and **C** decks were only for 1st class passengers. Also, these decks were served by elevators.\n",
    "* **D** and **E** decks were for all classes.\n",
    "* **F** and **G** decks were for both 2nd and 3rd class passengers.\n",
    "* From **A** to **G**, distance to the Boat Deck increases which might be a factor of survival.\n",
    "\n",
    "It is also noticiable that a higher number of life saving boats were located on the front side of Titanic.\n",
    "![alt text](https://upload.wikimedia.org/wikipedia/commons/7/70/Titanic_lifeboats_on_boat_deck_plan.jpg)\n",
    "\n",
    "By inspecting cabin locations, it is also noticiable that 1st-class cabins and dedicated rooms were located on a upper level, sligthly situated on the front portion of the ship.\n",
    "![alt text](https://images.twinkl.co.uk/tw1n/image/private/t_630_eco/website/uploaded/t-t-9758b-the-titanic-cross-section-poster-a4-1554306892.png)\n",
    "\n"
   ]
  },
  {
   "cell_type": "markdown",
   "id": "963b332d-3b96-4b5e-8588-de647f95f00b",
   "metadata": {},
   "source": [
    "#### 3.1.3. `Embarked`\n",
    "\n",
    "Since most of the passengers embarked on the port of Southampton, this value will be added to the missing observations."
   ]
  },
  {
   "cell_type": "code",
   "execution_count": 21,
   "id": "419865d2-dc90-4b3c-a4c6-b92bc1ab041c",
   "metadata": {},
   "outputs": [
    {
     "data": {
      "text/html": [
       "<div>\n",
       "<style scoped>\n",
       "    .dataframe tbody tr th:only-of-type {\n",
       "        vertical-align: middle;\n",
       "    }\n",
       "\n",
       "    .dataframe tbody tr th {\n",
       "        vertical-align: top;\n",
       "    }\n",
       "\n",
       "    .dataframe thead th {\n",
       "        text-align: right;\n",
       "    }\n",
       "</style>\n",
       "<table border=\"1\" class=\"dataframe\">\n",
       "  <thead>\n",
       "    <tr style=\"text-align: right;\">\n",
       "      <th></th>\n",
       "      <th>PassengerId</th>\n",
       "      <th>Survived</th>\n",
       "      <th>Pclass</th>\n",
       "      <th>Name</th>\n",
       "      <th>Sex</th>\n",
       "      <th>Age</th>\n",
       "      <th>SibSp</th>\n",
       "      <th>Parch</th>\n",
       "      <th>Ticket</th>\n",
       "      <th>Fare</th>\n",
       "      <th>Cabin</th>\n",
       "      <th>Embarked</th>\n",
       "    </tr>\n",
       "  </thead>\n",
       "  <tbody>\n",
       "    <tr>\n",
       "      <th>61</th>\n",
       "      <td>62</td>\n",
       "      <td>True</td>\n",
       "      <td>1</td>\n",
       "      <td>Icard, Miss. Amelie</td>\n",
       "      <td>female</td>\n",
       "      <td>38.0</td>\n",
       "      <td>0</td>\n",
       "      <td>0</td>\n",
       "      <td>113572</td>\n",
       "      <td>80.0</td>\n",
       "      <td>B28</td>\n",
       "      <td>NaN</td>\n",
       "    </tr>\n",
       "    <tr>\n",
       "      <th>829</th>\n",
       "      <td>830</td>\n",
       "      <td>True</td>\n",
       "      <td>1</td>\n",
       "      <td>Stone, Mrs. George Nelson (Martha Evelyn)</td>\n",
       "      <td>female</td>\n",
       "      <td>62.0</td>\n",
       "      <td>0</td>\n",
       "      <td>0</td>\n",
       "      <td>113572</td>\n",
       "      <td>80.0</td>\n",
       "      <td>B28</td>\n",
       "      <td>NaN</td>\n",
       "    </tr>\n",
       "  </tbody>\n",
       "</table>\n",
       "</div>"
      ],
      "text/plain": [
       "     PassengerId  Survived  Pclass                                       Name  \\\n",
       "61            62      True       1                        Icard, Miss. Amelie   \n",
       "829          830      True       1  Stone, Mrs. George Nelson (Martha Evelyn)   \n",
       "\n",
       "        Sex   Age  SibSp  Parch  Ticket  Fare Cabin Embarked  \n",
       "61   female  38.0      0      0  113572  80.0   B28      NaN  \n",
       "829  female  62.0      0      0  113572  80.0   B28      NaN  "
      ]
     },
     "execution_count": 21,
     "metadata": {},
     "output_type": "execute_result"
    }
   ],
   "source": [
    "missing_embarked = df_train_clean[df_train_clean['Embarked'].isna()]\n",
    "missing_embarked_idx = missing_embarked.index\n",
    "missing_embarked.head()"
   ]
  },
  {
   "cell_type": "markdown",
   "id": "f5a1dc58-9f88-4c30-b2e9-95d7390a8830",
   "metadata": {},
   "source": [
    "To solve this problem, a transformer is created to impute the most common value of an attribute."
   ]
  },
  {
   "cell_type": "code",
   "execution_count": 22,
   "id": "4b36c148-7560-4ebe-ad00-4b25df85c86f",
   "metadata": {},
   "outputs": [],
   "source": [
    "from sklearn.base import BaseEstimator, TransformerMixin\n",
    "from sklearn.utils.validation import check_is_fitted\n",
    "\n",
    "class ModeImputer(BaseEstimator, TransformerMixin):\n",
    "    def __init__(self, target):\n",
    "        assert type(target) == str, 'target should be a string'\n",
    "        super().__init__()\n",
    "        self.target = target\n",
    "    \n",
    "    def fit(self, X, y=None):\n",
    "        impute_value = X[self.target].agg(pd.Series.mode).iloc[0]\n",
    "        self.impute_value_ = impute_value\n",
    "        \n",
    "        return self \n",
    "    \n",
    "    def transform(self, X, y=None):\n",
    "        # make sure that the imputer was fitted\n",
    "        check_is_fitted(self, 'impute_value_')\n",
    "        X = X.copy()\n",
    "        X[self.target] = X[self.target].fillna(self.impute_value_)\n",
    "        \n",
    "        return X"
   ]
  },
  {
   "cell_type": "code",
   "execution_count": 23,
   "id": "5673912b-d5ae-4850-9989-daa1ecb54973",
   "metadata": {},
   "outputs": [
    {
     "data": {
      "text/html": [
       "<div>\n",
       "<style scoped>\n",
       "    .dataframe tbody tr th:only-of-type {\n",
       "        vertical-align: middle;\n",
       "    }\n",
       "\n",
       "    .dataframe tbody tr th {\n",
       "        vertical-align: top;\n",
       "    }\n",
       "\n",
       "    .dataframe thead th {\n",
       "        text-align: right;\n",
       "    }\n",
       "</style>\n",
       "<table border=\"1\" class=\"dataframe\">\n",
       "  <thead>\n",
       "    <tr style=\"text-align: right;\">\n",
       "      <th></th>\n",
       "      <th>PassengerId</th>\n",
       "      <th>Survived</th>\n",
       "      <th>Pclass</th>\n",
       "      <th>Name</th>\n",
       "      <th>Sex</th>\n",
       "      <th>Age</th>\n",
       "      <th>SibSp</th>\n",
       "      <th>Parch</th>\n",
       "      <th>Ticket</th>\n",
       "      <th>Fare</th>\n",
       "      <th>Cabin</th>\n",
       "      <th>Embarked</th>\n",
       "    </tr>\n",
       "  </thead>\n",
       "  <tbody>\n",
       "    <tr>\n",
       "      <th>61</th>\n",
       "      <td>62</td>\n",
       "      <td>True</td>\n",
       "      <td>1</td>\n",
       "      <td>Icard, Miss. Amelie</td>\n",
       "      <td>female</td>\n",
       "      <td>38.0</td>\n",
       "      <td>0</td>\n",
       "      <td>0</td>\n",
       "      <td>113572</td>\n",
       "      <td>80.0</td>\n",
       "      <td>B28</td>\n",
       "      <td>S</td>\n",
       "    </tr>\n",
       "    <tr>\n",
       "      <th>829</th>\n",
       "      <td>830</td>\n",
       "      <td>True</td>\n",
       "      <td>1</td>\n",
       "      <td>Stone, Mrs. George Nelson (Martha Evelyn)</td>\n",
       "      <td>female</td>\n",
       "      <td>62.0</td>\n",
       "      <td>0</td>\n",
       "      <td>0</td>\n",
       "      <td>113572</td>\n",
       "      <td>80.0</td>\n",
       "      <td>B28</td>\n",
       "      <td>S</td>\n",
       "    </tr>\n",
       "  </tbody>\n",
       "</table>\n",
       "</div>"
      ],
      "text/plain": [
       "     PassengerId  Survived  Pclass                                       Name  \\\n",
       "61            62      True       1                        Icard, Miss. Amelie   \n",
       "829          830      True       1  Stone, Mrs. George Nelson (Martha Evelyn)   \n",
       "\n",
       "        Sex   Age  SibSp  Parch  Ticket  Fare Cabin Embarked  \n",
       "61   female  38.0      0      0  113572  80.0   B28        S  \n",
       "829  female  62.0      0      0  113572  80.0   B28        S  "
      ]
     },
     "execution_count": 23,
     "metadata": {},
     "output_type": "execute_result"
    }
   ],
   "source": [
    "df_train_clean = ModeImputer(target='Embarked').fit_transform(df_train_clean)\n",
    "df_train_clean.loc[missing_embarked_idx]"
   ]
  },
  {
   "cell_type": "markdown",
   "id": "222325e1-58ab-4a49-9041-b88533f1e924",
   "metadata": {
    "tags": []
   },
   "source": [
    "### 3.2. Saving the Dataset"
   ]
  },
  {
   "cell_type": "code",
   "execution_count": 24,
   "id": "ea5ebc32-09cb-4541-ba5e-36dd43e3174c",
   "metadata": {},
   "outputs": [],
   "source": [
    "df_train_clean.to_csv('./datasets/train_clean.csv', index=False)"
   ]
  },
  {
   "cell_type": "markdown",
   "id": "2d954d32-13e6-4c69-8474-4335ef456b88",
   "metadata": {
    "tags": []
   },
   "source": [
    "## 📊 4. Explore the Data\n",
    "As a next step, a _simple exploratory data analysis (EDA)_ is performed in order to gain insights about the data. <br/>\n",
    "A more complete EDA with hypothesis about the problem should be further elaborated. "
   ]
  },
  {
   "cell_type": "code",
   "execution_count": 25,
   "id": "452c1067-ded7-40d7-b9b8-87df8078f860",
   "metadata": {},
   "outputs": [],
   "source": [
    "# reload the cleaned training set\n",
    "df_train = pd.read_csv('./datasets/train_clean.csv')"
   ]
  },
  {
   "cell_type": "code",
   "execution_count": 26,
   "id": "79b89fd6-b459-4235-aec9-86448026e59a",
   "metadata": {},
   "outputs": [
    {
     "data": {
      "image/png": "[encoded data removed]",
      "text/plain": [
       "<Figure size 1440x360 with 3 Axes>"
      ]
     },
     "metadata": {},
     "output_type": "display_data"
    }
   ],
   "source": [
    "# Checking the proportion of survivors among different categorical attributes\n",
    "fig, (ax1, ax2, ax3) = plt.subplots(1,3, figsize=(20,5))\n",
    "\n",
    "sns.barplot(x='Sex', y='Survived', data=df_train, ax=ax1)\n",
    "sns.barplot(x='Pclass', y='Survived', data=df_train, ax=ax2)\n",
    "sns.barplot(x='Embarked', y='Survived', data=df_train, ax=ax3)\n",
    "display()"
   ]
  },
  {
   "cell_type": "markdown",
   "id": "e46519e9-45e4-44a0-999f-6f6707a88e13",
   "metadata": {},
   "source": [
    "* The chance of a woman surviving were much higher than a man (approximately 75% vs. 18%).\n",
    "\n",
    "* 1st-class passengers had more than twice the chance of escaping the tragedy than the 3rd-class ones.\n",
    "\n",
    "* Passengers that embarked on the port of Cherbourg had the most survivability, while the ones that launched in Southampton had a smaller chance. The reason for this difference is not clear, but can be related to the fact that [wealthier passengers boarded at Cherbourg](https://www.irishcentral.com/roots/history/on-this-day-titanic-sets-sail-southampton-cherbourg-france) which indicates that most likely they were 1st class passengers. <br>\n",
    "There may be a correlation between the `Pclass` and `Embarked` features to corroborate this information."
   ]
  },
  {
   "cell_type": "code",
   "execution_count": 27,
   "id": "38b1cb90-406b-462c-810c-86506623ef97",
   "metadata": {},
   "outputs": [
    {
     "data": {
      "image/png": "[encoded data removed]",
      "text/plain": [
       "<Figure size 1080x360 with 1 Axes>"
      ]
     },
     "metadata": {},
     "output_type": "display_data"
    }
   ],
   "source": [
    "# Checking the distribution of Pclass among the different ports\n",
    "sns.countplot(x='Embarked', hue='Pclass', data=df_train)\n",
    "display()"
   ]
  },
  {
   "cell_type": "markdown",
   "id": "f38fdb19-c8c5-4885-92d7-cbcc48d0a1da",
   "metadata": {},
   "source": [
    "The information seems to hold correct. The proportion of 1st-class and 3rd-class passengers is very different between the ports. <br>\n",
    "While in Southampton there were almost a ratio of 1:3, in Cherbourg there are more 1st-class than 3rd-class passengers."
   ]
  },
  {
   "cell_type": "code",
   "execution_count": 28,
   "id": "2ae80778-5f6f-41e8-9ee0-9c0aa05b6e60",
   "metadata": {},
   "outputs": [
    {
     "data": {
      "image/png": "[encoded data removed]",
      "text/plain": [
       "<Figure size 1280x360 with 2 Axes>"
      ]
     },
     "metadata": {},
     "output_type": "display_data"
    }
   ],
   "source": [
    "# Checking influence of age on the probability of survival\n",
    "age_survived = sns.FacetGrid(df_train, col='Survived', height=5, aspect=16/9)\n",
    "age_survived.map(sns.histplot, 'Age', stat='density', kde=True, bins=80)\n",
    "display()"
   ]
  },
  {
   "cell_type": "markdown",
   "id": "5e0fe7ac-4f59-43c1-820a-36cd6376bd9d",
   "metadata": {},
   "source": []
  },
  {
   "cell_type": "code",
   "execution_count": 29,
   "id": "8b47b08f-adcc-4e52-8c47-da3c4b895105",
   "metadata": {},
   "outputs": [
    {
     "data": {
      "image/png": "[encoded data removed]",
      "text/plain": [
       "<Figure size 720x720 with 20 Axes>"
      ]
     },
     "metadata": {},
     "output_type": "display_data"
    }
   ],
   "source": [
    "columns=['Parch', 'SibSp', 'Age', 'Pclass']\n",
    "sns.pairplot(df_train[columns],kind='reg', plot_kws={'line_kws':{'color':'red'}, 'scatter_kws': {'alpha': 0.1}})\n",
    "display()"
   ]
  },
  {
   "cell_type": "markdown",
   "id": "aa009105-e900-4500-ab1b-38ffaa773753",
   "metadata": {},
   "source": [
    "* It seems that the oldest passengers are concentrated in the 1st-class and the youngest are on 3rd-class.\n",
    "\n",
    "* 1st-class passengers also tend to have more siblings/spouses on board."
   ]
  },
  {
   "cell_type": "markdown",
   "id": "20cf185d-e3e1-4a2d-9860-c1246a4d8aa6",
   "metadata": {},
   "source": [
    "### 4.2. Looking for Correlations"
   ]
  },
  {
   "cell_type": "code",
   "execution_count": 30,
   "id": "06321359-bf90-4abd-8ae2-c5f7eca4a71d",
   "metadata": {},
   "outputs": [
    {
     "data": {
      "image/png": "[encoded data removed]",
      "text/plain": [
       "<Figure size 1152x432 with 2 Axes>"
      ]
     },
     "metadata": {},
     "output_type": "display_data"
    }
   ],
   "source": [
    "# plotting the correlation coeficients as a heatmap\n",
    "plt.figure(figsize=(16, 6))\n",
    "mask = np.triu(np.ones_like(df_train.corr(), dtype='bool'))  # creates a triangular matrix based on the pandas correlation matrix\n",
    "\n",
    "heatmap = sns.heatmap(df_train.corr(), mask=mask, vmin=-1, vmax=1, annot=True, cmap='BrBG')\n",
    "heatmap.set_title('Triangle Correlation Heatmap of Titanic Passengers', fontdict={'fontsize':18}, pad=16);"
   ]
  },
  {
   "cell_type": "code",
   "execution_count": 31,
   "id": "b5fd52db-b47f-4b43-a7cb-f4d594d5cd33",
   "metadata": {},
   "outputs": [
    {
     "data": {
      "text/plain": [
       "Survived       1.000000\n",
       "Fare           0.257307\n",
       "Parch          0.081629\n",
       "PassengerId   -0.005007\n",
       "SibSp         -0.035322\n",
       "Age           -0.059579\n",
       "Pclass        -0.338481\n",
       "Name: Survived, dtype: float64"
      ]
     },
     "execution_count": 31,
     "metadata": {},
     "output_type": "execute_result"
    }
   ],
   "source": [
    "df_train.corr()[\"Survived\"].sort_values(ascending=False)"
   ]
  },
  {
   "cell_type": "code",
   "execution_count": 32,
   "id": "f0ccb374-3309-40b2-bfff-91df87150ffd",
   "metadata": {},
   "outputs": [
    {
     "data": {
      "text/plain": [
       "Survived       1.000000\n",
       "Sex_female     0.543351\n",
       "Fare           0.257307\n",
       "Embarked_C     0.168240\n",
       "Parch          0.081629\n",
       "Embarked_Q     0.003650\n",
       "PassengerId   -0.005007\n",
       "SibSp         -0.035322\n",
       "Age           -0.059579\n",
       "Embarked_S    -0.149683\n",
       "Pclass        -0.338481\n",
       "Sex_male      -0.543351\n",
       "Name: Survived, dtype: float64"
      ]
     },
     "execution_count": 32,
     "metadata": {},
     "output_type": "execute_result"
    }
   ],
   "source": [
    "# including the Sex and Embarked values\n",
    "dummy_df_train = pd.get_dummies(df_train, columns=['Sex', 'Embarked'])\n",
    "dummy_df_train.corr()[\"Survived\"].sort_values(ascending=False)"
   ]
  },
  {
   "cell_type": "markdown",
   "id": "27de644c-5c2d-4b92-b34d-053e1cebd5b9",
   "metadata": {},
   "source": [
    "The _most promising attribute_ to predict the `Survived` is the `Sex`, followed by `Pclass` and `Fare`"
   ]
  },
  {
   "cell_type": "markdown",
   "id": "c67224d7-a871-46ae-b882-88e96f822dbe",
   "metadata": {},
   "source": [
    "### 4.3. Data distribution"
   ]
  },
  {
   "cell_type": "code",
   "execution_count": 33,
   "id": "40ec6a2b-0ecc-4590-8cba-015d0f3b780a",
   "metadata": {},
   "outputs": [
    {
     "data": {
      "text/plain": [
       "Index(['PassengerId', 'Pclass', 'Age', 'SibSp', 'Parch', 'Fare'], dtype='object')"
      ]
     },
     "execution_count": 33,
     "metadata": {},
     "output_type": "execute_result"
    }
   ],
   "source": [
    "numeric_attributes = df_train.select_dtypes(include='number').columns\n",
    "numeric_attributes"
   ]
  },
  {
   "cell_type": "code",
   "execution_count": 34,
   "id": "8a3f379c-afaf-422f-93a2-191e807ae4d9",
   "metadata": {},
   "outputs": [
    {
     "data": {
      "image/png": "[encoded data removed]",
      "text/plain": [
       "<Figure size 1440x576 with 6 Axes>"
      ]
     },
     "metadata": {},
     "output_type": "display_data"
    }
   ],
   "source": [
    "fig, axes = plt.subplots(2, 3, figsize=(20, 8))\n",
    "fig.tight_layout(pad=3.0)\n",
    "\n",
    "for i, attr in enumerate(numeric_attributes):\n",
    "    row = i // 3\n",
    "    col = i % 3\n",
    "    sns.boxplot(data=df_train, x=attr, ax=axes[row, col])"
   ]
  },
  {
   "cell_type": "markdown",
   "id": "96714019-37f7-4437-8ea3-722871dbe599",
   "metadata": {},
   "source": [
    "All the attributes have many _outliers_. However, those **will not** be removed them because _they do not seem to be noise_."
   ]
  },
  {
   "cell_type": "markdown",
   "id": "6bb42570-655d-4797-a0d5-214744846c5a",
   "metadata": {
    "tags": []
   },
   "source": [
    "## 🛠️ 5. Prepare the Data (Preprocessing)"
   ]
  },
  {
   "cell_type": "code",
   "execution_count": 35,
   "id": "66e91801-c7ee-40be-bff2-93a9b47ec2e2",
   "metadata": {},
   "outputs": [],
   "source": [
    "# load the cleaned training set\n",
    "df_train = pd.read_csv('./datasets/train_clean.csv')"
   ]
  },
  {
   "cell_type": "markdown",
   "id": "7cbc415b-7f9d-4ecf-be22-28345fa85cc7",
   "metadata": {
    "tags": []
   },
   "source": [
    "### 5.1. Feature Engineering\n",
    "\n",
    "Before prepare the model, it is worth to explore some new features, based on what was learned for far.\n",
    "\n",
    "A great strategy is trying to create new features from the most promising ones that were found before.\n",
    "\n",
    "- `Sex`\n",
    "- `Pclass`\n",
    "- `Fare`"
   ]
  },
  {
   "cell_type": "markdown",
   "id": "a32f01f7-140c-453a-9eed-ef5202f66d7b",
   "metadata": {},
   "source": [
    "#### Summarizing discoveries"
   ]
  },
  {
   "cell_type": "markdown",
   "id": "00355b97-e11f-4e69-bcc7-4b9bc14b66e9",
   "metadata": {
    "tags": []
   },
   "source": [
    "### 5.2. Removing attributes that are not used\n",
    "\n",
    "Let's get rid of some attributes that won't be used on the model. For that, a transformer is created."
   ]
  },
  {
   "cell_type": "code",
   "execution_count": 36,
   "id": "211c5f72-7811-4ee7-826c-f5f41f99d2ed",
   "metadata": {},
   "outputs": [],
   "source": [
    "class AttributesRemovalTransformer(BaseEstimator, TransformerMixin):\n",
    "    def __init__(self, cols):\n",
    "        assert type(cols) == list, 'cols should be a list of columns'\n",
    "        super().__init__()\n",
    "        \n",
    "        self.cols = cols\n",
    "        pass\n",
    "    \n",
    "    def fit(self, X, y=None):\n",
    "        return self  # nothing else to do\n",
    "    \n",
    "    def transform(self, X):\n",
    "        X = X.copy()\n",
    "        \n",
    "        # removing the useless features\n",
    "        X = X.drop(self.cols, axis=1)\n",
    "        \n",
    "        return X"
   ]
  },
  {
   "cell_type": "code",
   "execution_count": 37,
   "id": "db9b8b9a-257f-47cf-94d3-7e8ae47bd59e",
   "metadata": {},
   "outputs": [
    {
     "data": {
      "text/plain": [
       "Index(['Survived', 'Pclass', 'Sex', 'Age', 'SibSp', 'Parch', 'Fare',\n",
       "       'Embarked'],\n",
       "      dtype='object')"
      ]
     },
     "execution_count": 37,
     "metadata": {},
     "output_type": "execute_result"
    }
   ],
   "source": [
    "df_train = AttributesRemovalTransformer(['PassengerId', 'Name', 'Ticket', 'Cabin']).fit_transform(df_train)\n",
    "df_train.columns"
   ]
  },
  {
   "cell_type": "markdown",
   "id": "7cb5a6a3-b531-433c-8227-d24ef5c88029",
   "metadata": {
    "tags": []
   },
   "source": [
    "### 5.4. Separating the independent variables (features) and the dependent variable (target outcome)"
   ]
  },
  {
   "cell_type": "code",
   "execution_count": 38,
   "id": "7de9c59b-8667-4347-91e7-423e6bcbad3a",
   "metadata": {},
   "outputs": [
    {
     "data": {
      "text/plain": [
       "Index(['Survived', 'Pclass', 'Sex', 'Age', 'SibSp', 'Parch', 'Fare',\n",
       "       'Embarked'],\n",
       "      dtype='object')"
      ]
     },
     "execution_count": 38,
     "metadata": {},
     "output_type": "execute_result"
    }
   ],
   "source": [
    "df_train.columns"
   ]
  },
  {
   "cell_type": "code",
   "execution_count": 39,
   "id": "dd5b5032-f236-4528-b080-890d088a2b90",
   "metadata": {},
   "outputs": [],
   "source": [
    "# store the target outcome into a numpy array\n",
    "y_train = df_train['Survived']"
   ]
  },
  {
   "cell_type": "code",
   "execution_count": 40,
   "id": "76107e2d-4225-4999-9e25-4690c43140aa",
   "metadata": {},
   "outputs": [],
   "source": [
    "# overwrite the dataframe with only the features  \n",
    "df_train = df_train.drop(columns=['Survived'])"
   ]
  },
  {
   "cell_type": "markdown",
   "id": "006465c4-33b3-44d0-af5d-8f641ef2873f",
   "metadata": {
    "tags": []
   },
   "source": [
    "### 5.5. Separate the _numerical_ and _categorical_ features\n",
    "As different preprocessing tasks (transformations) were performed, to _numerical_ features and _categorical_ ones, it makes sense to split dataset into two different dataframes.\n",
    "\n",
    "For that, new transformers are create in order to automate the process.<br>\n",
    "Also, Pandas DataFrame is also transformed to a Numpy Array, in order to use ScikitLearn transformers."
   ]
  },
  {
   "cell_type": "code",
   "execution_count": 41,
   "id": "4b9de444-ed62-4cd9-b36b-05ff5ecb0841",
   "metadata": {},
   "outputs": [],
   "source": [
    "class NumericalTransformer(BaseEstimator, TransformerMixin):\n",
    "    def __init__(self, numerical_cols):    \n",
    "        super().__init__()\n",
    "        \n",
    "        self.numerical_cols = numerical_cols\n",
    "\n",
    "    def fit(self, X, y=None):\n",
    "        return self\n",
    "\n",
    "    def transform(self, X, y=None):\n",
    "        # Numerical features to pass down the numerical pipeline\n",
    "        X = X[self.numerical_cols]\n",
    "        X = X.replace([np.inf, -np.inf], np.nan)\n",
    "        return X.values"
   ]
  },
  {
   "cell_type": "code",
   "execution_count": 42,
   "id": "146990a0-3222-4e87-bdd6-c827c7629786",
   "metadata": {},
   "outputs": [
    {
     "data": {
      "text/plain": [
       "['Pclass', 'Age', 'SibSp', 'Parch', 'Fare']"
      ]
     },
     "execution_count": 42,
     "metadata": {},
     "output_type": "execute_result"
    }
   ],
   "source": [
    "num_attributes = list(df_train.select_dtypes(include='number').columns)\n",
    "num_attributes"
   ]
  },
  {
   "cell_type": "code",
   "execution_count": 43,
   "id": "ca50c2b5-e7db-4511-9972-7b608668c40d",
   "metadata": {},
   "outputs": [
    {
     "data": {
      "text/plain": [
       "array([[ 3.    , 22.    ,  1.    ,  0.    ,  7.25  ],\n",
       "       [ 1.    , 38.    ,  1.    ,  0.    , 71.2833],\n",
       "       [ 3.    , 26.    ,  0.    ,  0.    ,  7.925 ],\n",
       "       ...,\n",
       "       [ 3.    , 21.5   ,  1.    ,  2.    , 23.45  ],\n",
       "       [ 1.    , 26.    ,  0.    ,  0.    , 30.    ],\n",
       "       [ 3.    , 32.    ,  0.    ,  0.    ,  7.75  ]])"
      ]
     },
     "execution_count": 43,
     "metadata": {},
     "output_type": "execute_result"
    }
   ],
   "source": [
    "X_train_num =  NumericalTransformer(num_attributes).fit_transform(df_train)\n",
    "X_train_num"
   ]
  },
  {
   "cell_type": "code",
   "execution_count": 44,
   "id": "8f2a0a75-8138-448f-af99-c12e301e2373",
   "metadata": {},
   "outputs": [],
   "source": [
    "class CategoricalTransformer(BaseEstimator, TransformerMixin):\n",
    "    def __init__(self, categorical_cols):\n",
    "        super().__init__()\n",
    "        \n",
    "        self.categorical_cols = categorical_cols\n",
    "\n",
    "    # Return self nothing else to do here\n",
    "    def fit(self, X, y=None):\n",
    "        return self\n",
    "\n",
    "    # Transformer method for this transformer\n",
    "    def transform(self, X, y=None):\n",
    "        # Categorical features to pass down the categorical pipeline\n",
    "        return X[self.categorical_cols].values"
   ]
  },
  {
   "cell_type": "code",
   "execution_count": 45,
   "id": "e3fa051f-35f7-48aa-b073-fa7ed2b2e9a9",
   "metadata": {},
   "outputs": [
    {
     "data": {
      "text/plain": [
       "['Sex', 'Embarked']"
      ]
     },
     "execution_count": 45,
     "metadata": {},
     "output_type": "execute_result"
    }
   ],
   "source": [
    "cat_attributes = list(df_train.select_dtypes(exclude='number').columns)\n",
    "cat_attributes"
   ]
  },
  {
   "cell_type": "code",
   "execution_count": 46,
   "id": "c790f80d-16e4-410c-8024-cd93e66ba011",
   "metadata": {},
   "outputs": [
    {
     "data": {
      "text/plain": [
       "array([['male', 'S'],\n",
       "       ['female', 'C'],\n",
       "       ['female', 'S'],\n",
       "       ...,\n",
       "       ['female', 'S'],\n",
       "       ['male', 'C'],\n",
       "       ['male', 'Q']], dtype=object)"
      ]
     },
     "execution_count": 46,
     "metadata": {},
     "output_type": "execute_result"
    }
   ],
   "source": [
    "X_train_cat = CategoricalTransformer(cat_attributes).fit_transform(df_train)\n",
    "X_train_cat"
   ]
  },
  {
   "cell_type": "markdown",
   "id": "4203ddea-b523-446e-814d-6b20f88873ba",
   "metadata": {},
   "source": [
    "### 5.6. Feature Scaling\n",
    "\n",
    "In order to scale the features, a RobustScaler from ScikitLearn is used."
   ]
  },
  {
   "cell_type": "code",
   "execution_count": 47,
   "id": "917bd12b-487f-48fc-b3f1-f65c15a9355a",
   "metadata": {},
   "outputs": [
    {
     "data": {
      "text/plain": [
       "array([[ 0.        , -0.27586207,  1.        ,  0.        , -0.3120106 ],\n",
       "       [-2.        ,  0.82758621,  1.        ,  0.        ,  2.46124229],\n",
       "       [ 0.        ,  0.        ,  0.        ,  0.        , -0.28277666],\n",
       "       ...,\n",
       "       [ 0.        , -0.31034483,  1.        ,  2.        ,  0.38960398],\n",
       "       [-2.        ,  0.        ,  0.        ,  0.        ,  0.67328148],\n",
       "       [ 0.        ,  0.4137931 ,  0.        ,  0.        , -0.29035583]])"
      ]
     },
     "execution_count": 47,
     "metadata": {},
     "output_type": "execute_result"
    }
   ],
   "source": [
    "from sklearn.preprocessing import RobustScaler\n",
    "\n",
    "scaler = RobustScaler()\n",
    "\n",
    "X_train_num_scaled = scaler.fit_transform(X_train_num)\n",
    "X_train_num_scaled"
   ]
  },
  {
   "cell_type": "markdown",
   "id": "16b6c7ec-47bb-47b6-b0f6-386390823bff",
   "metadata": {},
   "source": [
    "### 5.7. Categorical Variable Encoding\n",
    "\n",
    "Categorical variables are transformed into numerical ones by using OneHotEncoder from ScikitLearn."
   ]
  },
  {
   "cell_type": "code",
   "execution_count": 48,
   "id": "e6a15ab6-716c-4000-8429-e2f4086441b8",
   "metadata": {},
   "outputs": [
    {
     "data": {
      "text/plain": [
       "array([[0., 1., 0., 0., 1.],\n",
       "       [1., 0., 1., 0., 0.],\n",
       "       [1., 0., 0., 0., 1.],\n",
       "       ...,\n",
       "       [1., 0., 0., 0., 1.],\n",
       "       [0., 1., 1., 0., 0.],\n",
       "       [0., 1., 0., 1., 0.]])"
      ]
     },
     "execution_count": 48,
     "metadata": {},
     "output_type": "execute_result"
    }
   ],
   "source": [
    "from sklearn.preprocessing import OneHotEncoder\n",
    "\n",
    "encoder = OneHotEncoder(handle_unknown='ignore')\n",
    "\n",
    "X_train_cat_1hot = encoder.fit_transform(X_train_cat)\n",
    "X_train_cat_1hot.toarray()"
   ]
  },
  {
   "cell_type": "code",
   "execution_count": 49,
   "id": "10480ae3-6f1c-4180-a143-2597c2df52ad",
   "metadata": {},
   "outputs": [
    {
     "data": {
      "text/plain": [
       "[array(['female', 'male'], dtype=object), array(['C', 'Q', 'S'], dtype=object)]"
      ]
     },
     "execution_count": 49,
     "metadata": {},
     "output_type": "execute_result"
    }
   ],
   "source": [
    "encoder.categories_"
   ]
  },
  {
   "cell_type": "markdown",
   "id": "f4623470-04f2-4691-9b73-30fa3748182c",
   "metadata": {},
   "source": [
    "### 5.8 PolynomialFeatures\n",
    "\n",
    "In order to create a non-linear model, correlation between the variables is explored using the PolynomialFeatures transformer from ScikitLearn.\n",
    "\n",
    "**⚠️ Warning:** this transformer *must* be used before the FeatureScaling in the Pipeline, so the PolynomialFeatures increase signal before scaling.\n"
   ]
  },
  {
   "cell_type": "code",
   "execution_count": 50,
   "id": "08aa639f-0621-404c-9c0b-151340fb7865",
   "metadata": {},
   "outputs": [
    {
     "data": {
      "text/plain": [
       "array([[ 3.    , 22.    ,  1.    , ...,  0.    ,  7.25  ,  0.    ],\n",
       "       [ 1.    , 38.    ,  1.    , ...,  0.    , 71.2833,  0.    ],\n",
       "       [ 3.    , 26.    ,  0.    , ...,  0.    ,  0.    ,  0.    ],\n",
       "       ...,\n",
       "       [ 3.    , 21.5   ,  1.    , ...,  2.    , 23.45  , 46.9   ],\n",
       "       [ 1.    , 26.    ,  0.    , ...,  0.    ,  0.    ,  0.    ],\n",
       "       [ 3.    , 32.    ,  0.    , ...,  0.    ,  0.    ,  0.    ]])"
      ]
     },
     "execution_count": 50,
     "metadata": {},
     "output_type": "execute_result"
    }
   ],
   "source": [
    "from sklearn.preprocessing import PolynomialFeatures\n",
    "\n",
    "polynomial_transformer = PolynomialFeatures(include_bias=False, interaction_only=True)\n",
    "\n",
    "X_train_num_poly = polynomial_transformer.fit_transform(X_train_num)\n",
    "X_train_num_poly"
   ]
  },
  {
   "cell_type": "code",
   "execution_count": 51,
   "id": "960264b8-7818-4c93-9056-059c7bbf46f2",
   "metadata": {},
   "outputs": [
    {
     "data": {
      "text/plain": [
       "(891, 15)"
      ]
     },
     "execution_count": 51,
     "metadata": {},
     "output_type": "execute_result"
    }
   ],
   "source": [
    "X_train_num_poly.shape"
   ]
  },
  {
   "cell_type": "markdown",
   "id": "a6414a9b-4f56-4cfc-96ba-975490eca4bf",
   "metadata": {},
   "source": [
    "### 5.9. Preprocessing Pipelines\n",
    "\n",
    "For automating the whole preprocessing phase, let's build a preprocessing pipeline."
   ]
  },
  {
   "cell_type": "code",
   "execution_count": 52,
   "id": "89fdbdf7-382e-43d1-ac74-0354184a0f09",
   "metadata": {},
   "outputs": [],
   "source": [
    "from sklearn.pipeline import Pipeline, FeatureUnion"
   ]
  },
  {
   "cell_type": "markdown",
   "id": "d656c1e8-6bc6-4278-ae9a-a5a289a50d03",
   "metadata": {},
   "source": [
    "#### Pipeline for feature engineering"
   ]
  },
  {
   "cell_type": "code",
   "execution_count": 53,
   "id": "6bf25b4a-2002-49de-89d8-3a5a703d6385",
   "metadata": {},
   "outputs": [],
   "source": [
    "features_pipeline = Pipeline([\n",
    "    ('age_imputer', GroupMissingImputer(\n",
    "        group_cols=['Pclass','Sex'],\n",
    "        target='Age',\n",
    "        metric='median')),\n",
    "    ('cabin_imputer', ConstantImputer(\n",
    "        target='Cabin',\n",
    "        value='U')),\n",
    "    ('embarked_imputer', ModeImputer(\n",
    "        target='Embarked')),\n",
    "    ('feats_remover', AttributesRemovalTransformer(\n",
    "        ['PassengerId', 'Name', 'Ticket', 'Cabin']))\n",
    "])"
   ]
  },
  {
   "cell_type": "markdown",
   "id": "b487eed8-bb85-455b-a520-e05d0b96d0b5",
   "metadata": {},
   "source": [
    "#### Pipeline for numerical data"
   ]
  },
  {
   "cell_type": "code",
   "execution_count": 54,
   "id": "c9313906-802a-46c6-8fbf-0d66bbbc8e4c",
   "metadata": {},
   "outputs": [],
   "source": [
    "from sklearn.impute import SimpleImputer\n",
    "\n",
    "numerical_pipeline = Pipeline([\n",
    "    ('num_transformer', NumericalTransformer(num_attributes)),\n",
    "    ('imputer', SimpleImputer()),\n",
    "    ('poly_feat_transformer', PolynomialFeatures(include_bias=False)),\n",
    "    ('robust_scaler', RobustScaler())\n",
    "])"
   ]
  },
  {
   "cell_type": "markdown",
   "id": "2c275eb3-4119-4f68-9dba-ff208b44cbdb",
   "metadata": {},
   "source": [
    "A SimpleImputer is included to handle the missing `Fare` attribute in the test set."
   ]
  },
  {
   "cell_type": "markdown",
   "id": "6551d029-eaf3-4dc3-9cb3-f37419fe0fa2",
   "metadata": {},
   "source": [
    "#### Pipeline for categorical data"
   ]
  },
  {
   "cell_type": "code",
   "execution_count": 55,
   "id": "8039544f-1f30-4257-b04a-fda7297b7cad",
   "metadata": {},
   "outputs": [],
   "source": [
    "categorical_pipeline = Pipeline([\n",
    "    ('cat_transformer', CategoricalTransformer(cat_attributes)),\n",
    "    ('one_hot_encoder', OneHotEncoder(sparse=False))\n",
    "])"
   ]
  },
  {
   "cell_type": "markdown",
   "id": "817d5c12-3696-49df-a456-3e3b719fa1e0",
   "metadata": {},
   "source": [
    "#### Union Pipeline"
   ]
  },
  {
   "cell_type": "code",
   "execution_count": 56,
   "id": "7e179b5b-c5d2-42e6-87ef-1e018cc1f474",
   "metadata": {},
   "outputs": [],
   "source": [
    "union_pipeline = FeatureUnion([\n",
    "    ('numerical_pipeline', numerical_pipeline),\n",
    "    ('categorical_pipeline', categorical_pipeline)\n",
    "])"
   ]
  },
  {
   "cell_type": "markdown",
   "id": "e7f4e99c-9417-4397-a244-95fc773e805b",
   "metadata": {},
   "source": [
    "#### Full Preprocessing Pipeline"
   ]
  },
  {
   "cell_type": "code",
   "execution_count": 57,
   "id": "09c76334-1101-4b25-a222-0d7ea0a01e30",
   "metadata": {},
   "outputs": [],
   "source": [
    "preprocessing_pipeline = Pipeline([\n",
    "    ('features_pipeline', features_pipeline),\n",
    "    ('union_pipeline', union_pipeline),\n",
    "])"
   ]
  },
  {
   "cell_type": "code",
   "execution_count": 58,
   "id": "df2e904c-4462-4ec0-8139-f0e5c116b104",
   "metadata": {},
   "outputs": [],
   "source": [
    "# reload the cleaned training set\n",
    "df_train_clean = pd.read_csv('./datasets/train_clean.csv')\n",
    "\n",
    "df_train_pre_npy = preprocessing_pipeline.fit_transform(df_train_clean)"
   ]
  },
  {
   "cell_type": "markdown",
   "id": "b481db42-4204-4b42-a6e5-7ed280c8f641",
   "metadata": {},
   "source": [
    "#### Full Pipeline with Model Training/Prediction"
   ]
  },
  {
   "cell_type": "code",
   "execution_count": 59,
   "id": "985f8ed1-cf9b-46d7-8de9-8797c76affb6",
   "metadata": {},
   "outputs": [],
   "source": [
    "from sklearn.linear_model import RidgeClassifier\n",
    "from sklearn.tree import DecisionTreeClassifier\n",
    "from sklearn.neighbors import KNeighborsClassifier\n",
    "from sklearn import svm\n",
    "\n",
    "full_pipeline_lin = Pipeline([\n",
    "        ('preprocessing', preprocessing_pipeline),\n",
    "        ('lin_classifier', RidgeClassifier())\n",
    "])\n",
    "\n",
    "full_pipeline_tree = Pipeline([\n",
    "        ('preprocessing', preprocessing_pipeline),\n",
    "        ('tree_classifier', DecisionTreeClassifier(random_state=27))\n",
    "])\n",
    "\n",
    "\n",
    "full_pipeline_kn = Pipeline([\n",
    "        ('preprocessing', preprocessing_pipeline),\n",
    "        ('kn_classifier', KNeighborsClassifier(n_neighbors=5))\n",
    "])\n",
    "\n",
    "\n",
    "full_pipeline_svm = Pipeline([\n",
    "        ('preprocessing', preprocessing_pipeline),\n",
    "        ('svm_classifier', svm.SVC())\n",
    "])"
   ]
  },
  {
   "cell_type": "markdown",
   "id": "694b9ff7-5453-41ba-ade2-84ed74efb723",
   "metadata": {},
   "source": [
    "### 5.10. Saving the Pipelines"
   ]
  },
  {
   "cell_type": "code",
   "execution_count": 60,
   "id": "093b9f2d-7104-4b26-b596-525ff0cf1d52",
   "metadata": {},
   "outputs": [
    {
     "data": {
      "text/plain": [
       "['./models/full_pipeline_svm.pkl']"
      ]
     },
     "execution_count": 60,
     "metadata": {},
     "output_type": "execute_result"
    }
   ],
   "source": [
    "import joblib\n",
    "\n",
    "joblib.dump(preprocessing_pipeline, './models/preprocessing_pipeline.pkl')\n",
    "joblib.dump(full_pipeline_lin, './models/full_pipeline_lin.pkl')\n",
    "joblib.dump(full_pipeline_tree, './models/full_pipeline_tree.pkl')\n",
    "joblib.dump(full_pipeline_kn, './models/full_pipeline_kn.pkl')\n",
    "joblib.dump(full_pipeline_svm, './models/full_pipeline_svm.pkl')"
   ]
  },
  {
   "cell_type": "markdown",
   "id": "542f4da6-465f-49fe-a06c-bee647be541f",
   "metadata": {},
   "source": [
    "### 5.11. Saving the Preprocessed Training Set"
   ]
  },
  {
   "cell_type": "code",
   "execution_count": 61,
   "id": "d00ad23e-06d6-4c00-9085-6a96f5d6543e",
   "metadata": {},
   "outputs": [],
   "source": [
    "np.save('./datasets/train_pre_numpy.npy', df_train_pre_npy)"
   ]
  },
  {
   "cell_type": "markdown",
   "id": "da1e5242-6cc5-46ae-81bf-f221e2013b90",
   "metadata": {},
   "source": [
    "## 🏋️‍♀️ 6. Train ML Algorithms"
   ]
  },
  {
   "cell_type": "markdown",
   "id": "50766216-f348-47a1-818b-c2469597bbc3",
   "metadata": {},
   "source": [
    "### 6.1. Getting the independent (features) and dependent variables (outcome)"
   ]
  },
  {
   "cell_type": "code",
   "execution_count": 62,
   "id": "c37c43ad-ba4f-46d3-8edc-ae25030cdb3c",
   "metadata": {},
   "outputs": [],
   "source": [
    "X_train = df_train_pre_npy\n",
    "# The y_train is already available."
   ]
  },
  {
   "cell_type": "code",
   "execution_count": 63,
   "id": "fee7efd5-3a78-42ea-a1f9-0cf92053a8ee",
   "metadata": {},
   "outputs": [
    {
     "data": {
      "text/plain": [
       "(891, 25)"
      ]
     },
     "execution_count": 63,
     "metadata": {},
     "output_type": "execute_result"
    }
   ],
   "source": [
    "X_train.shape"
   ]
  },
  {
   "cell_type": "code",
   "execution_count": 64,
   "id": "92980058-92fe-45d6-9de3-ad1d70b3a168",
   "metadata": {},
   "outputs": [
    {
     "data": {
      "text/plain": [
       "(891,)"
      ]
     },
     "execution_count": 64,
     "metadata": {},
     "output_type": "execute_result"
    }
   ],
   "source": [
    "y_train.shape"
   ]
  },
  {
   "cell_type": "markdown",
   "id": "e44a68f8-4cff-4d5e-8bc1-29af46967382",
   "metadata": {},
   "source": [
    "### 6.2. Grid-Search (fine-tunning)"
   ]
  },
  {
   "cell_type": "markdown",
   "id": "bbfcaf90-a875-4735-b9e3-f77c7c075b9d",
   "metadata": {
    "tags": []
   },
   "source": [
    "#### Linear Classifier"
   ]
  },
  {
   "cell_type": "markdown",
   "id": "e4ff8f2b-92a8-4828-b45d-003c0c11e381",
   "metadata": {
    "tags": []
   },
   "source": [
    "##### **Finding out the hyperparameter key names**"
   ]
  },
  {
   "cell_type": "code",
   "execution_count": 65,
   "id": "262fd652-4b88-48cc-96f3-23a65ee4edb5",
   "metadata": {},
   "outputs": [
    {
     "data": {
      "text/plain": [
       "{'memory': None,\n",
       " 'steps': [('preprocessing',\n",
       "   Pipeline(steps=[('features_pipeline',\n",
       "                    Pipeline(steps=[('age_imputer',\n",
       "                                     GroupMissingImputer(group_cols=['Pclass',\n",
       "                                                                     'Sex'],\n",
       "                                                         metric='median',\n",
       "                                                         target='Age')),\n",
       "                                    ('cabin_imputer',\n",
       "                                     ConstantImputer(target='Cabin', value='U')),\n",
       "                                    ('embarked_imputer',\n",
       "                                     ModeImputer(target='Embarked')),\n",
       "                                    ('feats_remover',\n",
       "                                     AttributesRemovalTransformer(cols=['PassengerId',\n",
       "                                                                        'Name',\n",
       "                                                                        'Ticket',\n",
       "                                                                        'Cabin'])...\n",
       "                                                                     NumericalTransformer(numerical_cols=['Pclass',\n",
       "                                                                                                          'Age',\n",
       "                                                                                                          'SibSp',\n",
       "                                                                                                          'Parch',\n",
       "                                                                                                          'Fare'])),\n",
       "                                                                    ('imputer',\n",
       "                                                                     SimpleImputer()),\n",
       "                                                                    ('poly_feat_transformer',\n",
       "                                                                     PolynomialFeatures(include_bias=False)),\n",
       "                                                                    ('robust_scaler',\n",
       "                                                                     RobustScaler())])),\n",
       "                                                   ('categorical_pipeline',\n",
       "                                                    Pipeline(steps=[('cat_transformer',\n",
       "                                                                     CategoricalTransformer(categorical_cols=['Sex',\n",
       "                                                                                                              'Embarked'])),\n",
       "                                                                    ('one_hot_encoder',\n",
       "                                                                     OneHotEncoder(sparse=False))]))]))])),\n",
       "  ('lin_classifier', RidgeClassifier())],\n",
       " 'verbose': False,\n",
       " 'preprocessing': Pipeline(steps=[('features_pipeline',\n",
       "                  Pipeline(steps=[('age_imputer',\n",
       "                                   GroupMissingImputer(group_cols=['Pclass',\n",
       "                                                                   'Sex'],\n",
       "                                                       metric='median',\n",
       "                                                       target='Age')),\n",
       "                                  ('cabin_imputer',\n",
       "                                   ConstantImputer(target='Cabin', value='U')),\n",
       "                                  ('embarked_imputer',\n",
       "                                   ModeImputer(target='Embarked')),\n",
       "                                  ('feats_remover',\n",
       "                                   AttributesRemovalTransformer(cols=['PassengerId',\n",
       "                                                                      'Name',\n",
       "                                                                      'Ticket',\n",
       "                                                                      'Cabin'])...\n",
       "                                                                   NumericalTransformer(numerical_cols=['Pclass',\n",
       "                                                                                                        'Age',\n",
       "                                                                                                        'SibSp',\n",
       "                                                                                                        'Parch',\n",
       "                                                                                                        'Fare'])),\n",
       "                                                                  ('imputer',\n",
       "                                                                   SimpleImputer()),\n",
       "                                                                  ('poly_feat_transformer',\n",
       "                                                                   PolynomialFeatures(include_bias=False)),\n",
       "                                                                  ('robust_scaler',\n",
       "                                                                   RobustScaler())])),\n",
       "                                                 ('categorical_pipeline',\n",
       "                                                  Pipeline(steps=[('cat_transformer',\n",
       "                                                                   CategoricalTransformer(categorical_cols=['Sex',\n",
       "                                                                                                            'Embarked'])),\n",
       "                                                                  ('one_hot_encoder',\n",
       "                                                                   OneHotEncoder(sparse=False))]))]))]),\n",
       " 'lin_classifier': RidgeClassifier(),\n",
       " 'preprocessing__memory': None,\n",
       " 'preprocessing__steps': [('features_pipeline',\n",
       "   Pipeline(steps=[('age_imputer',\n",
       "                    GroupMissingImputer(group_cols=['Pclass', 'Sex'],\n",
       "                                        metric='median', target='Age')),\n",
       "                   ('cabin_imputer', ConstantImputer(target='Cabin', value='U')),\n",
       "                   ('embarked_imputer', ModeImputer(target='Embarked')),\n",
       "                   ('feats_remover',\n",
       "                    AttributesRemovalTransformer(cols=['PassengerId', 'Name',\n",
       "                                                       'Ticket', 'Cabin']))])),\n",
       "  ('union_pipeline',\n",
       "   FeatureUnion(transformer_list=[('numerical_pipeline',\n",
       "                                   Pipeline(steps=[('num_transformer',\n",
       "                                                    NumericalTransformer(numerical_cols=['Pclass',\n",
       "                                                                                         'Age',\n",
       "                                                                                         'SibSp',\n",
       "                                                                                         'Parch',\n",
       "                                                                                         'Fare'])),\n",
       "                                                   ('imputer', SimpleImputer()),\n",
       "                                                   ('poly_feat_transformer',\n",
       "                                                    PolynomialFeatures(include_bias=False)),\n",
       "                                                   ('robust_scaler',\n",
       "                                                    RobustScaler())])),\n",
       "                                  ('categorical_pipeline',\n",
       "                                   Pipeline(steps=[('cat_transformer',\n",
       "                                                    CategoricalTransformer(categorical_cols=['Sex',\n",
       "                                                                                             'Embarked'])),\n",
       "                                                   ('one_hot_encoder',\n",
       "                                                    OneHotEncoder(sparse=False))]))]))],\n",
       " 'preprocessing__verbose': False,\n",
       " 'preprocessing__features_pipeline': Pipeline(steps=[('age_imputer',\n",
       "                  GroupMissingImputer(group_cols=['Pclass', 'Sex'],\n",
       "                                      metric='median', target='Age')),\n",
       "                 ('cabin_imputer', ConstantImputer(target='Cabin', value='U')),\n",
       "                 ('embarked_imputer', ModeImputer(target='Embarked')),\n",
       "                 ('feats_remover',\n",
       "                  AttributesRemovalTransformer(cols=['PassengerId', 'Name',\n",
       "                                                     'Ticket', 'Cabin']))]),\n",
       " 'preprocessing__union_pipeline': FeatureUnion(transformer_list=[('numerical_pipeline',\n",
       "                                 Pipeline(steps=[('num_transformer',\n",
       "                                                  NumericalTransformer(numerical_cols=['Pclass',\n",
       "                                                                                       'Age',\n",
       "                                                                                       'SibSp',\n",
       "                                                                                       'Parch',\n",
       "                                                                                       'Fare'])),\n",
       "                                                 ('imputer', SimpleImputer()),\n",
       "                                                 ('poly_feat_transformer',\n",
       "                                                  PolynomialFeatures(include_bias=False)),\n",
       "                                                 ('robust_scaler',\n",
       "                                                  RobustScaler())])),\n",
       "                                ('categorical_pipeline',\n",
       "                                 Pipeline(steps=[('cat_transformer',\n",
       "                                                  CategoricalTransformer(categorical_cols=['Sex',\n",
       "                                                                                           'Embarked'])),\n",
       "                                                 ('one_hot_encoder',\n",
       "                                                  OneHotEncoder(sparse=False))]))]),\n",
       " 'preprocessing__features_pipeline__memory': None,\n",
       " 'preprocessing__features_pipeline__steps': [('age_imputer',\n",
       "   GroupMissingImputer(group_cols=['Pclass', 'Sex'], metric='median', target='Age')),\n",
       "  ('cabin_imputer', ConstantImputer(target='Cabin', value='U')),\n",
       "  ('embarked_imputer', ModeImputer(target='Embarked')),\n",
       "  ('feats_remover',\n",
       "   AttributesRemovalTransformer(cols=['PassengerId', 'Name', 'Ticket', 'Cabin']))],\n",
       " 'preprocessing__features_pipeline__verbose': False,\n",
       " 'preprocessing__features_pipeline__age_imputer': GroupMissingImputer(group_cols=['Pclass', 'Sex'], metric='median', target='Age'),\n",
       " 'preprocessing__features_pipeline__cabin_imputer': ConstantImputer(target='Cabin', value='U'),\n",
       " 'preprocessing__features_pipeline__embarked_imputer': ModeImputer(target='Embarked'),\n",
       " 'preprocessing__features_pipeline__feats_remover': AttributesRemovalTransformer(cols=['PassengerId', 'Name', 'Ticket', 'Cabin']),\n",
       " 'preprocessing__features_pipeline__age_imputer__group_cols': ['Pclass',\n",
       "  'Sex'],\n",
       " 'preprocessing__features_pipeline__age_imputer__metric': 'median',\n",
       " 'preprocessing__features_pipeline__age_imputer__target': 'Age',\n",
       " 'preprocessing__features_pipeline__cabin_imputer__target': 'Cabin',\n",
       " 'preprocessing__features_pipeline__cabin_imputer__value': 'U',\n",
       " 'preprocessing__features_pipeline__embarked_imputer__target': 'Embarked',\n",
       " 'preprocessing__features_pipeline__feats_remover__cols': ['PassengerId',\n",
       "  'Name',\n",
       "  'Ticket',\n",
       "  'Cabin'],\n",
       " 'preprocessing__union_pipeline__n_jobs': None,\n",
       " 'preprocessing__union_pipeline__transformer_list': [('numerical_pipeline',\n",
       "   Pipeline(steps=[('num_transformer',\n",
       "                    NumericalTransformer(numerical_cols=['Pclass', 'Age', 'SibSp',\n",
       "                                                         'Parch', 'Fare'])),\n",
       "                   ('imputer', SimpleImputer()),\n",
       "                   ('poly_feat_transformer',\n",
       "                    PolynomialFeatures(include_bias=False)),\n",
       "                   ('robust_scaler', RobustScaler())])),\n",
       "  ('categorical_pipeline',\n",
       "   Pipeline(steps=[('cat_transformer',\n",
       "                    CategoricalTransformer(categorical_cols=['Sex', 'Embarked'])),\n",
       "                   ('one_hot_encoder', OneHotEncoder(sparse=False))]))],\n",
       " 'preprocessing__union_pipeline__transformer_weights': None,\n",
       " 'preprocessing__union_pipeline__verbose': False,\n",
       " 'preprocessing__union_pipeline__numerical_pipeline': Pipeline(steps=[('num_transformer',\n",
       "                  NumericalTransformer(numerical_cols=['Pclass', 'Age', 'SibSp',\n",
       "                                                       'Parch', 'Fare'])),\n",
       "                 ('imputer', SimpleImputer()),\n",
       "                 ('poly_feat_transformer',\n",
       "                  PolynomialFeatures(include_bias=False)),\n",
       "                 ('robust_scaler', RobustScaler())]),\n",
       " 'preprocessing__union_pipeline__categorical_pipeline': Pipeline(steps=[('cat_transformer',\n",
       "                  CategoricalTransformer(categorical_cols=['Sex', 'Embarked'])),\n",
       "                 ('one_hot_encoder', OneHotEncoder(sparse=False))]),\n",
       " 'preprocessing__union_pipeline__numerical_pipeline__memory': None,\n",
       " 'preprocessing__union_pipeline__numerical_pipeline__steps': [('num_transformer',\n",
       "   NumericalTransformer(numerical_cols=['Pclass', 'Age', 'SibSp', 'Parch', 'Fare'])),\n",
       "  ('imputer', SimpleImputer()),\n",
       "  ('poly_feat_transformer', PolynomialFeatures(include_bias=False)),\n",
       "  ('robust_scaler', RobustScaler())],\n",
       " 'preprocessing__union_pipeline__numerical_pipeline__verbose': False,\n",
       " 'preprocessing__union_pipeline__numerical_pipeline__num_transformer': NumericalTransformer(numerical_cols=['Pclass', 'Age', 'SibSp', 'Parch', 'Fare']),\n",
       " 'preprocessing__union_pipeline__numerical_pipeline__imputer': SimpleImputer(),\n",
       " 'preprocessing__union_pipeline__numerical_pipeline__poly_feat_transformer': PolynomialFeatures(include_bias=False),\n",
       " 'preprocessing__union_pipeline__numerical_pipeline__robust_scaler': RobustScaler(),\n",
       " 'preprocessing__union_pipeline__numerical_pipeline__num_transformer__numerical_cols': ['Pclass',\n",
       "  'Age',\n",
       "  'SibSp',\n",
       "  'Parch',\n",
       "  'Fare'],\n",
       " 'preprocessing__union_pipeline__numerical_pipeline__imputer__add_indicator': False,\n",
       " 'preprocessing__union_pipeline__numerical_pipeline__imputer__copy': True,\n",
       " 'preprocessing__union_pipeline__numerical_pipeline__imputer__fill_value': None,\n",
       " 'preprocessing__union_pipeline__numerical_pipeline__imputer__missing_values': nan,\n",
       " 'preprocessing__union_pipeline__numerical_pipeline__imputer__strategy': 'mean',\n",
       " 'preprocessing__union_pipeline__numerical_pipeline__imputer__verbose': 0,\n",
       " 'preprocessing__union_pipeline__numerical_pipeline__poly_feat_transformer__degree': 2,\n",
       " 'preprocessing__union_pipeline__numerical_pipeline__poly_feat_transformer__include_bias': False,\n",
       " 'preprocessing__union_pipeline__numerical_pipeline__poly_feat_transformer__interaction_only': False,\n",
       " 'preprocessing__union_pipeline__numerical_pipeline__poly_feat_transformer__order': 'C',\n",
       " 'preprocessing__union_pipeline__numerical_pipeline__robust_scaler__copy': True,\n",
       " 'preprocessing__union_pipeline__numerical_pipeline__robust_scaler__quantile_range': (25.0,\n",
       "  75.0),\n",
       " 'preprocessing__union_pipeline__numerical_pipeline__robust_scaler__unit_variance': False,\n",
       " 'preprocessing__union_pipeline__numerical_pipeline__robust_scaler__with_centering': True,\n",
       " 'preprocessing__union_pipeline__numerical_pipeline__robust_scaler__with_scaling': True,\n",
       " 'preprocessing__union_pipeline__categorical_pipeline__memory': None,\n",
       " 'preprocessing__union_pipeline__categorical_pipeline__steps': [('cat_transformer',\n",
       "   CategoricalTransformer(categorical_cols=['Sex', 'Embarked'])),\n",
       "  ('one_hot_encoder', OneHotEncoder(sparse=False))],\n",
       " 'preprocessing__union_pipeline__categorical_pipeline__verbose': False,\n",
       " 'preprocessing__union_pipeline__categorical_pipeline__cat_transformer': CategoricalTransformer(categorical_cols=['Sex', 'Embarked']),\n",
       " 'preprocessing__union_pipeline__categorical_pipeline__one_hot_encoder': OneHotEncoder(sparse=False),\n",
       " 'preprocessing__union_pipeline__categorical_pipeline__cat_transformer__categorical_cols': ['Sex',\n",
       "  'Embarked'],\n",
       " 'preprocessing__union_pipeline__categorical_pipeline__one_hot_encoder__categories': 'auto',\n",
       " 'preprocessing__union_pipeline__categorical_pipeline__one_hot_encoder__drop': None,\n",
       " 'preprocessing__union_pipeline__categorical_pipeline__one_hot_encoder__dtype': numpy.float64,\n",
       " 'preprocessing__union_pipeline__categorical_pipeline__one_hot_encoder__handle_unknown': 'error',\n",
       " 'preprocessing__union_pipeline__categorical_pipeline__one_hot_encoder__sparse': False,\n",
       " 'lin_classifier__alpha': 1.0,\n",
       " 'lin_classifier__class_weight': None,\n",
       " 'lin_classifier__copy_X': True,\n",
       " 'lin_classifier__fit_intercept': True,\n",
       " 'lin_classifier__max_iter': None,\n",
       " 'lin_classifier__normalize': False,\n",
       " 'lin_classifier__random_state': None,\n",
       " 'lin_classifier__solver': 'auto',\n",
       " 'lin_classifier__tol': 0.001}"
      ]
     },
     "execution_count": 65,
     "metadata": {},
     "output_type": "execute_result"
    }
   ],
   "source": [
    "full_pipeline_lin.get_params()"
   ]
  },
  {
   "cell_type": "markdown",
   "id": "495dcfd2-6f23-4972-8df4-5c3966bd1d79",
   "metadata": {
    "tags": []
   },
   "source": [
    "##### **Grid-search**"
   ]
  },
  {
   "cell_type": "code",
   "execution_count": 66,
   "id": "2d9a2af2-e925-4368-b074-ed879b54e92c",
   "metadata": {},
   "outputs": [
    {
     "name": "stdout",
     "output_type": "stream",
     "text": [
      "Fitting 5 folds for each of 24 candidates, totalling 120 fits\n"
     ]
    },
    {
     "data": {
      "text/plain": [
       "GridSearchCV(cv=5,\n",
       "             estimator=Pipeline(steps=[('preprocessing',\n",
       "                                        Pipeline(steps=[('features_pipeline',\n",
       "                                                         Pipeline(steps=[('age_imputer',\n",
       "                                                                          GroupMissingImputer(group_cols=['Pclass',\n",
       "                                                                                                          'Sex'],\n",
       "                                                                                              metric='median',\n",
       "                                                                                              target='Age')),\n",
       "                                                                         ('cabin_imputer',\n",
       "                                                                          ConstantImputer(target='Cabin',\n",
       "                                                                                          value='U')),\n",
       "                                                                         ('embarked_imputer',\n",
       "                                                                          ModeImputer(target='Embarked')),\n",
       "                                                                         ('feats_remover',\n",
       "                                                                          AttributesRem...\n",
       "                                                                                    'median'],\n",
       "                          'preprocessing__union_pipeline__numerical_pipeline__poly_feat_transformer__degree': [1,\n",
       "                                                                                                               2,\n",
       "                                                                                                               3],\n",
       "                          'preprocessing__union_pipeline__numerical_pipeline__poly_feat_transformer__include_bias': [True,\n",
       "                                                                                                                     False],\n",
       "                          'preprocessing__union_pipeline__numerical_pipeline__poly_feat_transformer__interaction_only': [True,\n",
       "                                                                                                                         False]}],\n",
       "             return_train_score=True, scoring='f1', verbose=1)"
      ]
     },
     "execution_count": 66,
     "metadata": {},
     "output_type": "execute_result"
    }
   ],
   "source": [
    "from sklearn.model_selection import GridSearchCV\n",
    "\n",
    "# search space\n",
    "param_grid_lin = [\n",
    "    {\n",
    "    'preprocessing__features_pipeline__age_imputer__metric': ['mean', 'median'],\n",
    "    'preprocessing__union_pipeline__numerical_pipeline__poly_feat_transformer__degree': [1, 2, 3],\n",
    "    'preprocessing__union_pipeline__numerical_pipeline__poly_feat_transformer__include_bias': [True, False],\n",
    "    'preprocessing__union_pipeline__numerical_pipeline__poly_feat_transformer__interaction_only': [True, False],\n",
    "    }\n",
    "]\n",
    "\n",
    "grid_search_lin = GridSearchCV(full_pipeline_lin, param_grid_lin, cv=5, scoring='f1', return_train_score=True, verbose=1)\n",
    "grid_search_lin.fit(df_train_clean, y_train)"
   ]
  },
  {
   "cell_type": "code",
   "execution_count": 67,
   "id": "e5e808fd-1ac4-4e89-8098-c91a27f4de02",
   "metadata": {},
   "outputs": [
    {
     "name": "stdout",
     "output_type": "stream",
     "text": [
      "0.7222544861880291 {'preprocessing__features_pipeline__age_imputer__metric': 'mean', 'preprocessing__union_pipeline__numerical_pipeline__poly_feat_transformer__degree': 1, 'preprocessing__union_pipeline__numerical_pipeline__poly_feat_transformer__include_bias': True, 'preprocessing__union_pipeline__numerical_pipeline__poly_feat_transformer__interaction_only': True}\n",
      "0.7222544861880291 {'preprocessing__features_pipeline__age_imputer__metric': 'mean', 'preprocessing__union_pipeline__numerical_pipeline__poly_feat_transformer__degree': 1, 'preprocessing__union_pipeline__numerical_pipeline__poly_feat_transformer__include_bias': True, 'preprocessing__union_pipeline__numerical_pipeline__poly_feat_transformer__interaction_only': False}\n",
      "0.7222544861880291 {'preprocessing__features_pipeline__age_imputer__metric': 'mean', 'preprocessing__union_pipeline__numerical_pipeline__poly_feat_transformer__degree': 1, 'preprocessing__union_pipeline__numerical_pipeline__poly_feat_transformer__include_bias': False, 'preprocessing__union_pipeline__numerical_pipeline__poly_feat_transformer__interaction_only': True}\n",
      "0.7222544861880291 {'preprocessing__features_pipeline__age_imputer__metric': 'mean', 'preprocessing__union_pipeline__numerical_pipeline__poly_feat_transformer__degree': 1, 'preprocessing__union_pipeline__numerical_pipeline__poly_feat_transformer__include_bias': False, 'preprocessing__union_pipeline__numerical_pipeline__poly_feat_transformer__interaction_only': False}\n",
      "0.7385440041440041 {'preprocessing__features_pipeline__age_imputer__metric': 'mean', 'preprocessing__union_pipeline__numerical_pipeline__poly_feat_transformer__degree': 2, 'preprocessing__union_pipeline__numerical_pipeline__poly_feat_transformer__include_bias': True, 'preprocessing__union_pipeline__numerical_pipeline__poly_feat_transformer__interaction_only': True}\n",
      "0.7438056696060028 {'preprocessing__features_pipeline__age_imputer__metric': 'mean', 'preprocessing__union_pipeline__numerical_pipeline__poly_feat_transformer__degree': 2, 'preprocessing__union_pipeline__numerical_pipeline__poly_feat_transformer__include_bias': True, 'preprocessing__union_pipeline__numerical_pipeline__poly_feat_transformer__interaction_only': False}\n",
      "0.7385440041440041 {'preprocessing__features_pipeline__age_imputer__metric': 'mean', 'preprocessing__union_pipeline__numerical_pipeline__poly_feat_transformer__degree': 2, 'preprocessing__union_pipeline__numerical_pipeline__poly_feat_transformer__include_bias': False, 'preprocessing__union_pipeline__numerical_pipeline__poly_feat_transformer__interaction_only': True}\n",
      "0.7438056696060028 {'preprocessing__features_pipeline__age_imputer__metric': 'mean', 'preprocessing__union_pipeline__numerical_pipeline__poly_feat_transformer__degree': 2, 'preprocessing__union_pipeline__numerical_pipeline__poly_feat_transformer__include_bias': False, 'preprocessing__union_pipeline__numerical_pipeline__poly_feat_transformer__interaction_only': False}\n",
      "0.7413207480386286 {'preprocessing__features_pipeline__age_imputer__metric': 'mean', 'preprocessing__union_pipeline__numerical_pipeline__poly_feat_transformer__degree': 3, 'preprocessing__union_pipeline__numerical_pipeline__poly_feat_transformer__include_bias': True, 'preprocessing__union_pipeline__numerical_pipeline__poly_feat_transformer__interaction_only': True}\n",
      "0.7352977295856303 {'preprocessing__features_pipeline__age_imputer__metric': 'mean', 'preprocessing__union_pipeline__numerical_pipeline__poly_feat_transformer__degree': 3, 'preprocessing__union_pipeline__numerical_pipeline__poly_feat_transformer__include_bias': True, 'preprocessing__union_pipeline__numerical_pipeline__poly_feat_transformer__interaction_only': False}\n",
      "0.7413207480386286 {'preprocessing__features_pipeline__age_imputer__metric': 'mean', 'preprocessing__union_pipeline__numerical_pipeline__poly_feat_transformer__degree': 3, 'preprocessing__union_pipeline__numerical_pipeline__poly_feat_transformer__include_bias': False, 'preprocessing__union_pipeline__numerical_pipeline__poly_feat_transformer__interaction_only': True}\n",
      "0.7352977295856303 {'preprocessing__features_pipeline__age_imputer__metric': 'mean', 'preprocessing__union_pipeline__numerical_pipeline__poly_feat_transformer__degree': 3, 'preprocessing__union_pipeline__numerical_pipeline__poly_feat_transformer__include_bias': False, 'preprocessing__union_pipeline__numerical_pipeline__poly_feat_transformer__interaction_only': False}\n",
      "0.7222544861880291 {'preprocessing__features_pipeline__age_imputer__metric': 'median', 'preprocessing__union_pipeline__numerical_pipeline__poly_feat_transformer__degree': 1, 'preprocessing__union_pipeline__numerical_pipeline__poly_feat_transformer__include_bias': True, 'preprocessing__union_pipeline__numerical_pipeline__poly_feat_transformer__interaction_only': True}\n",
      "0.7222544861880291 {'preprocessing__features_pipeline__age_imputer__metric': 'median', 'preprocessing__union_pipeline__numerical_pipeline__poly_feat_transformer__degree': 1, 'preprocessing__union_pipeline__numerical_pipeline__poly_feat_transformer__include_bias': True, 'preprocessing__union_pipeline__numerical_pipeline__poly_feat_transformer__interaction_only': False}\n",
      "0.7222544861880291 {'preprocessing__features_pipeline__age_imputer__metric': 'median', 'preprocessing__union_pipeline__numerical_pipeline__poly_feat_transformer__degree': 1, 'preprocessing__union_pipeline__numerical_pipeline__poly_feat_transformer__include_bias': False, 'preprocessing__union_pipeline__numerical_pipeline__poly_feat_transformer__interaction_only': True}\n",
      "0.7222544861880291 {'preprocessing__features_pipeline__age_imputer__metric': 'median', 'preprocessing__union_pipeline__numerical_pipeline__poly_feat_transformer__degree': 1, 'preprocessing__union_pipeline__numerical_pipeline__poly_feat_transformer__include_bias': False, 'preprocessing__union_pipeline__numerical_pipeline__poly_feat_transformer__interaction_only': False}\n",
      "0.7385440041440041 {'preprocessing__features_pipeline__age_imputer__metric': 'median', 'preprocessing__union_pipeline__numerical_pipeline__poly_feat_transformer__degree': 2, 'preprocessing__union_pipeline__numerical_pipeline__poly_feat_transformer__include_bias': True, 'preprocessing__union_pipeline__numerical_pipeline__poly_feat_transformer__interaction_only': True}\n",
      "0.7438056696060028 {'preprocessing__features_pipeline__age_imputer__metric': 'median', 'preprocessing__union_pipeline__numerical_pipeline__poly_feat_transformer__degree': 2, 'preprocessing__union_pipeline__numerical_pipeline__poly_feat_transformer__include_bias': True, 'preprocessing__union_pipeline__numerical_pipeline__poly_feat_transformer__interaction_only': False}\n",
      "0.7385440041440041 {'preprocessing__features_pipeline__age_imputer__metric': 'median', 'preprocessing__union_pipeline__numerical_pipeline__poly_feat_transformer__degree': 2, 'preprocessing__union_pipeline__numerical_pipeline__poly_feat_transformer__include_bias': False, 'preprocessing__union_pipeline__numerical_pipeline__poly_feat_transformer__interaction_only': True}\n",
      "0.7438056696060028 {'preprocessing__features_pipeline__age_imputer__metric': 'median', 'preprocessing__union_pipeline__numerical_pipeline__poly_feat_transformer__degree': 2, 'preprocessing__union_pipeline__numerical_pipeline__poly_feat_transformer__include_bias': False, 'preprocessing__union_pipeline__numerical_pipeline__poly_feat_transformer__interaction_only': False}\n",
      "0.7413207480386286 {'preprocessing__features_pipeline__age_imputer__metric': 'median', 'preprocessing__union_pipeline__numerical_pipeline__poly_feat_transformer__degree': 3, 'preprocessing__union_pipeline__numerical_pipeline__poly_feat_transformer__include_bias': True, 'preprocessing__union_pipeline__numerical_pipeline__poly_feat_transformer__interaction_only': True}\n",
      "0.7352977295856303 {'preprocessing__features_pipeline__age_imputer__metric': 'median', 'preprocessing__union_pipeline__numerical_pipeline__poly_feat_transformer__degree': 3, 'preprocessing__union_pipeline__numerical_pipeline__poly_feat_transformer__include_bias': True, 'preprocessing__union_pipeline__numerical_pipeline__poly_feat_transformer__interaction_only': False}\n",
      "0.7413207480386286 {'preprocessing__features_pipeline__age_imputer__metric': 'median', 'preprocessing__union_pipeline__numerical_pipeline__poly_feat_transformer__degree': 3, 'preprocessing__union_pipeline__numerical_pipeline__poly_feat_transformer__include_bias': False, 'preprocessing__union_pipeline__numerical_pipeline__poly_feat_transformer__interaction_only': True}\n",
      "0.7352977295856303 {'preprocessing__features_pipeline__age_imputer__metric': 'median', 'preprocessing__union_pipeline__numerical_pipeline__poly_feat_transformer__degree': 3, 'preprocessing__union_pipeline__numerical_pipeline__poly_feat_transformer__include_bias': False, 'preprocessing__union_pipeline__numerical_pipeline__poly_feat_transformer__interaction_only': False}\n"
     ]
    }
   ],
   "source": [
    "cvres = grid_search_lin.cv_results_\n",
    "\n",
    "# (approximated) RMSE\n",
    "for mean_score, params in zip(cvres[\"mean_test_score\"], cvres[\"params\"]):\n",
    "    print(mean_score, params)"
   ]
  },
  {
   "cell_type": "code",
   "execution_count": 68,
   "id": "cee4bae5-f89b-466c-b90c-7ec140d9cc63",
   "metadata": {},
   "outputs": [
    {
     "data": {
      "text/plain": [
       "{'preprocessing__features_pipeline__age_imputer__metric': 'mean',\n",
       " 'preprocessing__union_pipeline__numerical_pipeline__poly_feat_transformer__degree': 2,\n",
       " 'preprocessing__union_pipeline__numerical_pipeline__poly_feat_transformer__include_bias': True,\n",
       " 'preprocessing__union_pipeline__numerical_pipeline__poly_feat_transformer__interaction_only': False}"
      ]
     },
     "execution_count": 68,
     "metadata": {},
     "output_type": "execute_result"
    }
   ],
   "source": [
    "# best params\n",
    "grid_search_lin.best_params_"
   ]
  },
  {
   "cell_type": "code",
   "execution_count": 69,
   "id": "7f2cfd77-43e2-48db-b5f4-57b686133c23",
   "metadata": {},
   "outputs": [
    {
     "name": "stdout",
     "output_type": "stream",
     "text": [
      "Best score: 0.7438056696060028 +- 0.03526776657350073\n"
     ]
    }
   ],
   "source": [
    "# get the approximated RMSE and its standard deviation\n",
    "best_index = grid_search_lin.best_index_\n",
    "best_score = grid_search_lin.cv_results_['mean_test_score'][best_index]\n",
    "best_score_std = grid_search_lin.cv_results_['std_test_score'][best_index]\n",
    "\n",
    "print(f'Best score: {best_score} +- {best_score_std}')"
   ]
  },
  {
   "cell_type": "markdown",
   "id": "721068a2-e0c1-4a7d-8dc3-9fbb50ea4263",
   "metadata": {
    "tags": []
   },
   "source": [
    "#### Decision Tree Classifier"
   ]
  },
  {
   "cell_type": "markdown",
   "id": "6c6ccaad-b41a-4136-a10a-0c605e4bcbba",
   "metadata": {},
   "source": [
    "##### **Finding out the hyperparameter key names**"
   ]
  },
  {
   "cell_type": "code",
   "execution_count": 70,
   "id": "0484a4cd-1a42-4e3e-8f1c-2fc99421f263",
   "metadata": {},
   "outputs": [
    {
     "data": {
      "text/plain": [
       "{'memory': None,\n",
       " 'steps': [('preprocessing',\n",
       "   Pipeline(steps=[('features_pipeline',\n",
       "                    Pipeline(steps=[('age_imputer',\n",
       "                                     GroupMissingImputer(group_cols=['Pclass',\n",
       "                                                                     'Sex'],\n",
       "                                                         metric='median',\n",
       "                                                         target='Age')),\n",
       "                                    ('cabin_imputer',\n",
       "                                     ConstantImputer(target='Cabin', value='U')),\n",
       "                                    ('embarked_imputer',\n",
       "                                     ModeImputer(target='Embarked')),\n",
       "                                    ('feats_remover',\n",
       "                                     AttributesRemovalTransformer(cols=['PassengerId',\n",
       "                                                                        'Name',\n",
       "                                                                        'Ticket',\n",
       "                                                                        'Cabin'])...\n",
       "                                                                     NumericalTransformer(numerical_cols=['Pclass',\n",
       "                                                                                                          'Age',\n",
       "                                                                                                          'SibSp',\n",
       "                                                                                                          'Parch',\n",
       "                                                                                                          'Fare'])),\n",
       "                                                                    ('imputer',\n",
       "                                                                     SimpleImputer()),\n",
       "                                                                    ('poly_feat_transformer',\n",
       "                                                                     PolynomialFeatures(include_bias=False)),\n",
       "                                                                    ('robust_scaler',\n",
       "                                                                     RobustScaler())])),\n",
       "                                                   ('categorical_pipeline',\n",
       "                                                    Pipeline(steps=[('cat_transformer',\n",
       "                                                                     CategoricalTransformer(categorical_cols=['Sex',\n",
       "                                                                                                              'Embarked'])),\n",
       "                                                                    ('one_hot_encoder',\n",
       "                                                                     OneHotEncoder(sparse=False))]))]))])),\n",
       "  ('tree_classifier', DecisionTreeClassifier(random_state=27))],\n",
       " 'verbose': False,\n",
       " 'preprocessing': Pipeline(steps=[('features_pipeline',\n",
       "                  Pipeline(steps=[('age_imputer',\n",
       "                                   GroupMissingImputer(group_cols=['Pclass',\n",
       "                                                                   'Sex'],\n",
       "                                                       metric='median',\n",
       "                                                       target='Age')),\n",
       "                                  ('cabin_imputer',\n",
       "                                   ConstantImputer(target='Cabin', value='U')),\n",
       "                                  ('embarked_imputer',\n",
       "                                   ModeImputer(target='Embarked')),\n",
       "                                  ('feats_remover',\n",
       "                                   AttributesRemovalTransformer(cols=['PassengerId',\n",
       "                                                                      'Name',\n",
       "                                                                      'Ticket',\n",
       "                                                                      'Cabin'])...\n",
       "                                                                   NumericalTransformer(numerical_cols=['Pclass',\n",
       "                                                                                                        'Age',\n",
       "                                                                                                        'SibSp',\n",
       "                                                                                                        'Parch',\n",
       "                                                                                                        'Fare'])),\n",
       "                                                                  ('imputer',\n",
       "                                                                   SimpleImputer()),\n",
       "                                                                  ('poly_feat_transformer',\n",
       "                                                                   PolynomialFeatures(include_bias=False)),\n",
       "                                                                  ('robust_scaler',\n",
       "                                                                   RobustScaler())])),\n",
       "                                                 ('categorical_pipeline',\n",
       "                                                  Pipeline(steps=[('cat_transformer',\n",
       "                                                                   CategoricalTransformer(categorical_cols=['Sex',\n",
       "                                                                                                            'Embarked'])),\n",
       "                                                                  ('one_hot_encoder',\n",
       "                                                                   OneHotEncoder(sparse=False))]))]))]),\n",
       " 'tree_classifier': DecisionTreeClassifier(random_state=27),\n",
       " 'preprocessing__memory': None,\n",
       " 'preprocessing__steps': [('features_pipeline',\n",
       "   Pipeline(steps=[('age_imputer',\n",
       "                    GroupMissingImputer(group_cols=['Pclass', 'Sex'],\n",
       "                                        metric='median', target='Age')),\n",
       "                   ('cabin_imputer', ConstantImputer(target='Cabin', value='U')),\n",
       "                   ('embarked_imputer', ModeImputer(target='Embarked')),\n",
       "                   ('feats_remover',\n",
       "                    AttributesRemovalTransformer(cols=['PassengerId', 'Name',\n",
       "                                                       'Ticket', 'Cabin']))])),\n",
       "  ('union_pipeline',\n",
       "   FeatureUnion(transformer_list=[('numerical_pipeline',\n",
       "                                   Pipeline(steps=[('num_transformer',\n",
       "                                                    NumericalTransformer(numerical_cols=['Pclass',\n",
       "                                                                                         'Age',\n",
       "                                                                                         'SibSp',\n",
       "                                                                                         'Parch',\n",
       "                                                                                         'Fare'])),\n",
       "                                                   ('imputer', SimpleImputer()),\n",
       "                                                   ('poly_feat_transformer',\n",
       "                                                    PolynomialFeatures(include_bias=False)),\n",
       "                                                   ('robust_scaler',\n",
       "                                                    RobustScaler())])),\n",
       "                                  ('categorical_pipeline',\n",
       "                                   Pipeline(steps=[('cat_transformer',\n",
       "                                                    CategoricalTransformer(categorical_cols=['Sex',\n",
       "                                                                                             'Embarked'])),\n",
       "                                                   ('one_hot_encoder',\n",
       "                                                    OneHotEncoder(sparse=False))]))]))],\n",
       " 'preprocessing__verbose': False,\n",
       " 'preprocessing__features_pipeline': Pipeline(steps=[('age_imputer',\n",
       "                  GroupMissingImputer(group_cols=['Pclass', 'Sex'],\n",
       "                                      metric='median', target='Age')),\n",
       "                 ('cabin_imputer', ConstantImputer(target='Cabin', value='U')),\n",
       "                 ('embarked_imputer', ModeImputer(target='Embarked')),\n",
       "                 ('feats_remover',\n",
       "                  AttributesRemovalTransformer(cols=['PassengerId', 'Name',\n",
       "                                                     'Ticket', 'Cabin']))]),\n",
       " 'preprocessing__union_pipeline': FeatureUnion(transformer_list=[('numerical_pipeline',\n",
       "                                 Pipeline(steps=[('num_transformer',\n",
       "                                                  NumericalTransformer(numerical_cols=['Pclass',\n",
       "                                                                                       'Age',\n",
       "                                                                                       'SibSp',\n",
       "                                                                                       'Parch',\n",
       "                                                                                       'Fare'])),\n",
       "                                                 ('imputer', SimpleImputer()),\n",
       "                                                 ('poly_feat_transformer',\n",
       "                                                  PolynomialFeatures(include_bias=False)),\n",
       "                                                 ('robust_scaler',\n",
       "                                                  RobustScaler())])),\n",
       "                                ('categorical_pipeline',\n",
       "                                 Pipeline(steps=[('cat_transformer',\n",
       "                                                  CategoricalTransformer(categorical_cols=['Sex',\n",
       "                                                                                           'Embarked'])),\n",
       "                                                 ('one_hot_encoder',\n",
       "                                                  OneHotEncoder(sparse=False))]))]),\n",
       " 'preprocessing__features_pipeline__memory': None,\n",
       " 'preprocessing__features_pipeline__steps': [('age_imputer',\n",
       "   GroupMissingImputer(group_cols=['Pclass', 'Sex'], metric='median', target='Age')),\n",
       "  ('cabin_imputer', ConstantImputer(target='Cabin', value='U')),\n",
       "  ('embarked_imputer', ModeImputer(target='Embarked')),\n",
       "  ('feats_remover',\n",
       "   AttributesRemovalTransformer(cols=['PassengerId', 'Name', 'Ticket', 'Cabin']))],\n",
       " 'preprocessing__features_pipeline__verbose': False,\n",
       " 'preprocessing__features_pipeline__age_imputer': GroupMissingImputer(group_cols=['Pclass', 'Sex'], metric='median', target='Age'),\n",
       " 'preprocessing__features_pipeline__cabin_imputer': ConstantImputer(target='Cabin', value='U'),\n",
       " 'preprocessing__features_pipeline__embarked_imputer': ModeImputer(target='Embarked'),\n",
       " 'preprocessing__features_pipeline__feats_remover': AttributesRemovalTransformer(cols=['PassengerId', 'Name', 'Ticket', 'Cabin']),\n",
       " 'preprocessing__features_pipeline__age_imputer__group_cols': ['Pclass',\n",
       "  'Sex'],\n",
       " 'preprocessing__features_pipeline__age_imputer__metric': 'median',\n",
       " 'preprocessing__features_pipeline__age_imputer__target': 'Age',\n",
       " 'preprocessing__features_pipeline__cabin_imputer__target': 'Cabin',\n",
       " 'preprocessing__features_pipeline__cabin_imputer__value': 'U',\n",
       " 'preprocessing__features_pipeline__embarked_imputer__target': 'Embarked',\n",
       " 'preprocessing__features_pipeline__feats_remover__cols': ['PassengerId',\n",
       "  'Name',\n",
       "  'Ticket',\n",
       "  'Cabin'],\n",
       " 'preprocessing__union_pipeline__n_jobs': None,\n",
       " 'preprocessing__union_pipeline__transformer_list': [('numerical_pipeline',\n",
       "   Pipeline(steps=[('num_transformer',\n",
       "                    NumericalTransformer(numerical_cols=['Pclass', 'Age', 'SibSp',\n",
       "                                                         'Parch', 'Fare'])),\n",
       "                   ('imputer', SimpleImputer()),\n",
       "                   ('poly_feat_transformer',\n",
       "                    PolynomialFeatures(include_bias=False)),\n",
       "                   ('robust_scaler', RobustScaler())])),\n",
       "  ('categorical_pipeline',\n",
       "   Pipeline(steps=[('cat_transformer',\n",
       "                    CategoricalTransformer(categorical_cols=['Sex', 'Embarked'])),\n",
       "                   ('one_hot_encoder', OneHotEncoder(sparse=False))]))],\n",
       " 'preprocessing__union_pipeline__transformer_weights': None,\n",
       " 'preprocessing__union_pipeline__verbose': False,\n",
       " 'preprocessing__union_pipeline__numerical_pipeline': Pipeline(steps=[('num_transformer',\n",
       "                  NumericalTransformer(numerical_cols=['Pclass', 'Age', 'SibSp',\n",
       "                                                       'Parch', 'Fare'])),\n",
       "                 ('imputer', SimpleImputer()),\n",
       "                 ('poly_feat_transformer',\n",
       "                  PolynomialFeatures(include_bias=False)),\n",
       "                 ('robust_scaler', RobustScaler())]),\n",
       " 'preprocessing__union_pipeline__categorical_pipeline': Pipeline(steps=[('cat_transformer',\n",
       "                  CategoricalTransformer(categorical_cols=['Sex', 'Embarked'])),\n",
       "                 ('one_hot_encoder', OneHotEncoder(sparse=False))]),\n",
       " 'preprocessing__union_pipeline__numerical_pipeline__memory': None,\n",
       " 'preprocessing__union_pipeline__numerical_pipeline__steps': [('num_transformer',\n",
       "   NumericalTransformer(numerical_cols=['Pclass', 'Age', 'SibSp', 'Parch', 'Fare'])),\n",
       "  ('imputer', SimpleImputer()),\n",
       "  ('poly_feat_transformer', PolynomialFeatures(include_bias=False)),\n",
       "  ('robust_scaler', RobustScaler())],\n",
       " 'preprocessing__union_pipeline__numerical_pipeline__verbose': False,\n",
       " 'preprocessing__union_pipeline__numerical_pipeline__num_transformer': NumericalTransformer(numerical_cols=['Pclass', 'Age', 'SibSp', 'Parch', 'Fare']),\n",
       " 'preprocessing__union_pipeline__numerical_pipeline__imputer': SimpleImputer(),\n",
       " 'preprocessing__union_pipeline__numerical_pipeline__poly_feat_transformer': PolynomialFeatures(include_bias=False),\n",
       " 'preprocessing__union_pipeline__numerical_pipeline__robust_scaler': RobustScaler(),\n",
       " 'preprocessing__union_pipeline__numerical_pipeline__num_transformer__numerical_cols': ['Pclass',\n",
       "  'Age',\n",
       "  'SibSp',\n",
       "  'Parch',\n",
       "  'Fare'],\n",
       " 'preprocessing__union_pipeline__numerical_pipeline__imputer__add_indicator': False,\n",
       " 'preprocessing__union_pipeline__numerical_pipeline__imputer__copy': True,\n",
       " 'preprocessing__union_pipeline__numerical_pipeline__imputer__fill_value': None,\n",
       " 'preprocessing__union_pipeline__numerical_pipeline__imputer__missing_values': nan,\n",
       " 'preprocessing__union_pipeline__numerical_pipeline__imputer__strategy': 'mean',\n",
       " 'preprocessing__union_pipeline__numerical_pipeline__imputer__verbose': 0,\n",
       " 'preprocessing__union_pipeline__numerical_pipeline__poly_feat_transformer__degree': 2,\n",
       " 'preprocessing__union_pipeline__numerical_pipeline__poly_feat_transformer__include_bias': False,\n",
       " 'preprocessing__union_pipeline__numerical_pipeline__poly_feat_transformer__interaction_only': False,\n",
       " 'preprocessing__union_pipeline__numerical_pipeline__poly_feat_transformer__order': 'C',\n",
       " 'preprocessing__union_pipeline__numerical_pipeline__robust_scaler__copy': True,\n",
       " 'preprocessing__union_pipeline__numerical_pipeline__robust_scaler__quantile_range': (25.0,\n",
       "  75.0),\n",
       " 'preprocessing__union_pipeline__numerical_pipeline__robust_scaler__unit_variance': False,\n",
       " 'preprocessing__union_pipeline__numerical_pipeline__robust_scaler__with_centering': True,\n",
       " 'preprocessing__union_pipeline__numerical_pipeline__robust_scaler__with_scaling': True,\n",
       " 'preprocessing__union_pipeline__categorical_pipeline__memory': None,\n",
       " 'preprocessing__union_pipeline__categorical_pipeline__steps': [('cat_transformer',\n",
       "   CategoricalTransformer(categorical_cols=['Sex', 'Embarked'])),\n",
       "  ('one_hot_encoder', OneHotEncoder(sparse=False))],\n",
       " 'preprocessing__union_pipeline__categorical_pipeline__verbose': False,\n",
       " 'preprocessing__union_pipeline__categorical_pipeline__cat_transformer': CategoricalTransformer(categorical_cols=['Sex', 'Embarked']),\n",
       " 'preprocessing__union_pipeline__categorical_pipeline__one_hot_encoder': OneHotEncoder(sparse=False),\n",
       " 'preprocessing__union_pipeline__categorical_pipeline__cat_transformer__categorical_cols': ['Sex',\n",
       "  'Embarked'],\n",
       " 'preprocessing__union_pipeline__categorical_pipeline__one_hot_encoder__categories': 'auto',\n",
       " 'preprocessing__union_pipeline__categorical_pipeline__one_hot_encoder__drop': None,\n",
       " 'preprocessing__union_pipeline__categorical_pipeline__one_hot_encoder__dtype': numpy.float64,\n",
       " 'preprocessing__union_pipeline__categorical_pipeline__one_hot_encoder__handle_unknown': 'error',\n",
       " 'preprocessing__union_pipeline__categorical_pipeline__one_hot_encoder__sparse': False,\n",
       " 'tree_classifier__ccp_alpha': 0.0,\n",
       " 'tree_classifier__class_weight': None,\n",
       " 'tree_classifier__criterion': 'gini',\n",
       " 'tree_classifier__max_depth': None,\n",
       " 'tree_classifier__max_features': None,\n",
       " 'tree_classifier__max_leaf_nodes': None,\n",
       " 'tree_classifier__min_impurity_decrease': 0.0,\n",
       " 'tree_classifier__min_impurity_split': None,\n",
       " 'tree_classifier__min_samples_leaf': 1,\n",
       " 'tree_classifier__min_samples_split': 2,\n",
       " 'tree_classifier__min_weight_fraction_leaf': 0.0,\n",
       " 'tree_classifier__random_state': 27,\n",
       " 'tree_classifier__splitter': 'best'}"
      ]
     },
     "execution_count": 70,
     "metadata": {},
     "output_type": "execute_result"
    }
   ],
   "source": [
    "full_pipeline_tree.get_params()"
   ]
  },
  {
   "cell_type": "markdown",
   "id": "c291a206-69fe-4253-bdda-67e9c616364e",
   "metadata": {},
   "source": [
    "##### **Grid-search**"
   ]
  },
  {
   "cell_type": "code",
   "execution_count": 71,
   "id": "86386bf2-6e59-4a72-a518-6e69e68fbc7e",
   "metadata": {},
   "outputs": [
    {
     "name": "stdout",
     "output_type": "stream",
     "text": [
      "Fitting 5 folds for each of 12 candidates, totalling 60 fits\n"
     ]
    },
    {
     "data": {
      "text/plain": [
       "GridSearchCV(cv=5,\n",
       "             estimator=Pipeline(steps=[('preprocessing',\n",
       "                                        Pipeline(steps=[('features_pipeline',\n",
       "                                                         Pipeline(steps=[('age_imputer',\n",
       "                                                                          GroupMissingImputer(group_cols=['Pclass',\n",
       "                                                                                                          'Sex'],\n",
       "                                                                                              metric='median',\n",
       "                                                                                              target='Age')),\n",
       "                                                                         ('cabin_imputer',\n",
       "                                                                          ConstantImputer(target='Cabin',\n",
       "                                                                                          value='U')),\n",
       "                                                                         ('embarked_imputer',\n",
       "                                                                          ModeImputer(target='Embarked')),\n",
       "                                                                         ('feats_remover',\n",
       "                                                                          AttributesRem...\n",
       "                                       ('tree_classifier',\n",
       "                                        DecisionTreeClassifier(random_state=27))]),\n",
       "             param_grid=[{'preprocessing__union_pipeline__numerical_pipeline__poly_feat_transformer__degree': [1,\n",
       "                                                                                                               2,\n",
       "                                                                                                               3],\n",
       "                          'preprocessing__union_pipeline__numerical_pipeline__poly_feat_transformer__interaction_only': [True,\n",
       "                                                                                                                         False],\n",
       "                          'tree_classifier__min_samples_split': [3, 4]}],\n",
       "             return_train_score=True, scoring='f1', verbose=1)"
      ]
     },
     "execution_count": 71,
     "metadata": {},
     "output_type": "execute_result"
    }
   ],
   "source": [
    "# search space\n",
    "param_grid_tree = [\n",
    "    {\n",
    "    'preprocessing__union_pipeline__numerical_pipeline__poly_feat_transformer__degree': [1, 2, 3],\n",
    "    'preprocessing__union_pipeline__numerical_pipeline__poly_feat_transformer__interaction_only': [True, False],\n",
    "    'tree_classifier__min_samples_split': [3, 4]\n",
    "    }\n",
    "]\n",
    "\n",
    "grid_search_tree = GridSearchCV(full_pipeline_tree, param_grid_tree, cv=5, scoring='f1', return_train_score=True, verbose=1)\n",
    "grid_search_tree.fit(df_train_clean, y_train)"
   ]
  },
  {
   "cell_type": "code",
   "execution_count": 72,
   "id": "66f74999-294e-4cbf-99d0-76eaeb783c5f",
   "metadata": {},
   "outputs": [
    {
     "name": "stdout",
     "output_type": "stream",
     "text": [
      "0.7150860556833719 {'preprocessing__union_pipeline__numerical_pipeline__poly_feat_transformer__degree': 1, 'preprocessing__union_pipeline__numerical_pipeline__poly_feat_transformer__interaction_only': True, 'tree_classifier__min_samples_split': 3}\n",
      "0.7187185921668401 {'preprocessing__union_pipeline__numerical_pipeline__poly_feat_transformer__degree': 1, 'preprocessing__union_pipeline__numerical_pipeline__poly_feat_transformer__interaction_only': True, 'tree_classifier__min_samples_split': 4}\n",
      "0.7150860556833719 {'preprocessing__union_pipeline__numerical_pipeline__poly_feat_transformer__degree': 1, 'preprocessing__union_pipeline__numerical_pipeline__poly_feat_transformer__interaction_only': False, 'tree_classifier__min_samples_split': 3}\n",
      "0.7187185921668401 {'preprocessing__union_pipeline__numerical_pipeline__poly_feat_transformer__degree': 1, 'preprocessing__union_pipeline__numerical_pipeline__poly_feat_transformer__interaction_only': False, 'tree_classifier__min_samples_split': 4}\n",
      "0.7179039356960469 {'preprocessing__union_pipeline__numerical_pipeline__poly_feat_transformer__degree': 2, 'preprocessing__union_pipeline__numerical_pipeline__poly_feat_transformer__interaction_only': True, 'tree_classifier__min_samples_split': 3}\n",
      "0.7087171560892103 {'preprocessing__union_pipeline__numerical_pipeline__poly_feat_transformer__degree': 2, 'preprocessing__union_pipeline__numerical_pipeline__poly_feat_transformer__interaction_only': True, 'tree_classifier__min_samples_split': 4}\n",
      "0.7118491927408228 {'preprocessing__union_pipeline__numerical_pipeline__poly_feat_transformer__degree': 2, 'preprocessing__union_pipeline__numerical_pipeline__poly_feat_transformer__interaction_only': False, 'tree_classifier__min_samples_split': 3}\n",
      "0.7066370368503861 {'preprocessing__union_pipeline__numerical_pipeline__poly_feat_transformer__degree': 2, 'preprocessing__union_pipeline__numerical_pipeline__poly_feat_transformer__interaction_only': False, 'tree_classifier__min_samples_split': 4}\n",
      "0.713851891745531 {'preprocessing__union_pipeline__numerical_pipeline__poly_feat_transformer__degree': 3, 'preprocessing__union_pipeline__numerical_pipeline__poly_feat_transformer__interaction_only': True, 'tree_classifier__min_samples_split': 3}\n",
      "0.7153186162865195 {'preprocessing__union_pipeline__numerical_pipeline__poly_feat_transformer__degree': 3, 'preprocessing__union_pipeline__numerical_pipeline__poly_feat_transformer__interaction_only': True, 'tree_classifier__min_samples_split': 4}\n",
      "0.6937045951287224 {'preprocessing__union_pipeline__numerical_pipeline__poly_feat_transformer__degree': 3, 'preprocessing__union_pipeline__numerical_pipeline__poly_feat_transformer__interaction_only': False, 'tree_classifier__min_samples_split': 3}\n",
      "0.6883219710590638 {'preprocessing__union_pipeline__numerical_pipeline__poly_feat_transformer__degree': 3, 'preprocessing__union_pipeline__numerical_pipeline__poly_feat_transformer__interaction_only': False, 'tree_classifier__min_samples_split': 4}\n"
     ]
    }
   ],
   "source": [
    "cvres = grid_search_tree.cv_results_\n",
    "\n",
    "# (approximated) RMSE\n",
    "for mean_score, params in zip(cvres[\"mean_test_score\"], cvres[\"params\"]):\n",
    "    print(mean_score, params)"
   ]
  },
  {
   "cell_type": "code",
   "execution_count": 73,
   "id": "26729cc1-8bcf-4de2-afc9-6649a22844ca",
   "metadata": {},
   "outputs": [
    {
     "data": {
      "text/plain": [
       "{'preprocessing__union_pipeline__numerical_pipeline__poly_feat_transformer__degree': 1,\n",
       " 'preprocessing__union_pipeline__numerical_pipeline__poly_feat_transformer__interaction_only': True,\n",
       " 'tree_classifier__min_samples_split': 4}"
      ]
     },
     "execution_count": 73,
     "metadata": {},
     "output_type": "execute_result"
    }
   ],
   "source": [
    "# best params\n",
    "grid_search_tree.best_params_"
   ]
  },
  {
   "cell_type": "code",
   "execution_count": 74,
   "id": "6090c28e-51a0-490d-bdc7-74417d8472ec",
   "metadata": {},
   "outputs": [
    {
     "name": "stdout",
     "output_type": "stream",
     "text": [
      "Best score: 0.7187185921668401 +- 0.044953610642715795\n"
     ]
    }
   ],
   "source": [
    "# get the approximated RMSE and its standard deviation\n",
    "best_index = grid_search_tree.best_index_\n",
    "best_score = grid_search_tree.cv_results_['mean_test_score'][best_index]\n",
    "best_score_std = grid_search_tree.cv_results_['std_test_score'][best_index]\n",
    "\n",
    "print(f'Best score: {best_score} +- {best_score_std}')"
   ]
  },
  {
   "cell_type": "markdown",
   "id": "725dafd4-aa84-4263-b36d-ebb011681c1f",
   "metadata": {
    "tags": []
   },
   "source": [
    "#### KNeighbors Regression"
   ]
  },
  {
   "cell_type": "markdown",
   "id": "6a0c7753-6b18-41bc-bfcf-9a3ded58aeda",
   "metadata": {
    "jp-MarkdownHeadingCollapsed": true,
    "tags": []
   },
   "source": [
    "##### **Finding out the hyperparameter key names**"
   ]
  },
  {
   "cell_type": "code",
   "execution_count": 75,
   "id": "13844de8-44bf-4022-bc49-c110429405f7",
   "metadata": {},
   "outputs": [
    {
     "data": {
      "text/plain": [
       "{'memory': None,\n",
       " 'steps': [('preprocessing',\n",
       "   Pipeline(steps=[('features_pipeline',\n",
       "                    Pipeline(steps=[('age_imputer',\n",
       "                                     GroupMissingImputer(group_cols=['Pclass',\n",
       "                                                                     'Sex'],\n",
       "                                                         metric='median',\n",
       "                                                         target='Age')),\n",
       "                                    ('cabin_imputer',\n",
       "                                     ConstantImputer(target='Cabin', value='U')),\n",
       "                                    ('embarked_imputer',\n",
       "                                     ModeImputer(target='Embarked')),\n",
       "                                    ('feats_remover',\n",
       "                                     AttributesRemovalTransformer(cols=['PassengerId',\n",
       "                                                                        'Name',\n",
       "                                                                        'Ticket',\n",
       "                                                                        'Cabin'])...\n",
       "                                                                     NumericalTransformer(numerical_cols=['Pclass',\n",
       "                                                                                                          'Age',\n",
       "                                                                                                          'SibSp',\n",
       "                                                                                                          'Parch',\n",
       "                                                                                                          'Fare'])),\n",
       "                                                                    ('imputer',\n",
       "                                                                     SimpleImputer()),\n",
       "                                                                    ('poly_feat_transformer',\n",
       "                                                                     PolynomialFeatures(include_bias=False)),\n",
       "                                                                    ('robust_scaler',\n",
       "                                                                     RobustScaler())])),\n",
       "                                                   ('categorical_pipeline',\n",
       "                                                    Pipeline(steps=[('cat_transformer',\n",
       "                                                                     CategoricalTransformer(categorical_cols=['Sex',\n",
       "                                                                                                              'Embarked'])),\n",
       "                                                                    ('one_hot_encoder',\n",
       "                                                                     OneHotEncoder(sparse=False))]))]))])),\n",
       "  ('kn_classifier', KNeighborsClassifier())],\n",
       " 'verbose': False,\n",
       " 'preprocessing': Pipeline(steps=[('features_pipeline',\n",
       "                  Pipeline(steps=[('age_imputer',\n",
       "                                   GroupMissingImputer(group_cols=['Pclass',\n",
       "                                                                   'Sex'],\n",
       "                                                       metric='median',\n",
       "                                                       target='Age')),\n",
       "                                  ('cabin_imputer',\n",
       "                                   ConstantImputer(target='Cabin', value='U')),\n",
       "                                  ('embarked_imputer',\n",
       "                                   ModeImputer(target='Embarked')),\n",
       "                                  ('feats_remover',\n",
       "                                   AttributesRemovalTransformer(cols=['PassengerId',\n",
       "                                                                      'Name',\n",
       "                                                                      'Ticket',\n",
       "                                                                      'Cabin'])...\n",
       "                                                                   NumericalTransformer(numerical_cols=['Pclass',\n",
       "                                                                                                        'Age',\n",
       "                                                                                                        'SibSp',\n",
       "                                                                                                        'Parch',\n",
       "                                                                                                        'Fare'])),\n",
       "                                                                  ('imputer',\n",
       "                                                                   SimpleImputer()),\n",
       "                                                                  ('poly_feat_transformer',\n",
       "                                                                   PolynomialFeatures(include_bias=False)),\n",
       "                                                                  ('robust_scaler',\n",
       "                                                                   RobustScaler())])),\n",
       "                                                 ('categorical_pipeline',\n",
       "                                                  Pipeline(steps=[('cat_transformer',\n",
       "                                                                   CategoricalTransformer(categorical_cols=['Sex',\n",
       "                                                                                                            'Embarked'])),\n",
       "                                                                  ('one_hot_encoder',\n",
       "                                                                   OneHotEncoder(sparse=False))]))]))]),\n",
       " 'kn_classifier': KNeighborsClassifier(),\n",
       " 'preprocessing__memory': None,\n",
       " 'preprocessing__steps': [('features_pipeline',\n",
       "   Pipeline(steps=[('age_imputer',\n",
       "                    GroupMissingImputer(group_cols=['Pclass', 'Sex'],\n",
       "                                        metric='median', target='Age')),\n",
       "                   ('cabin_imputer', ConstantImputer(target='Cabin', value='U')),\n",
       "                   ('embarked_imputer', ModeImputer(target='Embarked')),\n",
       "                   ('feats_remover',\n",
       "                    AttributesRemovalTransformer(cols=['PassengerId', 'Name',\n",
       "                                                       'Ticket', 'Cabin']))])),\n",
       "  ('union_pipeline',\n",
       "   FeatureUnion(transformer_list=[('numerical_pipeline',\n",
       "                                   Pipeline(steps=[('num_transformer',\n",
       "                                                    NumericalTransformer(numerical_cols=['Pclass',\n",
       "                                                                                         'Age',\n",
       "                                                                                         'SibSp',\n",
       "                                                                                         'Parch',\n",
       "                                                                                         'Fare'])),\n",
       "                                                   ('imputer', SimpleImputer()),\n",
       "                                                   ('poly_feat_transformer',\n",
       "                                                    PolynomialFeatures(include_bias=False)),\n",
       "                                                   ('robust_scaler',\n",
       "                                                    RobustScaler())])),\n",
       "                                  ('categorical_pipeline',\n",
       "                                   Pipeline(steps=[('cat_transformer',\n",
       "                                                    CategoricalTransformer(categorical_cols=['Sex',\n",
       "                                                                                             'Embarked'])),\n",
       "                                                   ('one_hot_encoder',\n",
       "                                                    OneHotEncoder(sparse=False))]))]))],\n",
       " 'preprocessing__verbose': False,\n",
       " 'preprocessing__features_pipeline': Pipeline(steps=[('age_imputer',\n",
       "                  GroupMissingImputer(group_cols=['Pclass', 'Sex'],\n",
       "                                      metric='median', target='Age')),\n",
       "                 ('cabin_imputer', ConstantImputer(target='Cabin', value='U')),\n",
       "                 ('embarked_imputer', ModeImputer(target='Embarked')),\n",
       "                 ('feats_remover',\n",
       "                  AttributesRemovalTransformer(cols=['PassengerId', 'Name',\n",
       "                                                     'Ticket', 'Cabin']))]),\n",
       " 'preprocessing__union_pipeline': FeatureUnion(transformer_list=[('numerical_pipeline',\n",
       "                                 Pipeline(steps=[('num_transformer',\n",
       "                                                  NumericalTransformer(numerical_cols=['Pclass',\n",
       "                                                                                       'Age',\n",
       "                                                                                       'SibSp',\n",
       "                                                                                       'Parch',\n",
       "                                                                                       'Fare'])),\n",
       "                                                 ('imputer', SimpleImputer()),\n",
       "                                                 ('poly_feat_transformer',\n",
       "                                                  PolynomialFeatures(include_bias=False)),\n",
       "                                                 ('robust_scaler',\n",
       "                                                  RobustScaler())])),\n",
       "                                ('categorical_pipeline',\n",
       "                                 Pipeline(steps=[('cat_transformer',\n",
       "                                                  CategoricalTransformer(categorical_cols=['Sex',\n",
       "                                                                                           'Embarked'])),\n",
       "                                                 ('one_hot_encoder',\n",
       "                                                  OneHotEncoder(sparse=False))]))]),\n",
       " 'preprocessing__features_pipeline__memory': None,\n",
       " 'preprocessing__features_pipeline__steps': [('age_imputer',\n",
       "   GroupMissingImputer(group_cols=['Pclass', 'Sex'], metric='median', target='Age')),\n",
       "  ('cabin_imputer', ConstantImputer(target='Cabin', value='U')),\n",
       "  ('embarked_imputer', ModeImputer(target='Embarked')),\n",
       "  ('feats_remover',\n",
       "   AttributesRemovalTransformer(cols=['PassengerId', 'Name', 'Ticket', 'Cabin']))],\n",
       " 'preprocessing__features_pipeline__verbose': False,\n",
       " 'preprocessing__features_pipeline__age_imputer': GroupMissingImputer(group_cols=['Pclass', 'Sex'], metric='median', target='Age'),\n",
       " 'preprocessing__features_pipeline__cabin_imputer': ConstantImputer(target='Cabin', value='U'),\n",
       " 'preprocessing__features_pipeline__embarked_imputer': ModeImputer(target='Embarked'),\n",
       " 'preprocessing__features_pipeline__feats_remover': AttributesRemovalTransformer(cols=['PassengerId', 'Name', 'Ticket', 'Cabin']),\n",
       " 'preprocessing__features_pipeline__age_imputer__group_cols': ['Pclass',\n",
       "  'Sex'],\n",
       " 'preprocessing__features_pipeline__age_imputer__metric': 'median',\n",
       " 'preprocessing__features_pipeline__age_imputer__target': 'Age',\n",
       " 'preprocessing__features_pipeline__cabin_imputer__target': 'Cabin',\n",
       " 'preprocessing__features_pipeline__cabin_imputer__value': 'U',\n",
       " 'preprocessing__features_pipeline__embarked_imputer__target': 'Embarked',\n",
       " 'preprocessing__features_pipeline__feats_remover__cols': ['PassengerId',\n",
       "  'Name',\n",
       "  'Ticket',\n",
       "  'Cabin'],\n",
       " 'preprocessing__union_pipeline__n_jobs': None,\n",
       " 'preprocessing__union_pipeline__transformer_list': [('numerical_pipeline',\n",
       "   Pipeline(steps=[('num_transformer',\n",
       "                    NumericalTransformer(numerical_cols=['Pclass', 'Age', 'SibSp',\n",
       "                                                         'Parch', 'Fare'])),\n",
       "                   ('imputer', SimpleImputer()),\n",
       "                   ('poly_feat_transformer',\n",
       "                    PolynomialFeatures(include_bias=False)),\n",
       "                   ('robust_scaler', RobustScaler())])),\n",
       "  ('categorical_pipeline',\n",
       "   Pipeline(steps=[('cat_transformer',\n",
       "                    CategoricalTransformer(categorical_cols=['Sex', 'Embarked'])),\n",
       "                   ('one_hot_encoder', OneHotEncoder(sparse=False))]))],\n",
       " 'preprocessing__union_pipeline__transformer_weights': None,\n",
       " 'preprocessing__union_pipeline__verbose': False,\n",
       " 'preprocessing__union_pipeline__numerical_pipeline': Pipeline(steps=[('num_transformer',\n",
       "                  NumericalTransformer(numerical_cols=['Pclass', 'Age', 'SibSp',\n",
       "                                                       'Parch', 'Fare'])),\n",
       "                 ('imputer', SimpleImputer()),\n",
       "                 ('poly_feat_transformer',\n",
       "                  PolynomialFeatures(include_bias=False)),\n",
       "                 ('robust_scaler', RobustScaler())]),\n",
       " 'preprocessing__union_pipeline__categorical_pipeline': Pipeline(steps=[('cat_transformer',\n",
       "                  CategoricalTransformer(categorical_cols=['Sex', 'Embarked'])),\n",
       "                 ('one_hot_encoder', OneHotEncoder(sparse=False))]),\n",
       " 'preprocessing__union_pipeline__numerical_pipeline__memory': None,\n",
       " 'preprocessing__union_pipeline__numerical_pipeline__steps': [('num_transformer',\n",
       "   NumericalTransformer(numerical_cols=['Pclass', 'Age', 'SibSp', 'Parch', 'Fare'])),\n",
       "  ('imputer', SimpleImputer()),\n",
       "  ('poly_feat_transformer', PolynomialFeatures(include_bias=False)),\n",
       "  ('robust_scaler', RobustScaler())],\n",
       " 'preprocessing__union_pipeline__numerical_pipeline__verbose': False,\n",
       " 'preprocessing__union_pipeline__numerical_pipeline__num_transformer': NumericalTransformer(numerical_cols=['Pclass', 'Age', 'SibSp', 'Parch', 'Fare']),\n",
       " 'preprocessing__union_pipeline__numerical_pipeline__imputer': SimpleImputer(),\n",
       " 'preprocessing__union_pipeline__numerical_pipeline__poly_feat_transformer': PolynomialFeatures(include_bias=False),\n",
       " 'preprocessing__union_pipeline__numerical_pipeline__robust_scaler': RobustScaler(),\n",
       " 'preprocessing__union_pipeline__numerical_pipeline__num_transformer__numerical_cols': ['Pclass',\n",
       "  'Age',\n",
       "  'SibSp',\n",
       "  'Parch',\n",
       "  'Fare'],\n",
       " 'preprocessing__union_pipeline__numerical_pipeline__imputer__add_indicator': False,\n",
       " 'preprocessing__union_pipeline__numerical_pipeline__imputer__copy': True,\n",
       " 'preprocessing__union_pipeline__numerical_pipeline__imputer__fill_value': None,\n",
       " 'preprocessing__union_pipeline__numerical_pipeline__imputer__missing_values': nan,\n",
       " 'preprocessing__union_pipeline__numerical_pipeline__imputer__strategy': 'mean',\n",
       " 'preprocessing__union_pipeline__numerical_pipeline__imputer__verbose': 0,\n",
       " 'preprocessing__union_pipeline__numerical_pipeline__poly_feat_transformer__degree': 2,\n",
       " 'preprocessing__union_pipeline__numerical_pipeline__poly_feat_transformer__include_bias': False,\n",
       " 'preprocessing__union_pipeline__numerical_pipeline__poly_feat_transformer__interaction_only': False,\n",
       " 'preprocessing__union_pipeline__numerical_pipeline__poly_feat_transformer__order': 'C',\n",
       " 'preprocessing__union_pipeline__numerical_pipeline__robust_scaler__copy': True,\n",
       " 'preprocessing__union_pipeline__numerical_pipeline__robust_scaler__quantile_range': (25.0,\n",
       "  75.0),\n",
       " 'preprocessing__union_pipeline__numerical_pipeline__robust_scaler__unit_variance': False,\n",
       " 'preprocessing__union_pipeline__numerical_pipeline__robust_scaler__with_centering': True,\n",
       " 'preprocessing__union_pipeline__numerical_pipeline__robust_scaler__with_scaling': True,\n",
       " 'preprocessing__union_pipeline__categorical_pipeline__memory': None,\n",
       " 'preprocessing__union_pipeline__categorical_pipeline__steps': [('cat_transformer',\n",
       "   CategoricalTransformer(categorical_cols=['Sex', 'Embarked'])),\n",
       "  ('one_hot_encoder', OneHotEncoder(sparse=False))],\n",
       " 'preprocessing__union_pipeline__categorical_pipeline__verbose': False,\n",
       " 'preprocessing__union_pipeline__categorical_pipeline__cat_transformer': CategoricalTransformer(categorical_cols=['Sex', 'Embarked']),\n",
       " 'preprocessing__union_pipeline__categorical_pipeline__one_hot_encoder': OneHotEncoder(sparse=False),\n",
       " 'preprocessing__union_pipeline__categorical_pipeline__cat_transformer__categorical_cols': ['Sex',\n",
       "  'Embarked'],\n",
       " 'preprocessing__union_pipeline__categorical_pipeline__one_hot_encoder__categories': 'auto',\n",
       " 'preprocessing__union_pipeline__categorical_pipeline__one_hot_encoder__drop': None,\n",
       " 'preprocessing__union_pipeline__categorical_pipeline__one_hot_encoder__dtype': numpy.float64,\n",
       " 'preprocessing__union_pipeline__categorical_pipeline__one_hot_encoder__handle_unknown': 'error',\n",
       " 'preprocessing__union_pipeline__categorical_pipeline__one_hot_encoder__sparse': False,\n",
       " 'kn_classifier__algorithm': 'auto',\n",
       " 'kn_classifier__leaf_size': 30,\n",
       " 'kn_classifier__metric': 'minkowski',\n",
       " 'kn_classifier__metric_params': None,\n",
       " 'kn_classifier__n_jobs': None,\n",
       " 'kn_classifier__n_neighbors': 5,\n",
       " 'kn_classifier__p': 2,\n",
       " 'kn_classifier__weights': 'uniform'}"
      ]
     },
     "execution_count": 75,
     "metadata": {},
     "output_type": "execute_result"
    }
   ],
   "source": [
    "full_pipeline_kn.get_params()"
   ]
  },
  {
   "cell_type": "markdown",
   "id": "ece468a4-66d0-443c-8181-987b7a209897",
   "metadata": {},
   "source": [
    "##### **Grid-search**"
   ]
  },
  {
   "cell_type": "code",
   "execution_count": 76,
   "id": "a421c940-c023-4121-b283-d14f8be2956e",
   "metadata": {},
   "outputs": [
    {
     "name": "stdout",
     "output_type": "stream",
     "text": [
      "Fitting 5 folds for each of 18 candidates, totalling 90 fits\n"
     ]
    },
    {
     "data": {
      "text/plain": [
       "GridSearchCV(cv=5,\n",
       "             estimator=Pipeline(steps=[('preprocessing',\n",
       "                                        Pipeline(steps=[('features_pipeline',\n",
       "                                                         Pipeline(steps=[('age_imputer',\n",
       "                                                                          GroupMissingImputer(group_cols=['Pclass',\n",
       "                                                                                                          'Sex'],\n",
       "                                                                                              metric='median',\n",
       "                                                                                              target='Age')),\n",
       "                                                                         ('cabin_imputer',\n",
       "                                                                          ConstantImputer(target='Cabin',\n",
       "                                                                                          value='U')),\n",
       "                                                                         ('embarked_imputer',\n",
       "                                                                          ModeImputer(target='Embarked')),\n",
       "                                                                         ('feats_remover',\n",
       "                                                                          AttributesRem...\n",
       "                                                                                                          OneHotEncoder(sparse=False))]))]))])),\n",
       "                                       ('kn_classifier',\n",
       "                                        KNeighborsClassifier())]),\n",
       "             param_grid=[{'kn_classifier__n_neighbors': [5, 7, 11],\n",
       "                          'preprocessing__union_pipeline__numerical_pipeline__poly_feat_transformer__degree': [1,\n",
       "                                                                                                               2,\n",
       "                                                                                                               3],\n",
       "                          'preprocessing__union_pipeline__numerical_pipeline__poly_feat_transformer__interaction_only': [True,\n",
       "                                                                                                                         False]}],\n",
       "             return_train_score=True, scoring='f1', verbose=1)"
      ]
     },
     "execution_count": 76,
     "metadata": {},
     "output_type": "execute_result"
    }
   ],
   "source": [
    "# search space\n",
    "param_grid_kn = [\n",
    "    {\n",
    "    'preprocessing__union_pipeline__numerical_pipeline__poly_feat_transformer__degree': [1, 2, 3],\n",
    "    'preprocessing__union_pipeline__numerical_pipeline__poly_feat_transformer__interaction_only': [True, False],\n",
    "    'kn_classifier__n_neighbors': [5, 7, 11]\n",
    "    }\n",
    "]\n",
    "\n",
    "grid_search_kn = GridSearchCV(full_pipeline_kn, param_grid_kn, cv=5, scoring='f1', return_train_score=True, verbose=1)\n",
    "grid_search_kn.fit(df_train_clean, y_train)"
   ]
  },
  {
   "cell_type": "code",
   "execution_count": 77,
   "id": "2db3d433-3c11-40ea-a49d-7e278ffcfa1d",
   "metadata": {},
   "outputs": [
    {
     "name": "stdout",
     "output_type": "stream",
     "text": [
      "0.732569599594029 {'kn_classifier__n_neighbors': 5, 'preprocessing__union_pipeline__numerical_pipeline__poly_feat_transformer__degree': 1, 'preprocessing__union_pipeline__numerical_pipeline__poly_feat_transformer__interaction_only': True}\n",
      "0.732569599594029 {'kn_classifier__n_neighbors': 5, 'preprocessing__union_pipeline__numerical_pipeline__poly_feat_transformer__degree': 1, 'preprocessing__union_pipeline__numerical_pipeline__poly_feat_transformer__interaction_only': False}\n",
      "0.6719025632194425 {'kn_classifier__n_neighbors': 5, 'preprocessing__union_pipeline__numerical_pipeline__poly_feat_transformer__degree': 2, 'preprocessing__union_pipeline__numerical_pipeline__poly_feat_transformer__interaction_only': True}\n",
      "0.6722248991909917 {'kn_classifier__n_neighbors': 5, 'preprocessing__union_pipeline__numerical_pipeline__poly_feat_transformer__degree': 2, 'preprocessing__union_pipeline__numerical_pipeline__poly_feat_transformer__interaction_only': False}\n",
      "0.6629369834071199 {'kn_classifier__n_neighbors': 5, 'preprocessing__union_pipeline__numerical_pipeline__poly_feat_transformer__degree': 3, 'preprocessing__union_pipeline__numerical_pipeline__poly_feat_transformer__interaction_only': True}\n",
      "0.619908059966837 {'kn_classifier__n_neighbors': 5, 'preprocessing__union_pipeline__numerical_pipeline__poly_feat_transformer__degree': 3, 'preprocessing__union_pipeline__numerical_pipeline__poly_feat_transformer__interaction_only': False}\n",
      "0.7321084431478625 {'kn_classifier__n_neighbors': 7, 'preprocessing__union_pipeline__numerical_pipeline__poly_feat_transformer__degree': 1, 'preprocessing__union_pipeline__numerical_pipeline__poly_feat_transformer__interaction_only': True}\n",
      "0.7321084431478625 {'kn_classifier__n_neighbors': 7, 'preprocessing__union_pipeline__numerical_pipeline__poly_feat_transformer__degree': 1, 'preprocessing__union_pipeline__numerical_pipeline__poly_feat_transformer__interaction_only': False}\n",
      "0.6588338790311343 {'kn_classifier__n_neighbors': 7, 'preprocessing__union_pipeline__numerical_pipeline__poly_feat_transformer__degree': 2, 'preprocessing__union_pipeline__numerical_pipeline__poly_feat_transformer__interaction_only': True}\n",
      "0.662769663894315 {'kn_classifier__n_neighbors': 7, 'preprocessing__union_pipeline__numerical_pipeline__poly_feat_transformer__degree': 2, 'preprocessing__union_pipeline__numerical_pipeline__poly_feat_transformer__interaction_only': False}\n",
      "0.6561164068103514 {'kn_classifier__n_neighbors': 7, 'preprocessing__union_pipeline__numerical_pipeline__poly_feat_transformer__degree': 3, 'preprocessing__union_pipeline__numerical_pipeline__poly_feat_transformer__interaction_only': True}\n",
      "0.6353477337856338 {'kn_classifier__n_neighbors': 7, 'preprocessing__union_pipeline__numerical_pipeline__poly_feat_transformer__degree': 3, 'preprocessing__union_pipeline__numerical_pipeline__poly_feat_transformer__interaction_only': False}\n",
      "0.739083880917691 {'kn_classifier__n_neighbors': 11, 'preprocessing__union_pipeline__numerical_pipeline__poly_feat_transformer__degree': 1, 'preprocessing__union_pipeline__numerical_pipeline__poly_feat_transformer__interaction_only': True}\n",
      "0.739083880917691 {'kn_classifier__n_neighbors': 11, 'preprocessing__union_pipeline__numerical_pipeline__poly_feat_transformer__degree': 1, 'preprocessing__union_pipeline__numerical_pipeline__poly_feat_transformer__interaction_only': False}\n",
      "0.6495385526872619 {'kn_classifier__n_neighbors': 11, 'preprocessing__union_pipeline__numerical_pipeline__poly_feat_transformer__degree': 2, 'preprocessing__union_pipeline__numerical_pipeline__poly_feat_transformer__interaction_only': True}\n",
      "0.6634857759414381 {'kn_classifier__n_neighbors': 11, 'preprocessing__union_pipeline__numerical_pipeline__poly_feat_transformer__degree': 2, 'preprocessing__union_pipeline__numerical_pipeline__poly_feat_transformer__interaction_only': False}\n",
      "0.6388554522142025 {'kn_classifier__n_neighbors': 11, 'preprocessing__union_pipeline__numerical_pipeline__poly_feat_transformer__degree': 3, 'preprocessing__union_pipeline__numerical_pipeline__poly_feat_transformer__interaction_only': True}\n",
      "0.5964365070890875 {'kn_classifier__n_neighbors': 11, 'preprocessing__union_pipeline__numerical_pipeline__poly_feat_transformer__degree': 3, 'preprocessing__union_pipeline__numerical_pipeline__poly_feat_transformer__interaction_only': False}\n"
     ]
    }
   ],
   "source": [
    "cvres = grid_search_kn.cv_results_\n",
    "\n",
    "# (approximated) RMSE\n",
    "for mean_score, params in zip(cvres[\"mean_test_score\"], cvres[\"params\"]):\n",
    "    print(mean_score, params)"
   ]
  },
  {
   "cell_type": "code",
   "execution_count": 78,
   "id": "91ac8bac-322d-4536-bfd0-5d84036f1309",
   "metadata": {},
   "outputs": [
    {
     "data": {
      "text/plain": [
       "{'kn_classifier__n_neighbors': 11,\n",
       " 'preprocessing__union_pipeline__numerical_pipeline__poly_feat_transformer__degree': 1,\n",
       " 'preprocessing__union_pipeline__numerical_pipeline__poly_feat_transformer__interaction_only': True}"
      ]
     },
     "execution_count": 78,
     "metadata": {},
     "output_type": "execute_result"
    }
   ],
   "source": [
    "# best params\n",
    "grid_search_kn.best_params_"
   ]
  },
  {
   "cell_type": "code",
   "execution_count": 79,
   "id": "e1fa9260-f7a7-4c66-8bdb-a0156de6950d",
   "metadata": {},
   "outputs": [
    {
     "name": "stdout",
     "output_type": "stream",
     "text": [
      "Best score: 0.739083880917691 +- 0.018445390266457952\n"
     ]
    }
   ],
   "source": [
    "# get the approximated RMSE and its standard deviation\n",
    "best_index = grid_search_kn.best_index_\n",
    "best_score = grid_search_kn.cv_results_['mean_test_score'][best_index]\n",
    "best_score_std = grid_search_kn.cv_results_['std_test_score'][best_index]\n",
    "\n",
    "print(f'Best score: {best_score} +- {best_score_std}')"
   ]
  },
  {
   "cell_type": "markdown",
   "id": "a8531217-9f29-4d04-bda6-e6dcce0a30ca",
   "metadata": {
    "tags": []
   },
   "source": [
    "#### SVM Classifier"
   ]
  },
  {
   "cell_type": "markdown",
   "id": "e565f2c5-229b-42bb-9cd2-d2ebff8307cf",
   "metadata": {
    "tags": []
   },
   "source": [
    "##### **Finding out the hyperparameter key names**"
   ]
  },
  {
   "cell_type": "code",
   "execution_count": 80,
   "id": "a5987777-ed6b-4281-a3bf-eb83e3c160cd",
   "metadata": {},
   "outputs": [
    {
     "data": {
      "text/plain": [
       "{'memory': None,\n",
       " 'steps': [('preprocessing',\n",
       "   Pipeline(steps=[('features_pipeline',\n",
       "                    Pipeline(steps=[('age_imputer',\n",
       "                                     GroupMissingImputer(group_cols=['Pclass',\n",
       "                                                                     'Sex'],\n",
       "                                                         metric='median',\n",
       "                                                         target='Age')),\n",
       "                                    ('cabin_imputer',\n",
       "                                     ConstantImputer(target='Cabin', value='U')),\n",
       "                                    ('embarked_imputer',\n",
       "                                     ModeImputer(target='Embarked')),\n",
       "                                    ('feats_remover',\n",
       "                                     AttributesRemovalTransformer(cols=['PassengerId',\n",
       "                                                                        'Name',\n",
       "                                                                        'Ticket',\n",
       "                                                                        'Cabin'])...\n",
       "                                                                     NumericalTransformer(numerical_cols=['Pclass',\n",
       "                                                                                                          'Age',\n",
       "                                                                                                          'SibSp',\n",
       "                                                                                                          'Parch',\n",
       "                                                                                                          'Fare'])),\n",
       "                                                                    ('imputer',\n",
       "                                                                     SimpleImputer()),\n",
       "                                                                    ('poly_feat_transformer',\n",
       "                                                                     PolynomialFeatures(include_bias=False)),\n",
       "                                                                    ('robust_scaler',\n",
       "                                                                     RobustScaler())])),\n",
       "                                                   ('categorical_pipeline',\n",
       "                                                    Pipeline(steps=[('cat_transformer',\n",
       "                                                                     CategoricalTransformer(categorical_cols=['Sex',\n",
       "                                                                                                              'Embarked'])),\n",
       "                                                                    ('one_hot_encoder',\n",
       "                                                                     OneHotEncoder(sparse=False))]))]))])),\n",
       "  ('svm_classifier', SVC())],\n",
       " 'verbose': False,\n",
       " 'preprocessing': Pipeline(steps=[('features_pipeline',\n",
       "                  Pipeline(steps=[('age_imputer',\n",
       "                                   GroupMissingImputer(group_cols=['Pclass',\n",
       "                                                                   'Sex'],\n",
       "                                                       metric='median',\n",
       "                                                       target='Age')),\n",
       "                                  ('cabin_imputer',\n",
       "                                   ConstantImputer(target='Cabin', value='U')),\n",
       "                                  ('embarked_imputer',\n",
       "                                   ModeImputer(target='Embarked')),\n",
       "                                  ('feats_remover',\n",
       "                                   AttributesRemovalTransformer(cols=['PassengerId',\n",
       "                                                                      'Name',\n",
       "                                                                      'Ticket',\n",
       "                                                                      'Cabin'])...\n",
       "                                                                   NumericalTransformer(numerical_cols=['Pclass',\n",
       "                                                                                                        'Age',\n",
       "                                                                                                        'SibSp',\n",
       "                                                                                                        'Parch',\n",
       "                                                                                                        'Fare'])),\n",
       "                                                                  ('imputer',\n",
       "                                                                   SimpleImputer()),\n",
       "                                                                  ('poly_feat_transformer',\n",
       "                                                                   PolynomialFeatures(include_bias=False)),\n",
       "                                                                  ('robust_scaler',\n",
       "                                                                   RobustScaler())])),\n",
       "                                                 ('categorical_pipeline',\n",
       "                                                  Pipeline(steps=[('cat_transformer',\n",
       "                                                                   CategoricalTransformer(categorical_cols=['Sex',\n",
       "                                                                                                            'Embarked'])),\n",
       "                                                                  ('one_hot_encoder',\n",
       "                                                                   OneHotEncoder(sparse=False))]))]))]),\n",
       " 'svm_classifier': SVC(),\n",
       " 'preprocessing__memory': None,\n",
       " 'preprocessing__steps': [('features_pipeline',\n",
       "   Pipeline(steps=[('age_imputer',\n",
       "                    GroupMissingImputer(group_cols=['Pclass', 'Sex'],\n",
       "                                        metric='median', target='Age')),\n",
       "                   ('cabin_imputer', ConstantImputer(target='Cabin', value='U')),\n",
       "                   ('embarked_imputer', ModeImputer(target='Embarked')),\n",
       "                   ('feats_remover',\n",
       "                    AttributesRemovalTransformer(cols=['PassengerId', 'Name',\n",
       "                                                       'Ticket', 'Cabin']))])),\n",
       "  ('union_pipeline',\n",
       "   FeatureUnion(transformer_list=[('numerical_pipeline',\n",
       "                                   Pipeline(steps=[('num_transformer',\n",
       "                                                    NumericalTransformer(numerical_cols=['Pclass',\n",
       "                                                                                         'Age',\n",
       "                                                                                         'SibSp',\n",
       "                                                                                         'Parch',\n",
       "                                                                                         'Fare'])),\n",
       "                                                   ('imputer', SimpleImputer()),\n",
       "                                                   ('poly_feat_transformer',\n",
       "                                                    PolynomialFeatures(include_bias=False)),\n",
       "                                                   ('robust_scaler',\n",
       "                                                    RobustScaler())])),\n",
       "                                  ('categorical_pipeline',\n",
       "                                   Pipeline(steps=[('cat_transformer',\n",
       "                                                    CategoricalTransformer(categorical_cols=['Sex',\n",
       "                                                                                             'Embarked'])),\n",
       "                                                   ('one_hot_encoder',\n",
       "                                                    OneHotEncoder(sparse=False))]))]))],\n",
       " 'preprocessing__verbose': False,\n",
       " 'preprocessing__features_pipeline': Pipeline(steps=[('age_imputer',\n",
       "                  GroupMissingImputer(group_cols=['Pclass', 'Sex'],\n",
       "                                      metric='median', target='Age')),\n",
       "                 ('cabin_imputer', ConstantImputer(target='Cabin', value='U')),\n",
       "                 ('embarked_imputer', ModeImputer(target='Embarked')),\n",
       "                 ('feats_remover',\n",
       "                  AttributesRemovalTransformer(cols=['PassengerId', 'Name',\n",
       "                                                     'Ticket', 'Cabin']))]),\n",
       " 'preprocessing__union_pipeline': FeatureUnion(transformer_list=[('numerical_pipeline',\n",
       "                                 Pipeline(steps=[('num_transformer',\n",
       "                                                  NumericalTransformer(numerical_cols=['Pclass',\n",
       "                                                                                       'Age',\n",
       "                                                                                       'SibSp',\n",
       "                                                                                       'Parch',\n",
       "                                                                                       'Fare'])),\n",
       "                                                 ('imputer', SimpleImputer()),\n",
       "                                                 ('poly_feat_transformer',\n",
       "                                                  PolynomialFeatures(include_bias=False)),\n",
       "                                                 ('robust_scaler',\n",
       "                                                  RobustScaler())])),\n",
       "                                ('categorical_pipeline',\n",
       "                                 Pipeline(steps=[('cat_transformer',\n",
       "                                                  CategoricalTransformer(categorical_cols=['Sex',\n",
       "                                                                                           'Embarked'])),\n",
       "                                                 ('one_hot_encoder',\n",
       "                                                  OneHotEncoder(sparse=False))]))]),\n",
       " 'preprocessing__features_pipeline__memory': None,\n",
       " 'preprocessing__features_pipeline__steps': [('age_imputer',\n",
       "   GroupMissingImputer(group_cols=['Pclass', 'Sex'], metric='median', target='Age')),\n",
       "  ('cabin_imputer', ConstantImputer(target='Cabin', value='U')),\n",
       "  ('embarked_imputer', ModeImputer(target='Embarked')),\n",
       "  ('feats_remover',\n",
       "   AttributesRemovalTransformer(cols=['PassengerId', 'Name', 'Ticket', 'Cabin']))],\n",
       " 'preprocessing__features_pipeline__verbose': False,\n",
       " 'preprocessing__features_pipeline__age_imputer': GroupMissingImputer(group_cols=['Pclass', 'Sex'], metric='median', target='Age'),\n",
       " 'preprocessing__features_pipeline__cabin_imputer': ConstantImputer(target='Cabin', value='U'),\n",
       " 'preprocessing__features_pipeline__embarked_imputer': ModeImputer(target='Embarked'),\n",
       " 'preprocessing__features_pipeline__feats_remover': AttributesRemovalTransformer(cols=['PassengerId', 'Name', 'Ticket', 'Cabin']),\n",
       " 'preprocessing__features_pipeline__age_imputer__group_cols': ['Pclass',\n",
       "  'Sex'],\n",
       " 'preprocessing__features_pipeline__age_imputer__metric': 'median',\n",
       " 'preprocessing__features_pipeline__age_imputer__target': 'Age',\n",
       " 'preprocessing__features_pipeline__cabin_imputer__target': 'Cabin',\n",
       " 'preprocessing__features_pipeline__cabin_imputer__value': 'U',\n",
       " 'preprocessing__features_pipeline__embarked_imputer__target': 'Embarked',\n",
       " 'preprocessing__features_pipeline__feats_remover__cols': ['PassengerId',\n",
       "  'Name',\n",
       "  'Ticket',\n",
       "  'Cabin'],\n",
       " 'preprocessing__union_pipeline__n_jobs': None,\n",
       " 'preprocessing__union_pipeline__transformer_list': [('numerical_pipeline',\n",
       "   Pipeline(steps=[('num_transformer',\n",
       "                    NumericalTransformer(numerical_cols=['Pclass', 'Age', 'SibSp',\n",
       "                                                         'Parch', 'Fare'])),\n",
       "                   ('imputer', SimpleImputer()),\n",
       "                   ('poly_feat_transformer',\n",
       "                    PolynomialFeatures(include_bias=False)),\n",
       "                   ('robust_scaler', RobustScaler())])),\n",
       "  ('categorical_pipeline',\n",
       "   Pipeline(steps=[('cat_transformer',\n",
       "                    CategoricalTransformer(categorical_cols=['Sex', 'Embarked'])),\n",
       "                   ('one_hot_encoder', OneHotEncoder(sparse=False))]))],\n",
       " 'preprocessing__union_pipeline__transformer_weights': None,\n",
       " 'preprocessing__union_pipeline__verbose': False,\n",
       " 'preprocessing__union_pipeline__numerical_pipeline': Pipeline(steps=[('num_transformer',\n",
       "                  NumericalTransformer(numerical_cols=['Pclass', 'Age', 'SibSp',\n",
       "                                                       'Parch', 'Fare'])),\n",
       "                 ('imputer', SimpleImputer()),\n",
       "                 ('poly_feat_transformer',\n",
       "                  PolynomialFeatures(include_bias=False)),\n",
       "                 ('robust_scaler', RobustScaler())]),\n",
       " 'preprocessing__union_pipeline__categorical_pipeline': Pipeline(steps=[('cat_transformer',\n",
       "                  CategoricalTransformer(categorical_cols=['Sex', 'Embarked'])),\n",
       "                 ('one_hot_encoder', OneHotEncoder(sparse=False))]),\n",
       " 'preprocessing__union_pipeline__numerical_pipeline__memory': None,\n",
       " 'preprocessing__union_pipeline__numerical_pipeline__steps': [('num_transformer',\n",
       "   NumericalTransformer(numerical_cols=['Pclass', 'Age', 'SibSp', 'Parch', 'Fare'])),\n",
       "  ('imputer', SimpleImputer()),\n",
       "  ('poly_feat_transformer', PolynomialFeatures(include_bias=False)),\n",
       "  ('robust_scaler', RobustScaler())],\n",
       " 'preprocessing__union_pipeline__numerical_pipeline__verbose': False,\n",
       " 'preprocessing__union_pipeline__numerical_pipeline__num_transformer': NumericalTransformer(numerical_cols=['Pclass', 'Age', 'SibSp', 'Parch', 'Fare']),\n",
       " 'preprocessing__union_pipeline__numerical_pipeline__imputer': SimpleImputer(),\n",
       " 'preprocessing__union_pipeline__numerical_pipeline__poly_feat_transformer': PolynomialFeatures(include_bias=False),\n",
       " 'preprocessing__union_pipeline__numerical_pipeline__robust_scaler': RobustScaler(),\n",
       " 'preprocessing__union_pipeline__numerical_pipeline__num_transformer__numerical_cols': ['Pclass',\n",
       "  'Age',\n",
       "  'SibSp',\n",
       "  'Parch',\n",
       "  'Fare'],\n",
       " 'preprocessing__union_pipeline__numerical_pipeline__imputer__add_indicator': False,\n",
       " 'preprocessing__union_pipeline__numerical_pipeline__imputer__copy': True,\n",
       " 'preprocessing__union_pipeline__numerical_pipeline__imputer__fill_value': None,\n",
       " 'preprocessing__union_pipeline__numerical_pipeline__imputer__missing_values': nan,\n",
       " 'preprocessing__union_pipeline__numerical_pipeline__imputer__strategy': 'mean',\n",
       " 'preprocessing__union_pipeline__numerical_pipeline__imputer__verbose': 0,\n",
       " 'preprocessing__union_pipeline__numerical_pipeline__poly_feat_transformer__degree': 2,\n",
       " 'preprocessing__union_pipeline__numerical_pipeline__poly_feat_transformer__include_bias': False,\n",
       " 'preprocessing__union_pipeline__numerical_pipeline__poly_feat_transformer__interaction_only': False,\n",
       " 'preprocessing__union_pipeline__numerical_pipeline__poly_feat_transformer__order': 'C',\n",
       " 'preprocessing__union_pipeline__numerical_pipeline__robust_scaler__copy': True,\n",
       " 'preprocessing__union_pipeline__numerical_pipeline__robust_scaler__quantile_range': (25.0,\n",
       "  75.0),\n",
       " 'preprocessing__union_pipeline__numerical_pipeline__robust_scaler__unit_variance': False,\n",
       " 'preprocessing__union_pipeline__numerical_pipeline__robust_scaler__with_centering': True,\n",
       " 'preprocessing__union_pipeline__numerical_pipeline__robust_scaler__with_scaling': True,\n",
       " 'preprocessing__union_pipeline__categorical_pipeline__memory': None,\n",
       " 'preprocessing__union_pipeline__categorical_pipeline__steps': [('cat_transformer',\n",
       "   CategoricalTransformer(categorical_cols=['Sex', 'Embarked'])),\n",
       "  ('one_hot_encoder', OneHotEncoder(sparse=False))],\n",
       " 'preprocessing__union_pipeline__categorical_pipeline__verbose': False,\n",
       " 'preprocessing__union_pipeline__categorical_pipeline__cat_transformer': CategoricalTransformer(categorical_cols=['Sex', 'Embarked']),\n",
       " 'preprocessing__union_pipeline__categorical_pipeline__one_hot_encoder': OneHotEncoder(sparse=False),\n",
       " 'preprocessing__union_pipeline__categorical_pipeline__cat_transformer__categorical_cols': ['Sex',\n",
       "  'Embarked'],\n",
       " 'preprocessing__union_pipeline__categorical_pipeline__one_hot_encoder__categories': 'auto',\n",
       " 'preprocessing__union_pipeline__categorical_pipeline__one_hot_encoder__drop': None,\n",
       " 'preprocessing__union_pipeline__categorical_pipeline__one_hot_encoder__dtype': numpy.float64,\n",
       " 'preprocessing__union_pipeline__categorical_pipeline__one_hot_encoder__handle_unknown': 'error',\n",
       " 'preprocessing__union_pipeline__categorical_pipeline__one_hot_encoder__sparse': False,\n",
       " 'svm_classifier__C': 1.0,\n",
       " 'svm_classifier__break_ties': False,\n",
       " 'svm_classifier__cache_size': 200,\n",
       " 'svm_classifier__class_weight': None,\n",
       " 'svm_classifier__coef0': 0.0,\n",
       " 'svm_classifier__decision_function_shape': 'ovr',\n",
       " 'svm_classifier__degree': 3,\n",
       " 'svm_classifier__gamma': 'scale',\n",
       " 'svm_classifier__kernel': 'rbf',\n",
       " 'svm_classifier__max_iter': -1,\n",
       " 'svm_classifier__probability': False,\n",
       " 'svm_classifier__random_state': None,\n",
       " 'svm_classifier__shrinking': True,\n",
       " 'svm_classifier__tol': 0.001,\n",
       " 'svm_classifier__verbose': False}"
      ]
     },
     "execution_count": 80,
     "metadata": {},
     "output_type": "execute_result"
    }
   ],
   "source": [
    "full_pipeline_svm.get_params()"
   ]
  },
  {
   "cell_type": "markdown",
   "id": "6a5ceb68-19bb-4da5-a361-f422f70e5e85",
   "metadata": {
    "tags": []
   },
   "source": [
    "##### **Grid-search**"
   ]
  },
  {
   "cell_type": "code",
   "execution_count": 81,
   "id": "6e142559-cdd2-468c-9a92-14e2be476658",
   "metadata": {},
   "outputs": [
    {
     "name": "stdout",
     "output_type": "stream",
     "text": [
      "Fitting 5 folds for each of 24 candidates, totalling 120 fits\n"
     ]
    },
    {
     "data": {
      "text/plain": [
       "GridSearchCV(cv=5,\n",
       "             estimator=Pipeline(steps=[('preprocessing',\n",
       "                                        Pipeline(steps=[('features_pipeline',\n",
       "                                                         Pipeline(steps=[('age_imputer',\n",
       "                                                                          GroupMissingImputer(group_cols=['Pclass',\n",
       "                                                                                                          'Sex'],\n",
       "                                                                                              metric='median',\n",
       "                                                                                              target='Age')),\n",
       "                                                                         ('cabin_imputer',\n",
       "                                                                          ConstantImputer(target='Cabin',\n",
       "                                                                                          value='U')),\n",
       "                                                                         ('embarked_imputer',\n",
       "                                                                          ModeImputer(target='Embarked')),\n",
       "                                                                         ('feats_remover',\n",
       "                                                                          AttributesRem...\n",
       "                                                                                    'median'],\n",
       "                          'preprocessing__union_pipeline__numerical_pipeline__poly_feat_transformer__degree': [1,\n",
       "                                                                                                               2,\n",
       "                                                                                                               3],\n",
       "                          'preprocessing__union_pipeline__numerical_pipeline__poly_feat_transformer__include_bias': [True,\n",
       "                                                                                                                     False],\n",
       "                          'preprocessing__union_pipeline__numerical_pipeline__poly_feat_transformer__interaction_only': [True,\n",
       "                                                                                                                         False]}],\n",
       "             return_train_score=True, scoring='f1', verbose=1)"
      ]
     },
     "execution_count": 81,
     "metadata": {},
     "output_type": "execute_result"
    }
   ],
   "source": [
    "from sklearn.model_selection import GridSearchCV\n",
    "\n",
    "# search space\n",
    "param_grid_svm = [\n",
    "    {\n",
    "    'preprocessing__features_pipeline__age_imputer__metric': ['mean', 'median'],\n",
    "    'preprocessing__union_pipeline__numerical_pipeline__poly_feat_transformer__degree': [1, 2, 3],\n",
    "    'preprocessing__union_pipeline__numerical_pipeline__poly_feat_transformer__include_bias': [True, False],\n",
    "    'preprocessing__union_pipeline__numerical_pipeline__poly_feat_transformer__interaction_only': [True, False],\n",
    "    }\n",
    "]\n",
    "\n",
    "grid_search_svm = GridSearchCV(full_pipeline_svm, param_grid_svm, cv=5, scoring='f1', return_train_score=True, verbose=1)\n",
    "grid_search_svm.fit(df_train_clean, y_train)"
   ]
  },
  {
   "cell_type": "code",
   "execution_count": 82,
   "id": "0d98f136-a0b0-458f-aa9c-ac7bed379cd7",
   "metadata": {},
   "outputs": [
    {
     "name": "stdout",
     "output_type": "stream",
     "text": [
      "0.7458361667898912 {'preprocessing__features_pipeline__age_imputer__metric': 'mean', 'preprocessing__union_pipeline__numerical_pipeline__poly_feat_transformer__degree': 1, 'preprocessing__union_pipeline__numerical_pipeline__poly_feat_transformer__include_bias': True, 'preprocessing__union_pipeline__numerical_pipeline__poly_feat_transformer__interaction_only': True}\n",
      "0.7458361667898912 {'preprocessing__features_pipeline__age_imputer__metric': 'mean', 'preprocessing__union_pipeline__numerical_pipeline__poly_feat_transformer__degree': 1, 'preprocessing__union_pipeline__numerical_pipeline__poly_feat_transformer__include_bias': True, 'preprocessing__union_pipeline__numerical_pipeline__poly_feat_transformer__interaction_only': False}\n",
      "0.7458361667898912 {'preprocessing__features_pipeline__age_imputer__metric': 'mean', 'preprocessing__union_pipeline__numerical_pipeline__poly_feat_transformer__degree': 1, 'preprocessing__union_pipeline__numerical_pipeline__poly_feat_transformer__include_bias': False, 'preprocessing__union_pipeline__numerical_pipeline__poly_feat_transformer__interaction_only': True}\n",
      "0.7458361667898912 {'preprocessing__features_pipeline__age_imputer__metric': 'mean', 'preprocessing__union_pipeline__numerical_pipeline__poly_feat_transformer__degree': 1, 'preprocessing__union_pipeline__numerical_pipeline__poly_feat_transformer__include_bias': False, 'preprocessing__union_pipeline__numerical_pipeline__poly_feat_transformer__interaction_only': False}\n",
      "0.265400755790606 {'preprocessing__features_pipeline__age_imputer__metric': 'mean', 'preprocessing__union_pipeline__numerical_pipeline__poly_feat_transformer__degree': 2, 'preprocessing__union_pipeline__numerical_pipeline__poly_feat_transformer__include_bias': True, 'preprocessing__union_pipeline__numerical_pipeline__poly_feat_transformer__interaction_only': True}\n",
      "0.33552122941364315 {'preprocessing__features_pipeline__age_imputer__metric': 'mean', 'preprocessing__union_pipeline__numerical_pipeline__poly_feat_transformer__degree': 2, 'preprocessing__union_pipeline__numerical_pipeline__poly_feat_transformer__include_bias': True, 'preprocessing__union_pipeline__numerical_pipeline__poly_feat_transformer__interaction_only': False}\n",
      "0.265400755790606 {'preprocessing__features_pipeline__age_imputer__metric': 'mean', 'preprocessing__union_pipeline__numerical_pipeline__poly_feat_transformer__degree': 2, 'preprocessing__union_pipeline__numerical_pipeline__poly_feat_transformer__include_bias': False, 'preprocessing__union_pipeline__numerical_pipeline__poly_feat_transformer__interaction_only': True}\n",
      "0.33552122941364315 {'preprocessing__features_pipeline__age_imputer__metric': 'mean', 'preprocessing__union_pipeline__numerical_pipeline__poly_feat_transformer__degree': 2, 'preprocessing__union_pipeline__numerical_pipeline__poly_feat_transformer__include_bias': False, 'preprocessing__union_pipeline__numerical_pipeline__poly_feat_transformer__interaction_only': False}\n",
      "0.06961550591687578 {'preprocessing__features_pipeline__age_imputer__metric': 'mean', 'preprocessing__union_pipeline__numerical_pipeline__poly_feat_transformer__degree': 3, 'preprocessing__union_pipeline__numerical_pipeline__poly_feat_transformer__include_bias': True, 'preprocessing__union_pipeline__numerical_pipeline__poly_feat_transformer__interaction_only': True}\n",
      "0.0814757589926411 {'preprocessing__features_pipeline__age_imputer__metric': 'mean', 'preprocessing__union_pipeline__numerical_pipeline__poly_feat_transformer__degree': 3, 'preprocessing__union_pipeline__numerical_pipeline__poly_feat_transformer__include_bias': True, 'preprocessing__union_pipeline__numerical_pipeline__poly_feat_transformer__interaction_only': False}\n",
      "0.06961550591687578 {'preprocessing__features_pipeline__age_imputer__metric': 'mean', 'preprocessing__union_pipeline__numerical_pipeline__poly_feat_transformer__degree': 3, 'preprocessing__union_pipeline__numerical_pipeline__poly_feat_transformer__include_bias': False, 'preprocessing__union_pipeline__numerical_pipeline__poly_feat_transformer__interaction_only': True}\n",
      "0.0814757589926411 {'preprocessing__features_pipeline__age_imputer__metric': 'mean', 'preprocessing__union_pipeline__numerical_pipeline__poly_feat_transformer__degree': 3, 'preprocessing__union_pipeline__numerical_pipeline__poly_feat_transformer__include_bias': False, 'preprocessing__union_pipeline__numerical_pipeline__poly_feat_transformer__interaction_only': False}\n",
      "0.7458361667898912 {'preprocessing__features_pipeline__age_imputer__metric': 'median', 'preprocessing__union_pipeline__numerical_pipeline__poly_feat_transformer__degree': 1, 'preprocessing__union_pipeline__numerical_pipeline__poly_feat_transformer__include_bias': True, 'preprocessing__union_pipeline__numerical_pipeline__poly_feat_transformer__interaction_only': True}\n",
      "0.7458361667898912 {'preprocessing__features_pipeline__age_imputer__metric': 'median', 'preprocessing__union_pipeline__numerical_pipeline__poly_feat_transformer__degree': 1, 'preprocessing__union_pipeline__numerical_pipeline__poly_feat_transformer__include_bias': True, 'preprocessing__union_pipeline__numerical_pipeline__poly_feat_transformer__interaction_only': False}\n",
      "0.7458361667898912 {'preprocessing__features_pipeline__age_imputer__metric': 'median', 'preprocessing__union_pipeline__numerical_pipeline__poly_feat_transformer__degree': 1, 'preprocessing__union_pipeline__numerical_pipeline__poly_feat_transformer__include_bias': False, 'preprocessing__union_pipeline__numerical_pipeline__poly_feat_transformer__interaction_only': True}\n",
      "0.7458361667898912 {'preprocessing__features_pipeline__age_imputer__metric': 'median', 'preprocessing__union_pipeline__numerical_pipeline__poly_feat_transformer__degree': 1, 'preprocessing__union_pipeline__numerical_pipeline__poly_feat_transformer__include_bias': False, 'preprocessing__union_pipeline__numerical_pipeline__poly_feat_transformer__interaction_only': False}\n",
      "0.265400755790606 {'preprocessing__features_pipeline__age_imputer__metric': 'median', 'preprocessing__union_pipeline__numerical_pipeline__poly_feat_transformer__degree': 2, 'preprocessing__union_pipeline__numerical_pipeline__poly_feat_transformer__include_bias': True, 'preprocessing__union_pipeline__numerical_pipeline__poly_feat_transformer__interaction_only': True}\n",
      "0.33552122941364315 {'preprocessing__features_pipeline__age_imputer__metric': 'median', 'preprocessing__union_pipeline__numerical_pipeline__poly_feat_transformer__degree': 2, 'preprocessing__union_pipeline__numerical_pipeline__poly_feat_transformer__include_bias': True, 'preprocessing__union_pipeline__numerical_pipeline__poly_feat_transformer__interaction_only': False}\n",
      "0.265400755790606 {'preprocessing__features_pipeline__age_imputer__metric': 'median', 'preprocessing__union_pipeline__numerical_pipeline__poly_feat_transformer__degree': 2, 'preprocessing__union_pipeline__numerical_pipeline__poly_feat_transformer__include_bias': False, 'preprocessing__union_pipeline__numerical_pipeline__poly_feat_transformer__interaction_only': True}\n",
      "0.33552122941364315 {'preprocessing__features_pipeline__age_imputer__metric': 'median', 'preprocessing__union_pipeline__numerical_pipeline__poly_feat_transformer__degree': 2, 'preprocessing__union_pipeline__numerical_pipeline__poly_feat_transformer__include_bias': False, 'preprocessing__union_pipeline__numerical_pipeline__poly_feat_transformer__interaction_only': False}\n",
      "0.06961550591687578 {'preprocessing__features_pipeline__age_imputer__metric': 'median', 'preprocessing__union_pipeline__numerical_pipeline__poly_feat_transformer__degree': 3, 'preprocessing__union_pipeline__numerical_pipeline__poly_feat_transformer__include_bias': True, 'preprocessing__union_pipeline__numerical_pipeline__poly_feat_transformer__interaction_only': True}\n",
      "0.0814757589926411 {'preprocessing__features_pipeline__age_imputer__metric': 'median', 'preprocessing__union_pipeline__numerical_pipeline__poly_feat_transformer__degree': 3, 'preprocessing__union_pipeline__numerical_pipeline__poly_feat_transformer__include_bias': True, 'preprocessing__union_pipeline__numerical_pipeline__poly_feat_transformer__interaction_only': False}\n",
      "0.06961550591687578 {'preprocessing__features_pipeline__age_imputer__metric': 'median', 'preprocessing__union_pipeline__numerical_pipeline__poly_feat_transformer__degree': 3, 'preprocessing__union_pipeline__numerical_pipeline__poly_feat_transformer__include_bias': False, 'preprocessing__union_pipeline__numerical_pipeline__poly_feat_transformer__interaction_only': True}\n",
      "0.0814757589926411 {'preprocessing__features_pipeline__age_imputer__metric': 'median', 'preprocessing__union_pipeline__numerical_pipeline__poly_feat_transformer__degree': 3, 'preprocessing__union_pipeline__numerical_pipeline__poly_feat_transformer__include_bias': False, 'preprocessing__union_pipeline__numerical_pipeline__poly_feat_transformer__interaction_only': False}\n"
     ]
    }
   ],
   "source": [
    "cvres = grid_search_svm.cv_results_\n",
    "\n",
    "# (approximated) RMSE\n",
    "for mean_score, params in zip(cvres[\"mean_test_score\"], cvres[\"params\"]):\n",
    "    print(mean_score, params)"
   ]
  },
  {
   "cell_type": "code",
   "execution_count": 83,
   "id": "af501062-e4cf-4f06-a321-0176fc4ef807",
   "metadata": {},
   "outputs": [
    {
     "data": {
      "text/plain": [
       "{'preprocessing__features_pipeline__age_imputer__metric': 'mean',\n",
       " 'preprocessing__union_pipeline__numerical_pipeline__poly_feat_transformer__degree': 1,\n",
       " 'preprocessing__union_pipeline__numerical_pipeline__poly_feat_transformer__include_bias': True,\n",
       " 'preprocessing__union_pipeline__numerical_pipeline__poly_feat_transformer__interaction_only': True}"
      ]
     },
     "execution_count": 83,
     "metadata": {},
     "output_type": "execute_result"
    }
   ],
   "source": [
    "# best params\n",
    "grid_search_svm.best_params_"
   ]
  },
  {
   "cell_type": "code",
   "execution_count": 84,
   "id": "8d4f0aad-130e-4545-b54f-8ae1da9a007e",
   "metadata": {},
   "outputs": [
    {
     "name": "stdout",
     "output_type": "stream",
     "text": [
      "Best score: 0.7458361667898912 +- 0.024518989695794084\n"
     ]
    }
   ],
   "source": [
    "# get the approximated RMSE and its standard deviation\n",
    "best_index = grid_search_svm.best_index_\n",
    "best_score = grid_search_svm.cv_results_['mean_test_score'][best_index]\n",
    "best_score_std = grid_search_svm.cv_results_['std_test_score'][best_index]\n",
    "\n",
    "print(f'Best score: {best_score} +- {best_score_std}')"
   ]
  },
  {
   "cell_type": "markdown",
   "id": "6e9e48c6-8450-4ed0-b345-1681324f8797",
   "metadata": {
    "tags": []
   },
   "source": [
    "### 6.3. Training the Models"
   ]
  },
  {
   "cell_type": "markdown",
   "id": "456f20c2-ca1a-409d-9063-cbed0502b23b",
   "metadata": {},
   "source": [
    "## 🔬🧪 7. Evaluation on the Test Set"
   ]
  },
  {
   "cell_type": "markdown",
   "id": "ecc216ba-a391-45e6-a470-8d4a8d1b63dc",
   "metadata": {},
   "source": [
    "### 7.1. Prepare the Data"
   ]
  },
  {
   "cell_type": "code",
   "execution_count": 85,
   "id": "94ddaf03-11fc-4260-b6c6-27c7a660dd3d",
   "metadata": {},
   "outputs": [
    {
     "name": "stdout",
     "output_type": "stream",
     "text": [
      "<class 'pandas.core.frame.DataFrame'>\n",
      "RangeIndex: 418 entries, 0 to 417\n",
      "Data columns (total 11 columns):\n",
      " #   Column       Non-Null Count  Dtype  \n",
      "---  ------       --------------  -----  \n",
      " 0   PassengerId  418 non-null    int64  \n",
      " 1   Pclass       418 non-null    int64  \n",
      " 2   Name         418 non-null    object \n",
      " 3   Sex          418 non-null    object \n",
      " 4   Age          332 non-null    float64\n",
      " 5   SibSp        418 non-null    int64  \n",
      " 6   Parch        418 non-null    int64  \n",
      " 7   Ticket       418 non-null    object \n",
      " 8   Fare         417 non-null    float64\n",
      " 9   Cabin        91 non-null     object \n",
      " 10  Embarked     418 non-null    object \n",
      "dtypes: float64(2), int64(4), object(5)\n",
      "memory usage: 36.0+ KB\n"
     ]
    }
   ],
   "source": [
    "### Load the testing set\n",
    "df_test = pd.read_csv('./datasets/test.csv')\n",
    "\n",
    "df_test.info()"
   ]
  },
  {
   "cell_type": "markdown",
   "id": "f4987535-b779-4863-bdeb-1a6de6f579f1",
   "metadata": {},
   "source": [
    "### 7.2. Prediction"
   ]
  },
  {
   "cell_type": "code",
   "execution_count": 86,
   "id": "a2fa43e9-91bb-4f22-bc7c-1ff20c175a11",
   "metadata": {},
   "outputs": [],
   "source": [
    "### linear regression evaluation\n",
    "best_model_lin = grid_search_lin.best_estimator_\n",
    "y_pred_lin = best_model_lin.predict(df_test)\n",
    "\n",
    "### tree regression evaluation\n",
    "best_model_tree = grid_search_tree.best_estimator_\n",
    "y_pred_tree = best_model_tree.predict(df_test)\n",
    "\n",
    "### kn regression evaluation\n",
    "best_model_kn = grid_search_kn.best_estimator_\n",
    "y_pred_kn = best_model_kn.predict(df_test)"
   ]
  },
  {
   "cell_type": "code",
   "execution_count": 87,
   "id": "6e06b2bd-ea48-4384-86ed-58fb8d62a0ab",
   "metadata": {},
   "outputs": [
    {
     "data": {
      "text/plain": [
       "array([False, False, False, False,  True, False,  True, False,  True,\n",
       "       False, False, False,  True, False,  True,  True, False, False,\n",
       "       False,  True, False, False,  True,  True,  True, False,  True,\n",
       "       False, False, False, False, False, False,  True,  True, False,\n",
       "        True,  True, False, False, False, False, False,  True,  True,\n",
       "       False, False, False,  True, False, False, False,  True,  True,\n",
       "       False, False, False, False, False,  True, False, False, False,\n",
       "        True, False,  True,  True, False, False,  True,  True, False,\n",
       "        True, False,  True, False, False,  True, False,  True, False,\n",
       "        True, False, False, False, False,  True,  True,  True,  True,\n",
       "        True, False,  True, False,  True, False,  True, False,  True,\n",
       "       False,  True, False, False, False,  True, False, False, False,\n",
       "       False, False, False,  True,  True,  True,  True, False, False,\n",
       "        True, False,  True,  True, False,  True, False, False,  True,\n",
       "       False,  True, False, False, False, False,  True, False, False,\n",
       "       False, False, False,  True, False, False,  True, False, False,\n",
       "       False, False, False, False, False, False,  True, False, False,\n",
       "       False, False, False,  True,  True, False,  True,  True, False,\n",
       "        True, False, False,  True, False, False,  True,  True, False,\n",
       "       False, False, False, False,  True,  True, False,  True,  True,\n",
       "       False,  True,  True, False,  True, False,  True, False, False,\n",
       "       False, False, False, False, False,  True, False,  True,  True,\n",
       "       False,  True,  True,  True,  True,  True, False, False,  True,\n",
       "       False,  True, False, False, False, False,  True, False, False,\n",
       "        True, False,  True, False,  True, False,  True, False,  True,\n",
       "        True, False,  True, False, False, False,  True, False, False,\n",
       "       False, False,  True, False,  True,  True,  True,  True, False,\n",
       "       False, False, False,  True, False,  True,  True,  True, False,\n",
       "       False, False, False, False, False, False,  True, False, False,\n",
       "       False,  True,  True, False, False, False, False,  True, False,\n",
       "       False, False,  True,  True, False,  True, False, False, False,\n",
       "       False,  True, False,  True,  True,  True, False, False, False,\n",
       "       False, False, False,  True, False, False, False, False,  True,\n",
       "       False, False, False, False, False, False, False,  True,  True,\n",
       "       False, False, False,  True, False, False, False,  True,  True,\n",
       "        True,  True, False, False, False, False, False, False, False,\n",
       "        True, False,  True, False, False, False,  True, False, False,\n",
       "        True, False, False, False, False, False, False, False, False,\n",
       "       False,  True, False,  True, False,  True, False,  True,  True,\n",
       "       False, False, False,  True, False,  True, False, False,  True,\n",
       "       False,  True,  True, False,  True, False, False,  True,  True,\n",
       "       False, False,  True, False, False,  True,  True, False, False,\n",
       "       False, False, False, False,  True,  True, False,  True, False,\n",
       "       False, False, False, False,  True, False, False, False,  True,\n",
       "       False,  True, False, False,  True, False,  True,  True, False,\n",
       "       False, False,  True,  True,  True,  True,  True,  True, False,\n",
       "        True, False, False, False])"
      ]
     },
     "execution_count": 87,
     "metadata": {},
     "output_type": "execute_result"
    }
   ],
   "source": [
    "y_pred_lin"
   ]
  },
  {
   "cell_type": "code",
   "execution_count": 88,
   "id": "9bd9df1a-dddd-4560-82a2-bffa2b30e505",
   "metadata": {},
   "outputs": [
    {
     "data": {
      "text/plain": [
       "array([False, False, False, False, False, False, False, False,  True,\n",
       "       False, False, False,  True, False,  True,  True, False,  True,\n",
       "        True, False,  True,  True,  True, False,  True, False,  True,\n",
       "       False,  True, False, False, False,  True, False,  True,  True,\n",
       "       False, False, False,  True, False, False, False,  True,  True,\n",
       "       False, False, False,  True,  True, False, False,  True, False,\n",
       "        True, False, False, False, False,  True, False, False, False,\n",
       "        True,  True,  True,  True, False, False,  True,  True, False,\n",
       "       False, False,  True,  True, False,  True, False,  True,  True,\n",
       "       False, False, False, False, False,  True,  True,  True,  True,\n",
       "       False, False, False, False,  True, False,  True,  True, False,\n",
       "       False,  True, False, False, False,  True, False, False, False,\n",
       "       False, False, False,  True,  True, False,  True,  True, False,\n",
       "        True, False,  True,  True, False,  True, False, False, False,\n",
       "       False,  True, False, False, False,  True, False, False, False,\n",
       "       False, False, False, False, False, False,  True, False, False,\n",
       "       False, False, False, False, False, False,  True, False, False,\n",
       "        True, False, False,  True, False, False,  True,  True,  True,\n",
       "        True, False, False, False, False, False,  True, False, False,\n",
       "       False, False, False, False,  True,  True,  True,  True,  True,\n",
       "       False,  True,  True, False,  True, False,  True,  True, False,\n",
       "       False, False, False,  True, False,  True, False,  True, False,\n",
       "       False, False,  True,  True, False,  True, False, False, False,\n",
       "       False,  True, False, False, False, False, False, False, False,\n",
       "        True,  True,  True, False,  True, False,  True, False,  True,\n",
       "       False, False,  True, False, False, False,  True, False, False,\n",
       "        True, False,  True,  True,  True,  True,  True,  True, False,\n",
       "       False, False, False,  True, False,  True, False, False, False,\n",
       "        True, False,  True, False, False, False,  True, False, False,\n",
       "       False,  True,  True, False, False, False, False, False, False,\n",
       "       False, False,  True,  True, False,  True, False, False, False,\n",
       "       False, False,  True,  True, False,  True, False, False, False,\n",
       "       False, False, False, False, False, False, False, False, False,\n",
       "       False, False, False, False, False, False, False,  True, False,\n",
       "       False,  True,  True, False, False,  True, False, False,  True,\n",
       "        True, False, False, False, False, False, False, False,  True,\n",
       "        True, False,  True, False, False, False,  True, False, False,\n",
       "       False, False,  True,  True, False, False, False, False, False,\n",
       "       False,  True, False,  True, False, False, False,  True,  True,\n",
       "       False, False, False,  True, False,  True, False, False, False,\n",
       "       False,  True,  True, False,  True,  True, False,  True,  True,\n",
       "        True, False,  True, False, False,  True,  True, False, False,\n",
       "       False, False, False, False, False, False, False,  True, False,\n",
       "       False, False, False, False,  True,  True, False, False,  True,\n",
       "       False,  True, False, False,  True, False,  True, False, False,\n",
       "        True, False, False,  True,  True,  True,  True, False, False,\n",
       "        True, False, False, False])"
      ]
     },
     "execution_count": 88,
     "metadata": {},
     "output_type": "execute_result"
    }
   ],
   "source": [
    "y_pred_tree"
   ]
  },
  {
   "cell_type": "code",
   "execution_count": 89,
   "id": "61ec1b69-476b-4ee6-8acc-66e273c4b0d1",
   "metadata": {},
   "outputs": [
    {
     "data": {
      "text/plain": [
       "array([False, False, False, False, False, False,  True, False,  True,\n",
       "       False, False, False,  True, False,  True,  True, False, False,\n",
       "       False, False,  True, False,  True,  True,  True, False,  True,\n",
       "       False, False, False, False, False, False, False, False, False,\n",
       "       False, False, False, False, False,  True, False,  True,  True,\n",
       "       False, False, False,  True,  True, False, False,  True,  True,\n",
       "       False, False, False, False, False,  True, False, False, False,\n",
       "        True,  True,  True,  True, False, False,  True,  True, False,\n",
       "       False, False,  True,  True, False,  True, False,  True,  True,\n",
       "        True, False, False, False, False,  True, False,  True,  True,\n",
       "       False, False,  True, False, False, False,  True, False, False,\n",
       "       False,  True, False, False, False, False, False, False, False,\n",
       "       False, False, False,  True,  True,  True,  True, False, False,\n",
       "        True,  True,  True,  True, False,  True, False, False,  True,\n",
       "       False,  True, False, False, False, False, False, False, False,\n",
       "       False, False, False, False, False, False,  True,  True, False,\n",
       "       False, False, False, False,  True, False,  True, False, False,\n",
       "        True, False, False,  True, False, False,  True,  True,  True,\n",
       "        True, False, False, False, False, False,  True, False, False,\n",
       "       False, False, False, False,  True,  True,  True,  True,  True,\n",
       "       False,  True,  True, False,  True, False,  True, False, False,\n",
       "       False, False,  True,  True, False,  True, False,  True, False,\n",
       "       False, False,  True,  True,  True,  True, False, False,  True,\n",
       "       False,  True, False, False, False, False,  True, False, False,\n",
       "        True,  True,  True, False,  True, False,  True, False,  True,\n",
       "        True, False,  True, False, False, False,  True, False, False,\n",
       "        True, False,  True, False,  True,  True,  True,  True,  True,\n",
       "       False, False, False,  True, False,  True,  True,  True, False,\n",
       "        True, False, False, False, False, False,  True, False, False,\n",
       "       False,  True,  True, False, False, False, False, False, False,\n",
       "       False, False,  True,  True, False,  True, False, False, False,\n",
       "       False, False,  True,  True,  True,  True, False, False, False,\n",
       "       False, False, False,  True, False, False, False, False,  True,\n",
       "       False, False, False, False, False, False, False,  True,  True,\n",
       "        True,  True, False, False, False, False, False,  True,  True,\n",
       "        True,  True, False, False, False, False, False, False,  True,\n",
       "        True, False,  True,  True, False, False,  True, False, False,\n",
       "       False, False,  True, False, False, False, False, False, False,\n",
       "       False,  True, False, False, False, False, False,  True,  True,\n",
       "       False, False, False,  True, False,  True, False, False, False,\n",
       "       False,  True,  True, False,  True, False, False, False,  True,\n",
       "       False, False,  True, False, False,  True,  True, False, False,\n",
       "       False, False, False, False, False, False, False,  True, False,\n",
       "       False, False, False,  True,  True,  True, False, False,  True,\n",
       "       False,  True, False, False,  True, False,  True, False, False,\n",
       "       False, False,  True,  True,  True,  True,  True, False, False,\n",
       "        True, False, False, False])"
      ]
     },
     "execution_count": 89,
     "metadata": {},
     "output_type": "execute_result"
    }
   ],
   "source": [
    "y_pred_kn"
   ]
  },
  {
   "cell_type": "markdown",
   "id": "3ea1cbc1-a3f2-40cd-badf-533cde7698e0",
   "metadata": {
    "tags": []
   },
   "source": [
    "#### Visual Analysis\n",
    "\n",
    "Visualizing the performance of the best model prediction prices in comparison to the real prices"
   ]
  },
  {
   "cell_type": "markdown",
   "id": "251647d1-d11d-40b6-ba33-4a79e13a7b76",
   "metadata": {},
   "source": [
    "### 7.3. Comparing the model with the Baseline\n"
   ]
  },
  {
   "cell_type": "markdown",
   "id": "eec792ad-492e-4e9a-bfbb-c4bffb6e24aa",
   "metadata": {},
   "source": [
    "### Discussion"
   ]
  },
  {
   "cell_type": "markdown",
   "id": "63fb415c-f375-43f9-841b-09beda222dd4",
   "metadata": {},
   "source": []
  },
  {
   "cell_type": "code",
   "execution_count": null,
   "id": "b413580c-1843-4397-8fdb-516952bea3b7",
   "metadata": {},
   "outputs": [],
   "source": []
  }
 ],
 "metadata": {
  "kernelspec": {
   "display_name": "Python 3",
   "language": "python",
   "name": "python3"
  },
  "language_info": {
   "codemirror_mode": {
    "name": "ipython",
    "version": 3
   },
   "file_extension": ".py",
   "mimetype": "text/x-python",
   "name": "python",
   "nbconvert_exporter": "python",
   "pygments_lexer": "ipython3",
   "version": "3.9.4"
  }
 },
 "nbformat": 4,
 "nbformat_minor": 5
}
